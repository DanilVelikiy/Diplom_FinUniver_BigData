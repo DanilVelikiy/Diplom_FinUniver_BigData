{
 "cells": [
  {
   "cell_type": "markdown",
   "id": "e580e599-d191-4197-86f0-2a7189edd0fd",
   "metadata": {},
   "source": [
    "Для того что бы сделать то, что я хочу, мне надо в исходно таблице для каждого Продукта в каком то сегменте добавить еще строки с другими сегментами. Хотя, возможно и этого не надо, так как наверно такие варинаты уже есть в исходной таблице."
   ]
  }
 ],
 "metadata": {
  "kernelspec": {
   "display_name": "Python 3 (ipykernel)",
   "language": "python",
   "name": "python3"
  },
  "language_info": {
   "codemirror_mode": {
    "name": "ipython",
    "version": 3
   },
   "file_extension": ".py",
   "mimetype": "text/x-python",
   "name": "python",
   "nbconvert_exporter": "python",
   "pygments_lexer": "ipython3",
   "version": "3.8.10"
  }
 },
 "nbformat": 4,
 "nbformat_minor": 5
}
