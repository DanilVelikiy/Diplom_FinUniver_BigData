{
 "cells": [
  {
   "cell_type": "code",
   "execution_count": 1,
   "id": "15c3d1f4-23e0-4bb0-93cd-13e7d3b5fc66",
   "metadata": {
    "execution": {
     "iopub.execute_input": "2023-09-12T16:22:44.916560Z",
     "iopub.status.busy": "2023-09-12T16:22:44.916240Z",
     "iopub.status.idle": "2023-09-12T16:22:47.012660Z",
     "shell.execute_reply": "2023-09-12T16:22:47.005103Z",
     "shell.execute_reply.started": "2023-09-12T16:22:44.916526Z"
    }
   },
   "outputs": [
    {
     "ename": "ModuleNotFoundError",
     "evalue": "No module named 'neuralprophet'",
     "output_type": "error",
     "traceback": [
      "\u001b[0;31m---------------------------------------------------------------------------\u001b[0m",
      "\u001b[0;31mModuleNotFoundError\u001b[0m                       Traceback (most recent call last)",
      "Cell \u001b[0;32mIn[1], line 5\u001b[0m\n\u001b[1;32m      3\u001b[0m \u001b[38;5;66;03m#import seaborn as sns\u001b[39;00m\n\u001b[1;32m      4\u001b[0m \u001b[38;5;28;01mimport\u001b[39;00m \u001b[38;5;21;01mmath\u001b[39;00m\n\u001b[0;32m----> 5\u001b[0m \u001b[38;5;28;01mfrom\u001b[39;00m \u001b[38;5;21;01mneuralprophet\u001b[39;00m \u001b[38;5;28;01mimport\u001b[39;00m NeuralProphet\n",
      "\u001b[0;31mModuleNotFoundError\u001b[0m: No module named 'neuralprophet'"
     ]
    }
   ],
   "source": [
    "import pandas as pd\n",
    "import numpy as np\n",
    "#import seaborn as sns\n",
    "import math\n",
    "from neuralprophet import NeuralProphet"
   ]
  },
  {
   "cell_type": "code",
   "execution_count": null,
   "id": "e1aea2bb-c446-4772-9be7-163ed82472b6",
   "metadata": {
    "execution": {
     "iopub.status.busy": "2023-09-12T16:22:47.014577Z",
     "iopub.status.idle": "2023-09-12T16:22:47.015611Z",
     "shell.execute_reply": "2023-09-12T16:22:47.015127Z",
     "shell.execute_reply.started": "2023-09-12T16:22:47.015074Z"
    }
   },
   "outputs": [],
   "source": [
    "file = 'df4eda.csv'\n",
    "df4eda = pd.read_csv(file, index_col=0)\n",
    "df4eda"
   ]
  },
  {
   "cell_type": "code",
   "execution_count": null,
   "id": "7eb662b8-e3e5-43f5-8836-ef451af93640",
   "metadata": {
    "execution": {
     "iopub.status.busy": "2023-09-12T16:22:47.018161Z",
     "iopub.status.idle": "2023-09-12T16:22:47.018794Z",
     "shell.execute_reply": "2023-09-12T16:22:47.018492Z",
     "shell.execute_reply.started": "2023-09-12T16:22:47.018460Z"
    }
   },
   "outputs": [],
   "source": [
    "df = df4eda.copy()\n",
    "#df.drop(['Zip', 'Region', 'Quarter', 'MonthName', 'Segment', 'RunningMonths', 'isVanArsdel',\n",
    "#                   'MfgisVanArsdel', 'District', 'MonthIndex', 'MonthID', 'Month',\n",
    "#                    'IsCompeteHide', 'ManufacturerID_y', 'Rolling Period Sort', 'Running Year',\n",
    "#                   'Manufacturer', 'Product', 'Rolling Period', 'Running Months', 'ProductID',\n",
    "#        'Units', 'Category', 'ManufacturerID_x', 'IsCompete', 'MonthNo', 'Year', 'City', 'State'], axis=1, inplace=True)\n",
    "df = df[['Date','Revenue_T']]\n",
    "df = df.rename(columns={\"Date\": \"ds\"})"
   ]
  },
  {
   "cell_type": "code",
   "execution_count": null,
   "id": "295009f3-1c90-4c69-a4a1-6273c809ca4e",
   "metadata": {
    "execution": {
     "iopub.status.busy": "2023-09-12T16:22:47.021373Z",
     "iopub.status.idle": "2023-09-12T16:22:47.022047Z",
     "shell.execute_reply": "2023-09-12T16:22:47.021750Z",
     "shell.execute_reply.started": "2023-09-12T16:22:47.021718Z"
    }
   },
   "outputs": [],
   "source": [
    "df.info()"
   ]
  },
  {
   "cell_type": "code",
   "execution_count": null,
   "id": "10cef877-c149-4ed1-b05a-5d91c913cf0a",
   "metadata": {
    "execution": {
     "iopub.status.busy": "2023-09-12T16:22:47.024202Z",
     "iopub.status.idle": "2023-09-12T16:22:47.024830Z",
     "shell.execute_reply": "2023-09-12T16:22:47.024532Z",
     "shell.execute_reply.started": "2023-09-12T16:22:47.024500Z"
    }
   },
   "outputs": [],
   "source": [
    "# удаление дубликатов\n",
    "df = df.drop_duplicates()\n",
    "\n",
    "#агрегация и суммирование по датам\n",
    "agg_func_math = {\n",
    "    'Revenue_T': ['sum']\n",
    "}\n",
    "\n",
    "# группирую по дате (месяц-год) и считаю статистические величины и все округляю до второго знака\n",
    "df = df.groupby(['ds']).agg(agg_func_math).round(2).reset_index()"
   ]
  },
  {
   "cell_type": "code",
   "execution_count": null,
   "id": "a95e04b4-0e68-403c-a1d7-8da11c969757",
   "metadata": {
    "execution": {
     "iopub.status.busy": "2023-09-12T16:22:47.026558Z",
     "iopub.status.idle": "2023-09-12T16:22:47.026996Z",
     "shell.execute_reply": "2023-09-12T16:22:47.026776Z",
     "shell.execute_reply.started": "2023-09-12T16:22:47.026755Z"
    }
   },
   "outputs": [],
   "source": [
    "duplicate_rows_df = df[df.duplicated()]\n",
    "print(duplicate_rows_df)\n",
    "print(\"number of duplicate rows: \", duplicate_rows_df.shape)"
   ]
  },
  {
   "cell_type": "code",
   "execution_count": null,
   "id": "44b2bf1c-56fd-4f4c-ab9c-6b13a49545a5",
   "metadata": {
    "execution": {
     "iopub.status.busy": "2023-09-12T16:22:47.027833Z",
     "iopub.status.idle": "2023-09-12T16:22:47.028255Z",
     "shell.execute_reply": "2023-09-12T16:22:47.028053Z",
     "shell.execute_reply.started": "2023-09-12T16:22:47.028032Z"
    }
   },
   "outputs": [],
   "source": [
    "# в новом датасете создам из названий мультииндексных родительских, объединяя через нижнее подчеркивание\n",
    "df.columns = ['_'.join(col) for col in df.columns.values]\n",
    "\n",
    "# сброшу индексы\n",
    "df = df.reset_index()\n",
    "df"
   ]
  },
  {
   "cell_type": "code",
   "execution_count": null,
   "id": "fc33c7c9-6ebc-40e3-9b2e-805a0917caa2",
   "metadata": {
    "execution": {
     "iopub.status.busy": "2023-09-12T16:22:47.029501Z",
     "iopub.status.idle": "2023-09-12T16:22:47.029924Z",
     "shell.execute_reply": "2023-09-12T16:22:47.029721Z",
     "shell.execute_reply.started": "2023-09-12T16:22:47.029700Z"
    }
   },
   "outputs": [],
   "source": [
    "df = df.rename(columns={\"ds_\": \"ds\", \"Revenue_T_sum\": \"y\"})\n",
    "df.drop(['index'], axis=1, inplace=True)\n",
    "df"
   ]
  },
  {
   "cell_type": "code",
   "execution_count": null,
   "id": "b31896cf-7408-4546-abbb-1e09493fdd69",
   "metadata": {
    "execution": {
     "iopub.status.busy": "2023-09-12T16:22:47.031866Z",
     "iopub.status.idle": "2023-09-12T16:22:47.032549Z",
     "shell.execute_reply": "2023-09-12T16:22:47.032341Z",
     "shell.execute_reply.started": "2023-09-12T16:22:47.032318Z"
    }
   },
   "outputs": [],
   "source": [
    "#df['ds'] = df4eda['Date']\n",
    "#df['x'] = df4eda['Revenue_T']\n",
    "#df = df['ds'].concat(df['x'])\n",
    "#df"
   ]
  },
  {
   "cell_type": "code",
   "execution_count": null,
   "id": "fcfb77dc-7d5f-45d5-bdda-c1dac6d71035",
   "metadata": {
    "execution": {
     "iopub.status.busy": "2023-09-12T16:22:47.033994Z",
     "iopub.status.idle": "2023-09-12T16:22:47.034605Z",
     "shell.execute_reply": "2023-09-12T16:22:47.034398Z",
     "shell.execute_reply.started": "2023-09-12T16:22:47.034376Z"
    }
   },
   "outputs": [],
   "source": [
    "m = NeuralProphet()\n",
    "\n",
    "metrics = m.fit(df, freq=\"D\")\n",
    "\n",
    "forecast = m.predict(df)"
   ]
  },
  {
   "cell_type": "code",
   "execution_count": null,
   "id": "0cfb187e-7f45-48d1-8686-ccf5c88516da",
   "metadata": {
    "execution": {
     "iopub.status.busy": "2023-09-12T16:22:47.035947Z",
     "iopub.status.idle": "2023-09-12T16:22:47.036838Z",
     "shell.execute_reply": "2023-09-12T16:22:47.036567Z",
     "shell.execute_reply.started": "2023-09-12T16:22:47.036546Z"
    }
   },
   "outputs": [],
   "source": [
    "from prophet import Prophet\n",
    "\n",
    "m = Prophet()\n",
    "m.fit(df)\n",
    "\n",
    "future = m.make_future_dataframe(periods=365)\n",
    "future.tail()"
   ]
  },
  {
   "cell_type": "code",
   "execution_count": null,
   "id": "c2619940-269d-4855-b149-8f8e7c61a6da",
   "metadata": {
    "execution": {
     "iopub.status.busy": "2023-09-12T16:22:47.039418Z",
     "iopub.status.idle": "2023-09-12T16:22:47.040153Z",
     "shell.execute_reply": "2023-09-12T16:22:47.039960Z",
     "shell.execute_reply.started": "2023-09-12T16:22:47.039939Z"
    }
   },
   "outputs": [],
   "source": [
    "forecast = m.predict(future)\n",
    "forecast[['ds', 'yhat', 'yhat_lower', 'yhat_upper']].tail()"
   ]
  },
  {
   "cell_type": "code",
   "execution_count": null,
   "id": "7535119f-6520-471f-b4d8-ad54109fbc16",
   "metadata": {
    "execution": {
     "iopub.status.busy": "2023-09-12T16:22:47.041355Z",
     "iopub.status.idle": "2023-09-12T16:22:47.041817Z",
     "shell.execute_reply": "2023-09-12T16:22:47.041626Z",
     "shell.execute_reply.started": "2023-09-12T16:22:47.041606Z"
    }
   },
   "outputs": [],
   "source": [
    "fig1 = m.plot(forecast)"
   ]
  },
  {
   "cell_type": "code",
   "execution_count": null,
   "id": "7c777d8c-7cf3-4d73-89d3-47ea3cb1f431",
   "metadata": {
    "execution": {
     "iopub.status.busy": "2023-09-12T16:22:47.043174Z",
     "iopub.status.idle": "2023-09-12T16:22:47.043927Z",
     "shell.execute_reply": "2023-09-12T16:22:47.043680Z",
     "shell.execute_reply.started": "2023-09-12T16:22:47.043658Z"
    }
   },
   "outputs": [],
   "source": [
    "fig2 = m.plot_components(forecast)"
   ]
  },
  {
   "cell_type": "code",
   "execution_count": null,
   "id": "91def1ba-430e-430c-9b85-7302c578f2fe",
   "metadata": {
    "execution": {
     "iopub.status.busy": "2023-09-12T16:22:47.045053Z",
     "iopub.status.idle": "2023-09-12T16:22:47.045844Z",
     "shell.execute_reply": "2023-09-12T16:22:47.045609Z",
     "shell.execute_reply.started": "2023-09-12T16:22:47.045588Z"
    }
   },
   "outputs": [],
   "source": [
    "from prophet.plot import plot_plotly, plot_components_plotly\n",
    "\n",
    "plot_plotly(m, forecast)"
   ]
  },
  {
   "cell_type": "code",
   "execution_count": null,
   "id": "914c7017-251b-4586-8b3e-ed87db6c2acb",
   "metadata": {
    "execution": {
     "iopub.status.busy": "2023-09-12T16:22:47.046997Z",
     "iopub.status.idle": "2023-09-12T16:22:47.047460Z",
     "shell.execute_reply": "2023-09-12T16:22:47.047269Z",
     "shell.execute_reply.started": "2023-09-12T16:22:47.047248Z"
    }
   },
   "outputs": [],
   "source": [
    "plot_components_plotly(m, forecast)"
   ]
  },
  {
   "cell_type": "code",
   "execution_count": null,
   "id": "bb4d4956-94a7-4cb1-a562-0225d8b4397c",
   "metadata": {},
   "outputs": [],
   "source": []
  }
 ],
 "metadata": {
  "kernelspec": {
   "display_name": "Python 3 (ipykernel)",
   "language": "python",
   "name": "python3"
  },
  "language_info": {
   "codemirror_mode": {
    "name": "ipython",
    "version": 3
   },
   "file_extension": ".py",
   "mimetype": "text/x-python",
   "name": "python",
   "nbconvert_exporter": "python",
   "pygments_lexer": "ipython3",
   "version": "3.9.18"
  }
 },
 "nbformat": 4,
 "nbformat_minor": 5
}
