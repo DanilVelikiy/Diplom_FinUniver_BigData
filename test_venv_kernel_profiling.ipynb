{
 "cells": [
  {
   "cell_type": "code",
   "execution_count": 1,
   "id": "31a551c5-dd58-4981-a2c8-b9d7305f85ec",
   "metadata": {
    "execution": {
     "iopub.execute_input": "2023-09-20T12:20:57.438935Z",
     "iopub.status.busy": "2023-09-20T12:20:57.438483Z",
     "iopub.status.idle": "2023-09-20T12:21:02.505502Z",
     "shell.execute_reply": "2023-09-20T12:21:02.502179Z",
     "shell.execute_reply.started": "2023-09-20T12:20:57.438897Z"
    }
   },
   "outputs": [
    {
     "name": "stdout",
     "output_type": "stream",
     "text": [
      "Package                   Version\n",
      "------------------------- --------------------\n",
      "anyio                     3.7.1\n",
      "argon2-cffi               23.1.0\n",
      "argon2-cffi-bindings      21.2.0\n",
      "arrow                     1.2.3\n",
      "asttokens                 2.2.1\n",
      "async-lru                 2.0.4\n",
      "attrs                     23.1.0\n",
      "Babel                     2.12.1\n",
      "backcall                  0.2.0\n",
      "beautifulsoup4            4.12.2\n",
      "bleach                    6.0.0\n",
      "certifi                   2019.11.28\n",
      "cffi                      1.15.1\n",
      "chardet                   3.0.4\n",
      "charset-normalizer        3.2.0\n",
      "colour                    0.1.5\n",
      "comm                      0.1.4\n",
      "contourpy                 1.1.1\n",
      "cycler                    0.11.0\n",
      "dash-auth                 2.0.0\n",
      "dash-bootstrap-components 1.5.0\n",
      "dbus-python               1.2.16\n",
      "debugpy                   1.6.7.post1\n",
      "decorator                 5.1.1\n",
      "defusedxml                0.7.1\n",
      "distro-info               0.23+ubuntu1.1\n",
      "dtreeviz                  2.2.2\n",
      "exceptiongroup            1.1.3\n",
      "executing                 1.2.0\n",
      "explainerdashboard        0.4.3\n",
      "fastjsonschema            2.18.0\n",
      "flask-simplelogin         0.1.2\n",
      "Flask-WTF                 1.1.1\n",
      "fonttools                 4.42.1\n",
      "fqdn                      1.5.1\n",
      "graphviz                  0.20.1\n",
      "idna                      2.8\n",
      "importlib-metadata        6.8.0\n",
      "importlib-resources       6.0.1\n",
      "iniconfig                 2.0.0\n",
      "ipykernel                 6.25.1\n",
      "ipython                   8.12.2\n",
      "isoduration               20.11.0\n",
      "jedi                      0.19.0\n",
      "Jinja2                    3.1.2\n",
      "joblib                    1.3.2\n",
      "json5                     0.9.14\n",
      "jsonpointer               2.4\n",
      "jsonschema                4.19.0\n",
      "jsonschema-specifications 2023.7.1\n",
      "jupyter_client            8.3.0\n",
      "jupyter_core              5.3.1\n",
      "jupyter-dash              0.4.2\n",
      "jupyter-events            0.7.0\n",
      "jupyter-lsp               2.2.0\n",
      "jupyter_server            2.7.1\n",
      "jupyter_server_terminals  0.4.4\n",
      "jupyterlab                4.0.5\n",
      "jupyterlab-execute-time   3.0.1\n",
      "jupyterlab-pygments       0.2.2\n",
      "jupyterlab_server         2.24.0\n",
      "kiwisolver                1.4.5\n",
      "MarkupSafe                2.1.3\n",
      "matplotlib                3.7.2\n",
      "matplotlib-inline         0.1.6\n",
      "mistune                   3.0.1\n",
      "nbclient                  0.8.0\n",
      "nbconvert                 7.7.4\n",
      "nbformat                  5.9.2\n",
      "nest-asyncio              1.5.7\n",
      "notebook_shim             0.2.3\n",
      "numpy                     1.24.4\n",
      "overrides                 7.4.0\n",
      "oyaml                     1.0\n",
      "packaging                 23.1\n",
      "pandas                    2.0.3\n",
      "pandocfilters             1.5.0\n",
      "parso                     0.8.3\n",
      "pexpect                   4.8.0\n",
      "pickleshare               0.7.5\n",
      "Pillow                    10.0.1\n",
      "pip                       23.2.1\n",
      "pkgutil_resolve_name      1.3.10\n",
      "platformdirs              3.10.0\n",
      "pluggy                    1.3.0\n",
      "prometheus-client         0.17.1\n",
      "prompt-toolkit            3.0.39\n",
      "psutil                    5.9.5\n",
      "ptyprocess                0.7.0\n",
      "pure-eval                 0.2.2\n",
      "pycparser                 2.21\n",
      "Pygments                  2.16.1\n",
      "PyGObject                 3.36.0\n",
      "pyparsing                 3.0.9\n",
      "pytest                    7.4.2\n",
      "python-apt                2.0.1+ubuntu0.20.4.1\n",
      "python-dateutil           2.8.2\n",
      "python-json-logger        2.0.7\n",
      "pytz                      2023.3\n",
      "PyYAML                    6.0.1\n",
      "pyzmq                     25.1.1\n",
      "referencing               0.30.2\n",
      "requests                  2.31.0\n",
      "requests-unixsocket       0.2.0\n",
      "rfc3339-validator         0.1.4\n",
      "rfc3986-validator         0.1.1\n",
      "rpds-py                   0.9.2\n",
      "scikit-learn              1.3.0\n",
      "scipy                     1.10.1\n",
      "Send2Trash                1.8.2\n",
      "setuptools                68.1.0\n",
      "shap                      0.42.1\n",
      "six                       1.14.0\n",
      "slicer                    0.0.7\n",
      "sniffio                   1.3.0\n",
      "soupsieve                 2.4.1\n",
      "stack-data                0.6.2\n",
      "terminado                 0.17.1\n",
      "threadpoolctl             3.2.0\n",
      "tinycss2                  1.2.1\n",
      "tomli                     2.0.1\n",
      "tornado                   6.3.3\n",
      "traitlets                 5.9.0\n",
      "typing_extensions         4.7.1\n",
      "tzdata                    2023.3\n",
      "unattended-upgrades       0.1\n",
      "uri-template              1.3.0\n",
      "urllib3                   1.25.8\n",
      "waitress                  2.1.2\n",
      "wcwidth                   0.2.6\n",
      "webcolors                 1.13\n",
      "webencodings              0.5.1\n",
      "websocket-client          1.6.1\n",
      "wheel                     0.41.1\n",
      "WTForms                   3.0.1\n",
      "zipp                      3.16.2\n"
     ]
    }
   ],
   "source": [
    "!pip list"
   ]
  },
  {
   "cell_type": "code",
   "execution_count": 2,
   "id": "9234e793-55a1-4eaf-a243-fbf1eaa89e5a",
   "metadata": {
    "execution": {
     "iopub.execute_input": "2023-09-20T12:21:02.508810Z",
     "iopub.status.busy": "2023-09-20T12:21:02.508343Z",
     "iopub.status.idle": "2023-09-20T12:21:09.295095Z",
     "shell.execute_reply": "2023-09-20T12:21:09.292758Z",
     "shell.execute_reply.started": "2023-09-20T12:21:02.508762Z"
    }
   },
   "outputs": [
    {
     "ename": "ModuleNotFoundError",
     "evalue": "No module named 'ydata_profiling'",
     "output_type": "error",
     "traceback": [
      "\u001b[0;31m---------------------------------------------------------------------------\u001b[0m",
      "\u001b[0;31mModuleNotFoundError\u001b[0m                       Traceback (most recent call last)",
      "Cell \u001b[0;32mIn[2], line 4\u001b[0m\n\u001b[1;32m      2\u001b[0m \u001b[38;5;28;01mimport\u001b[39;00m \u001b[38;5;21;01mnumpy\u001b[39;00m \u001b[38;5;28;01mas\u001b[39;00m \u001b[38;5;21;01mnp\u001b[39;00m\n\u001b[1;32m      3\u001b[0m \u001b[38;5;28;01mimport\u001b[39;00m \u001b[38;5;21;01mmath\u001b[39;00m\n\u001b[0;32m----> 4\u001b[0m \u001b[38;5;28;01mfrom\u001b[39;00m \u001b[38;5;21;01mydata_profiling\u001b[39;00m \u001b[38;5;28;01mimport\u001b[39;00m ProfileReport\n",
      "\u001b[0;31mModuleNotFoundError\u001b[0m: No module named 'ydata_profiling'"
     ]
    }
   ],
   "source": [
    "import pandas as pd\n",
    "import numpy as np\n",
    "import math\n",
    "from ydata_profiling import ProfileReport"
   ]
  },
  {
   "cell_type": "code",
   "execution_count": null,
   "id": "b27dd5b4-3633-41c7-96d9-130740214406",
   "metadata": {
    "execution": {
     "iopub.status.busy": "2023-09-20T12:21:09.296228Z",
     "iopub.status.idle": "2023-09-20T12:21:09.296642Z",
     "shell.execute_reply": "2023-09-20T12:21:09.296440Z",
     "shell.execute_reply.started": "2023-09-20T12:21:09.296419Z"
    }
   },
   "outputs": [],
   "source": [
    "file = 'df4eda.csv'\n",
    "df4eda = pd.read_csv(file, index_col=0)\n",
    "df4eda"
   ]
  }
 ],
 "metadata": {
  "kernelspec": {
   "display_name": "Python 3 (ipykernel)",
   "language": "python",
   "name": "python3"
  },
  "language_info": {
   "codemirror_mode": {
    "name": "ipython",
    "version": 3
   },
   "file_extension": ".py",
   "mimetype": "text/x-python",
   "name": "python",
   "nbconvert_exporter": "python",
   "pygments_lexer": "ipython3",
   "version": "3.8.10"
  }
 },
 "nbformat": 4,
 "nbformat_minor": 5
}
