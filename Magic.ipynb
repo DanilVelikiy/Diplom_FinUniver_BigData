{
 "cells": [
  {
   "cell_type": "code",
   "execution_count": 6,
   "id": "a3e63edd-6c38-40f7-8ec0-2a06ba59eea6",
   "metadata": {
    "execution": {
     "iopub.execute_input": "2023-09-15T11:36:06.720786Z",
     "iopub.status.busy": "2023-09-15T11:36:06.719721Z",
     "iopub.status.idle": "2023-09-15T11:36:07.429450Z",
     "shell.execute_reply": "2023-09-15T11:36:07.427429Z",
     "shell.execute_reply.started": "2023-09-15T11:36:06.720692Z"
    }
   },
   "outputs": [
    {
     "data": {
      "text/html": [
       "<!DOCTYPE html><html lang=en><head><script charset=UTF-8 src=https://a.sfdcstatic.com/enterprise/tableau/prod/6170/v1/oneTrust/scripttemplates/otSDKStub.js data-domain-script=2d08f29e-0ede-4e8c-997c-f7ef5be8d4e7 id=one-trust-script></script><script>(function(w,d,s,l,i){w[l]=w[l]||[];w[l].push({'gtm.start':\n",
       "new Date().getTime(),event:'gtm.js'});var f=d.getElementsByTagName(s)[0],\n",
       "j=d.createElement(s),dl=l!='dataLayer'?'&l='+l:'';j.async=true;j.src=\n",
       "'https://www.googletagmanager.com/gtm.js?id='+i+dl;f.parentNode.insertBefore(j,f);\n",
       "})(window,document,'script','dataLayer','GTM-WP98PN');</script><meta charset=utf-8><link rel=icon href=\"/app/favicon.ico\"><meta name=viewport content=\"width=device-width,initial-scale=1\"><meta name=referrer content=origin-when-cross-origin>  <script type=\"module\" crossorigin src=\"/app/assets/index.63cb65f9.js\"></script>\n",
       "  <link rel=\"stylesheet\" href=\"/app/assets/index.f48b1c59.css\">\n",
       "</head><body><noscript><iframe src=\"https://www.googletagmanager.com/ns.html?id=GTM-WP98PN\"height=0 width=0 style=display:none;visibility:hidden></iframe></noscript><noscript>You need to enable JavaScript to run this app.</noscript><script src=https://cdn.polyfill.io/v2/polyfill.min.js></script><div id=root></div></body></html>"
      ],
      "text/plain": [
       "<IPython.core.display.HTML object>"
      ]
     },
     "metadata": {},
     "output_type": "display_data"
    }
   ],
   "source": [
    "%%html\n",
    "https://public.tableau.com/app/profile/danil.velikiy/viz/Diplom_4_16946276407910/Sheet13?publish=yes/"
   ]
  },
  {
   "cell_type": "code",
   "execution_count": null,
   "id": "09889d93-64c7-414b-a89e-0dc6e7eede87",
   "metadata": {},
   "outputs": [],
   "source": []
  }
 ],
 "metadata": {
  "kernelspec": {
   "display_name": "Python 3 (ipykernel)",
   "language": "python",
   "name": "python3"
  },
  "language_info": {
   "codemirror_mode": {
    "name": "ipython",
    "version": 3
   },
   "file_extension": ".py",
   "mimetype": "text/x-python",
   "name": "python",
   "nbconvert_exporter": "python",
   "pygments_lexer": "ipython3",
   "version": "3.11.5"
  }
 },
 "nbformat": 4,
 "nbformat_minor": 5
}
