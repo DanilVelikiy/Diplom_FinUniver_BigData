{
 "cells": [
  {
   "cell_type": "code",
   "execution_count": 4,
   "id": "00e0ee52-ca89-4c69-885d-a4df66796f59",
   "metadata": {
    "execution": {
     "iopub.execute_input": "2023-10-10T09:08:09.753745Z",
     "iopub.status.busy": "2023-10-10T09:08:09.753096Z",
     "iopub.status.idle": "2023-10-10T09:08:09.772533Z",
     "shell.execute_reply": "2023-10-10T09:08:09.771141Z",
     "shell.execute_reply.started": "2023-10-10T09:08:09.753692Z"
    }
   },
   "outputs": [
    {
     "data": {
      "text/plain": [
       "0     Revenue_cat #10\n",
       "1      Revenue_cat #5\n",
       "2      Revenue_cat #2\n",
       "3      Revenue_cat #5\n",
       "4      Revenue_cat #5\n",
       "           ...       \n",
       "79     Revenue_cat #2\n",
       "80     Revenue_cat #5\n",
       "81     Revenue_cat #5\n",
       "82     Revenue_cat #2\n",
       "83     Revenue_cat #5\n",
       "Name: predict, Length: 84, dtype: object"
      ]
     },
     "execution_count": 4,
     "metadata": {},
     "output_type": "execute_result"
    }
   ],
   "source": [
    "import pandas as pd\n",
    "\n",
    "predict = pd.read_csv('df2predict_classification_revenue_new_product.csv')\n",
    "predict = predict['predict']\n",
    "predict"
   ]
  },
  {
   "cell_type": "code",
   "execution_count": 5,
   "id": "ca405044-c821-4caf-9134-07e8eb7b1f39",
   "metadata": {
    "execution": {
     "iopub.execute_input": "2023-10-10T09:08:17.902566Z",
     "iopub.status.busy": "2023-10-10T09:08:17.902182Z",
     "iopub.status.idle": "2023-10-10T09:08:17.925438Z",
     "shell.execute_reply": "2023-10-10T09:08:17.923511Z",
     "shell.execute_reply.started": "2023-10-10T09:08:17.902533Z"
    }
   },
   "outputs": [
    {
     "data": {
      "text/html": [
       "<div>\n",
       "<style scoped>\n",
       "    .dataframe tbody tr th:only-of-type {\n",
       "        vertical-align: middle;\n",
       "    }\n",
       "\n",
       "    .dataframe tbody tr th {\n",
       "        vertical-align: top;\n",
       "    }\n",
       "\n",
       "    .dataframe thead th {\n",
       "        text-align: right;\n",
       "    }\n",
       "</style>\n",
       "<table border=\"1\" class=\"dataframe\">\n",
       "  <thead>\n",
       "    <tr style=\"text-align: right;\">\n",
       "      <th></th>\n",
       "      <th>Manufacturer</th>\n",
       "      <th>MonthNo</th>\n",
       "      <th>Model_id_number</th>\n",
       "      <th>CategoryInSegmentInCompete</th>\n",
       "    </tr>\n",
       "  </thead>\n",
       "  <tbody>\n",
       "    <tr>\n",
       "      <th>0</th>\n",
       "      <td>Abbas</td>\n",
       "      <td>1</td>\n",
       "      <td>33</td>\n",
       "      <td>RuralProductivityNotCompete</td>\n",
       "    </tr>\n",
       "    <tr>\n",
       "      <th>1</th>\n",
       "      <td>Barba</td>\n",
       "      <td>1</td>\n",
       "      <td>33</td>\n",
       "      <td>RuralProductivityNotCompete</td>\n",
       "    </tr>\n",
       "    <tr>\n",
       "      <th>2</th>\n",
       "      <td>Pirum</td>\n",
       "      <td>1</td>\n",
       "      <td>33</td>\n",
       "      <td>RuralProductivityNotCompete</td>\n",
       "    </tr>\n",
       "    <tr>\n",
       "      <th>3</th>\n",
       "      <td>Natura</td>\n",
       "      <td>1</td>\n",
       "      <td>33</td>\n",
       "      <td>RuralProductivityNotCompete</td>\n",
       "    </tr>\n",
       "    <tr>\n",
       "      <th>4</th>\n",
       "      <td>VanArsdel</td>\n",
       "      <td>1</td>\n",
       "      <td>33</td>\n",
       "      <td>RuralProductivityNotCompete</td>\n",
       "    </tr>\n",
       "    <tr>\n",
       "      <th>...</th>\n",
       "      <td>...</td>\n",
       "      <td>...</td>\n",
       "      <td>...</td>\n",
       "      <td>...</td>\n",
       "    </tr>\n",
       "    <tr>\n",
       "      <th>79</th>\n",
       "      <td>Pirum</td>\n",
       "      <td>12</td>\n",
       "      <td>33</td>\n",
       "      <td>RuralProductivityNotCompete</td>\n",
       "    </tr>\n",
       "    <tr>\n",
       "      <th>80</th>\n",
       "      <td>Natura</td>\n",
       "      <td>12</td>\n",
       "      <td>33</td>\n",
       "      <td>RuralProductivityNotCompete</td>\n",
       "    </tr>\n",
       "    <tr>\n",
       "      <th>81</th>\n",
       "      <td>VanArsdel</td>\n",
       "      <td>12</td>\n",
       "      <td>33</td>\n",
       "      <td>RuralProductivityNotCompete</td>\n",
       "    </tr>\n",
       "    <tr>\n",
       "      <th>82</th>\n",
       "      <td>Salvus</td>\n",
       "      <td>12</td>\n",
       "      <td>33</td>\n",
       "      <td>RuralProductivityNotCompete</td>\n",
       "    </tr>\n",
       "    <tr>\n",
       "      <th>83</th>\n",
       "      <td>Victoria</td>\n",
       "      <td>12</td>\n",
       "      <td>33</td>\n",
       "      <td>RuralProductivityNotCompete</td>\n",
       "    </tr>\n",
       "  </tbody>\n",
       "</table>\n",
       "<p>84 rows × 4 columns</p>\n",
       "</div>"
      ],
      "text/plain": [
       "   Manufacturer  MonthNo  Model_id_number   CategoryInSegmentInCompete\n",
       "0         Abbas        1               33  RuralProductivityNotCompete\n",
       "1         Barba        1               33  RuralProductivityNotCompete\n",
       "2         Pirum        1               33  RuralProductivityNotCompete\n",
       "3        Natura        1               33  RuralProductivityNotCompete\n",
       "4     VanArsdel        1               33  RuralProductivityNotCompete\n",
       "..          ...      ...              ...                          ...\n",
       "79        Pirum       12               33  RuralProductivityNotCompete\n",
       "80       Natura       12               33  RuralProductivityNotCompete\n",
       "81    VanArsdel       12               33  RuralProductivityNotCompete\n",
       "82       Salvus       12               33  RuralProductivityNotCompete\n",
       "83     Victoria       12               33  RuralProductivityNotCompete\n",
       "\n",
       "[84 rows x 4 columns]"
      ]
     },
     "execution_count": 5,
     "metadata": {},
     "output_type": "execute_result"
    }
   ],
   "source": [
    "new_product = pd.read_csv('df_new_product.csv', index_col=0)\n",
    "new_product"
   ]
  },
  {
   "cell_type": "code",
   "execution_count": 6,
   "id": "7a118945-80f5-4283-b7c8-4bcfccc147a2",
   "metadata": {
    "execution": {
     "iopub.execute_input": "2023-10-10T09:08:24.303937Z",
     "iopub.status.busy": "2023-10-10T09:08:24.302674Z",
     "iopub.status.idle": "2023-10-10T09:08:24.319486Z",
     "shell.execute_reply": "2023-10-10T09:08:24.317865Z",
     "shell.execute_reply.started": "2023-10-10T09:08:24.303822Z"
    }
   },
   "outputs": [],
   "source": [
    "df = new_product.merge(predict, how = 'left', left_index=True, right_index=True)"
   ]
  },
  {
   "cell_type": "code",
   "execution_count": 7,
   "id": "1c23cabc-f62c-4eb5-a948-c15147c7ea3b",
   "metadata": {
    "execution": {
     "iopub.execute_input": "2023-10-10T09:08:26.375070Z",
     "iopub.status.busy": "2023-10-10T09:08:26.374292Z",
     "iopub.status.idle": "2023-10-10T09:08:26.394773Z",
     "shell.execute_reply": "2023-10-10T09:08:26.393828Z",
     "shell.execute_reply.started": "2023-10-10T09:08:26.374994Z"
    }
   },
   "outputs": [
    {
     "data": {
      "text/html": [
       "<div>\n",
       "<style scoped>\n",
       "    .dataframe tbody tr th:only-of-type {\n",
       "        vertical-align: middle;\n",
       "    }\n",
       "\n",
       "    .dataframe tbody tr th {\n",
       "        vertical-align: top;\n",
       "    }\n",
       "\n",
       "    .dataframe thead th {\n",
       "        text-align: right;\n",
       "    }\n",
       "</style>\n",
       "<table border=\"1\" class=\"dataframe\">\n",
       "  <thead>\n",
       "    <tr style=\"text-align: right;\">\n",
       "      <th></th>\n",
       "      <th>Manufacturer</th>\n",
       "      <th>MonthNo</th>\n",
       "      <th>Model_id_number</th>\n",
       "      <th>CategoryInSegmentInCompete</th>\n",
       "      <th>predict</th>\n",
       "    </tr>\n",
       "  </thead>\n",
       "  <tbody>\n",
       "    <tr>\n",
       "      <th>0</th>\n",
       "      <td>Abbas</td>\n",
       "      <td>1</td>\n",
       "      <td>33</td>\n",
       "      <td>RuralProductivityNotCompete</td>\n",
       "      <td>Revenue_cat #10</td>\n",
       "    </tr>\n",
       "    <tr>\n",
       "      <th>1</th>\n",
       "      <td>Barba</td>\n",
       "      <td>1</td>\n",
       "      <td>33</td>\n",
       "      <td>RuralProductivityNotCompete</td>\n",
       "      <td>Revenue_cat #5</td>\n",
       "    </tr>\n",
       "    <tr>\n",
       "      <th>2</th>\n",
       "      <td>Pirum</td>\n",
       "      <td>1</td>\n",
       "      <td>33</td>\n",
       "      <td>RuralProductivityNotCompete</td>\n",
       "      <td>Revenue_cat #2</td>\n",
       "    </tr>\n",
       "    <tr>\n",
       "      <th>3</th>\n",
       "      <td>Natura</td>\n",
       "      <td>1</td>\n",
       "      <td>33</td>\n",
       "      <td>RuralProductivityNotCompete</td>\n",
       "      <td>Revenue_cat #5</td>\n",
       "    </tr>\n",
       "    <tr>\n",
       "      <th>4</th>\n",
       "      <td>VanArsdel</td>\n",
       "      <td>1</td>\n",
       "      <td>33</td>\n",
       "      <td>RuralProductivityNotCompete</td>\n",
       "      <td>Revenue_cat #5</td>\n",
       "    </tr>\n",
       "    <tr>\n",
       "      <th>...</th>\n",
       "      <td>...</td>\n",
       "      <td>...</td>\n",
       "      <td>...</td>\n",
       "      <td>...</td>\n",
       "      <td>...</td>\n",
       "    </tr>\n",
       "    <tr>\n",
       "      <th>79</th>\n",
       "      <td>Pirum</td>\n",
       "      <td>12</td>\n",
       "      <td>33</td>\n",
       "      <td>RuralProductivityNotCompete</td>\n",
       "      <td>Revenue_cat #2</td>\n",
       "    </tr>\n",
       "    <tr>\n",
       "      <th>80</th>\n",
       "      <td>Natura</td>\n",
       "      <td>12</td>\n",
       "      <td>33</td>\n",
       "      <td>RuralProductivityNotCompete</td>\n",
       "      <td>Revenue_cat #5</td>\n",
       "    </tr>\n",
       "    <tr>\n",
       "      <th>81</th>\n",
       "      <td>VanArsdel</td>\n",
       "      <td>12</td>\n",
       "      <td>33</td>\n",
       "      <td>RuralProductivityNotCompete</td>\n",
       "      <td>Revenue_cat #5</td>\n",
       "    </tr>\n",
       "    <tr>\n",
       "      <th>82</th>\n",
       "      <td>Salvus</td>\n",
       "      <td>12</td>\n",
       "      <td>33</td>\n",
       "      <td>RuralProductivityNotCompete</td>\n",
       "      <td>Revenue_cat #2</td>\n",
       "    </tr>\n",
       "    <tr>\n",
       "      <th>83</th>\n",
       "      <td>Victoria</td>\n",
       "      <td>12</td>\n",
       "      <td>33</td>\n",
       "      <td>RuralProductivityNotCompete</td>\n",
       "      <td>Revenue_cat #5</td>\n",
       "    </tr>\n",
       "  </tbody>\n",
       "</table>\n",
       "<p>84 rows × 5 columns</p>\n",
       "</div>"
      ],
      "text/plain": [
       "   Manufacturer  MonthNo  Model_id_number   CategoryInSegmentInCompete  \\\n",
       "0         Abbas        1               33  RuralProductivityNotCompete   \n",
       "1         Barba        1               33  RuralProductivityNotCompete   \n",
       "2         Pirum        1               33  RuralProductivityNotCompete   \n",
       "3        Natura        1               33  RuralProductivityNotCompete   \n",
       "4     VanArsdel        1               33  RuralProductivityNotCompete   \n",
       "..          ...      ...              ...                          ...   \n",
       "79        Pirum       12               33  RuralProductivityNotCompete   \n",
       "80       Natura       12               33  RuralProductivityNotCompete   \n",
       "81    VanArsdel       12               33  RuralProductivityNotCompete   \n",
       "82       Salvus       12               33  RuralProductivityNotCompete   \n",
       "83     Victoria       12               33  RuralProductivityNotCompete   \n",
       "\n",
       "            predict  \n",
       "0   Revenue_cat #10  \n",
       "1    Revenue_cat #5  \n",
       "2    Revenue_cat #2  \n",
       "3    Revenue_cat #5  \n",
       "4    Revenue_cat #5  \n",
       "..              ...  \n",
       "79   Revenue_cat #2  \n",
       "80   Revenue_cat #5  \n",
       "81   Revenue_cat #5  \n",
       "82   Revenue_cat #2  \n",
       "83   Revenue_cat #5  \n",
       "\n",
       "[84 rows x 5 columns]"
      ]
     },
     "execution_count": 7,
     "metadata": {},
     "output_type": "execute_result"
    }
   ],
   "source": [
    "df"
   ]
  },
  {
   "cell_type": "code",
   "execution_count": 8,
   "id": "29ecb40a-8efb-4506-b496-5bea11800a92",
   "metadata": {
    "execution": {
     "iopub.execute_input": "2023-10-10T09:08:59.365461Z",
     "iopub.status.busy": "2023-10-10T09:08:59.364418Z",
     "iopub.status.idle": "2023-10-10T09:08:59.374981Z",
     "shell.execute_reply": "2023-10-10T09:08:59.373881Z",
     "shell.execute_reply.started": "2023-10-10T09:08:59.365359Z"
    }
   },
   "outputs": [],
   "source": [
    "df.to_csv('df2classification_new_product_predict_full.csv')"
   ]
  },
  {
   "cell_type": "code",
   "execution_count": 10,
   "id": "2b38a44d-f34f-4b63-9a3f-dd8837206e95",
   "metadata": {
    "execution": {
     "iopub.execute_input": "2023-10-10T10:57:41.766642Z",
     "iopub.status.busy": "2023-10-10T10:57:41.765452Z",
     "iopub.status.idle": "2023-10-10T10:57:41.823413Z",
     "shell.execute_reply": "2023-10-10T10:57:41.822436Z",
     "shell.execute_reply.started": "2023-10-10T10:57:41.766527Z"
    }
   },
   "outputs": [
    {
     "data": {
      "text/html": [
       "<div class='tableauPlaceholder' id='viz1696935448918' style='position: relative'><noscript><a href='#'><img alt='Predict new product ' src='https:&#47;&#47;public.tableau.com&#47;static&#47;images&#47;Di&#47;Diplom_16961761265220&#47;Predictnewproduct&#47;1_rss.png' style='border: none' /></a></noscript><object class='tableauViz'  style='display:none;'><param name='host_url' value='https%3A%2F%2Fpublic.tableau.com%2F' /> <param name='embed_code_version' value='3' /> <param name='site_root' value='' /><param name='name' value='Diplom_16961761265220&#47;Predictnewproduct' /><param name='tabs' value='no' /><param name='toolbar' value='yes' /><param name='static_image' value='https:&#47;&#47;public.tableau.com&#47;static&#47;images&#47;Di&#47;Diplom_16961761265220&#47;Predictnewproduct&#47;1.png' /> <param name='animate_transition' value='yes' /><param name='display_static_image' value='yes' /><param name='display_spinner' value='yes' /><param name='display_overlay' value='yes' /><param name='display_count' value='yes' /><param name='language' value='en-US' /><param name='filter' value='publish=yes' /></object></div>                <script type='text/javascript'>                    var divElement = document.getElementById('viz1696935448918');                    var vizElement = divElement.getElementsByTagName('object')[0];                    if ( divElement.offsetWidth > 800 ) { vizElement.style.width='1000px';vizElement.style.height='827px';} else if ( divElement.offsetWidth > 500 ) { vizElement.style.width='1000px';vizElement.style.height='827px';} else { vizElement.style.width='100%';vizElement.style.height='1027px';}                     var scriptElement = document.createElement('script');                    scriptElement.src = 'https://public.tableau.com/javascripts/api/viz_v1.js';                    vizElement.parentNode.insertBefore(scriptElement, vizElement);                </script>\n"
      ],
      "text/plain": [
       "<IPython.core.display.HTML object>"
      ]
     },
     "metadata": {},
     "output_type": "display_data"
    }
   ],
   "source": [
    "%%html\n",
    "<div class='tableauPlaceholder' id='viz1696935448918' style='position: relative'><noscript><a href='#'><img alt='Predict new product ' src='https:&#47;&#47;public.tableau.com&#47;static&#47;images&#47;Di&#47;Diplom_16961761265220&#47;Predictnewproduct&#47;1_rss.png' style='border: none' /></a></noscript><object class='tableauViz'  style='display:none;'><param name='host_url' value='https%3A%2F%2Fpublic.tableau.com%2F' /> <param name='embed_code_version' value='3' /> <param name='site_root' value='' /><param name='name' value='Diplom_16961761265220&#47;Predictnewproduct' /><param name='tabs' value='no' /><param name='toolbar' value='yes' /><param name='static_image' value='https:&#47;&#47;public.tableau.com&#47;static&#47;images&#47;Di&#47;Diplom_16961761265220&#47;Predictnewproduct&#47;1.png' /> <param name='animate_transition' value='yes' /><param name='display_static_image' value='yes' /><param name='display_spinner' value='yes' /><param name='display_overlay' value='yes' /><param name='display_count' value='yes' /><param name='language' value='en-US' /><param name='filter' value='publish=yes' /></object></div>                <script type='text/javascript'>                    var divElement = document.getElementById('viz1696935448918');                    var vizElement = divElement.getElementsByTagName('object')[0];                    if ( divElement.offsetWidth > 800 ) { vizElement.style.width='1000px';vizElement.style.height='827px';} else if ( divElement.offsetWidth > 500 ) { vizElement.style.width='1000px';vizElement.style.height='827px';} else { vizElement.style.width='100%';vizElement.style.height='1027px';}                     var scriptElement = document.createElement('script');                    scriptElement.src = 'https://public.tableau.com/javascripts/api/viz_v1.js';                    vizElement.parentNode.insertBefore(scriptElement, vizElement);                </script>"
   ]
  }
 ],
 "metadata": {
  "kernelspec": {
   "display_name": "Python 3 (ipykernel)",
   "language": "python",
   "name": "python3"
  },
  "language_info": {
   "codemirror_mode": {
    "name": "ipython",
    "version": 3
   },
   "file_extension": ".py",
   "mimetype": "text/x-python",
   "name": "python",
   "nbconvert_exporter": "python",
   "pygments_lexer": "ipython3",
   "version": "3.9.18"
  }
 },
 "nbformat": 4,
 "nbformat_minor": 5
}
