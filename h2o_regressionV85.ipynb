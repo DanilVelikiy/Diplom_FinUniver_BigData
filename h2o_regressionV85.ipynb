{
 "cells": [
  {
   "cell_type": "markdown",
   "id": "b382778b-bc74-444e-8d67-9f828caead62",
   "metadata": {},
   "source": [
    "# ПРОГНОЗИРОВАНИЕ №8.5 - ПРИБЫЛЬ (КЛАССИФИКАЦИЯ на половине данных)"
   ]
  },
  {
   "cell_type": "code",
   "execution_count": 1,
   "id": "555d139a-2275-4baa-9a97-b1531a46079a",
   "metadata": {
    "execution": {
     "iopub.execute_input": "2023-09-29T08:02:43.543953Z",
     "iopub.status.busy": "2023-09-29T08:02:43.543597Z",
     "iopub.status.idle": "2023-09-29T08:02:44.460945Z",
     "shell.execute_reply": "2023-09-29T08:02:44.459455Z",
     "shell.execute_reply.started": "2023-09-29T08:02:43.543922Z"
    }
   },
   "outputs": [
    {
     "name": "stdout",
     "output_type": "stream",
     "text": [
      "Checking whether there is an H2O instance running at http://localhost:54321. connected.\n"
     ]
    },
    {
     "data": {
      "text/html": [
       "\n",
       "<style>\n",
       "\n",
       "#h2o-table-1.h2o-container {\n",
       "  overflow-x: auto;\n",
       "}\n",
       "#h2o-table-1 .h2o-table {\n",
       "  /* width: 100%; */\n",
       "  margin-top: 1em;\n",
       "  margin-bottom: 1em;\n",
       "}\n",
       "#h2o-table-1 .h2o-table caption {\n",
       "  white-space: nowrap;\n",
       "  caption-side: top;\n",
       "  text-align: left;\n",
       "  /* margin-left: 1em; */\n",
       "  margin: 0;\n",
       "  font-size: larger;\n",
       "}\n",
       "#h2o-table-1 .h2o-table thead {\n",
       "  white-space: nowrap; \n",
       "  position: sticky;\n",
       "  top: 0;\n",
       "  box-shadow: 0 -1px inset;\n",
       "}\n",
       "#h2o-table-1 .h2o-table tbody {\n",
       "  overflow: auto;\n",
       "}\n",
       "#h2o-table-1 .h2o-table th,\n",
       "#h2o-table-1 .h2o-table td {\n",
       "  text-align: right;\n",
       "  /* border: 1px solid; */\n",
       "}\n",
       "#h2o-table-1 .h2o-table tr:nth-child(even) {\n",
       "  /* background: #F5F5F5 */\n",
       "}\n",
       "\n",
       "</style>      \n",
       "<div id=\"h2o-table-1\" class=\"h2o-container\">\n",
       "  <table class=\"h2o-table\">\n",
       "    <caption></caption>\n",
       "    <thead></thead>\n",
       "    <tbody><tr><td>H2O_cluster_uptime:</td>\n",
       "<td>2 hours 39 mins</td></tr>\n",
       "<tr><td>H2O_cluster_timezone:</td>\n",
       "<td>Etc/GMT</td></tr>\n",
       "<tr><td>H2O_data_parsing_timezone:</td>\n",
       "<td>UTC</td></tr>\n",
       "<tr><td>H2O_cluster_version:</td>\n",
       "<td>3.42.0.2</td></tr>\n",
       "<tr><td>H2O_cluster_version_age:</td>\n",
       "<td>2 months and 3 days</td></tr>\n",
       "<tr><td>H2O_cluster_name:</td>\n",
       "<td>H2O_from_python_unknownUser_lu56ah</td></tr>\n",
       "<tr><td>H2O_cluster_total_nodes:</td>\n",
       "<td>1</td></tr>\n",
       "<tr><td>H2O_cluster_free_memory:</td>\n",
       "<td>799 Mb</td></tr>\n",
       "<tr><td>H2O_cluster_total_cores:</td>\n",
       "<td>8</td></tr>\n",
       "<tr><td>H2O_cluster_allowed_cores:</td>\n",
       "<td>8</td></tr>\n",
       "<tr><td>H2O_cluster_status:</td>\n",
       "<td>locked, healthy</td></tr>\n",
       "<tr><td>H2O_connection_url:</td>\n",
       "<td>http://localhost:54321</td></tr>\n",
       "<tr><td>H2O_connection_proxy:</td>\n",
       "<td>{\"http\": null, \"https\": null}</td></tr>\n",
       "<tr><td>H2O_internal_security:</td>\n",
       "<td>False</td></tr>\n",
       "<tr><td>Python_version:</td>\n",
       "<td>3.8.10 final</td></tr></tbody>\n",
       "  </table>\n",
       "</div>\n"
      ],
      "text/plain": [
       "--------------------------  ----------------------------------\n",
       "H2O_cluster_uptime:         2 hours 39 mins\n",
       "H2O_cluster_timezone:       Etc/GMT\n",
       "H2O_data_parsing_timezone:  UTC\n",
       "H2O_cluster_version:        3.42.0.2\n",
       "H2O_cluster_version_age:    2 months and 3 days\n",
       "H2O_cluster_name:           H2O_from_python_unknownUser_lu56ah\n",
       "H2O_cluster_total_nodes:    1\n",
       "H2O_cluster_free_memory:    799 Mb\n",
       "H2O_cluster_total_cores:    8\n",
       "H2O_cluster_allowed_cores:  8\n",
       "H2O_cluster_status:         locked, healthy\n",
       "H2O_connection_url:         http://localhost:54321\n",
       "H2O_connection_proxy:       {\"http\": null, \"https\": null}\n",
       "H2O_internal_security:      False\n",
       "Python_version:             3.8.10 final\n",
       "--------------------------  ----------------------------------"
      ]
     },
     "metadata": {},
     "output_type": "display_data"
    }
   ],
   "source": [
    "import h2o\n",
    "from h2o.automl import H2OAutoML\n",
    "h2o.init()"
   ]
  },
  {
   "cell_type": "code",
   "execution_count": 2,
   "id": "868beb7a-6463-43d2-a013-24c637636813",
   "metadata": {
    "execution": {
     "iopub.execute_input": "2023-09-29T08:02:44.462957Z",
     "iopub.status.busy": "2023-09-29T08:02:44.462486Z",
     "iopub.status.idle": "2023-09-29T08:02:45.250869Z",
     "shell.execute_reply": "2023-09-29T08:02:45.249121Z",
     "shell.execute_reply.started": "2023-09-29T08:02:44.462919Z"
    }
   },
   "outputs": [
    {
     "name": "stdout",
     "output_type": "stream",
     "text": [
      "Parse progress: |████████████████████████████████████████████████████████████████| (done) 100%\n"
     ]
    },
    {
     "data": {
      "text/html": [
       "<table class='dataframe'>\n",
       "<thead>\n",
       "<tr><th style=\"text-align: right;\">  Zip</th><th style=\"text-align: right;\">  Units</th><th>Manufacturer  </th><th style=\"text-align: right;\">  MonthNo</th><th style=\"text-align: right;\">  Model_id_number</th><th>CategoryInSegment  </th><th>Revenue_cat    </th></tr>\n",
       "</thead>\n",
       "<tbody>\n",
       "<tr><td style=\"text-align: right;\">75965</td><td style=\"text-align: right;\">      1</td><td>Natura        </td><td style=\"text-align: right;\">       10</td><td style=\"text-align: right;\">               40</td><td>UrbanConvenience   </td><td>Revenue_cat #31</td></tr>\n",
       "<tr><td style=\"text-align: right;\">25705</td><td style=\"text-align: right;\">      1</td><td>Aliqui        </td><td style=\"text-align: right;\">        2</td><td style=\"text-align: right;\">                4</td><td>RuralProductivity  </td><td>Revenue_cat #6 </td></tr>\n",
       "<tr><td style=\"text-align: right;\">53704</td><td style=\"text-align: right;\">      1</td><td>Currus        </td><td style=\"text-align: right;\">        4</td><td style=\"text-align: right;\">               21</td><td>UrbanConvenience   </td><td>Revenue_cat #15</td></tr>\n",
       "<tr><td style=\"text-align: right;\">80304</td><td style=\"text-align: right;\">      1</td><td>Aliqui        </td><td style=\"text-align: right;\">       12</td><td style=\"text-align: right;\">               21</td><td>YouthYouth         </td><td>Revenue_cat #6 </td></tr>\n",
       "<tr><td style=\"text-align: right;\">35077</td><td style=\"text-align: right;\">      1</td><td>Currus        </td><td style=\"text-align: right;\">        8</td><td style=\"text-align: right;\">               24</td><td>UrbanExtreme       </td><td>Revenue_cat #31</td></tr>\n",
       "<tr><td style=\"text-align: right;\">75075</td><td style=\"text-align: right;\">      1</td><td>Currus        </td><td style=\"text-align: right;\">       11</td><td style=\"text-align: right;\">               17</td><td>UrbanConvenience   </td><td>Revenue_cat #20</td></tr>\n",
       "<tr><td style=\"text-align: right;\">43940</td><td style=\"text-align: right;\">      1</td><td>Pirum         </td><td style=\"text-align: right;\">        1</td><td style=\"text-align: right;\">               34</td><td>UrbanExtreme       </td><td>Revenue_cat #29</td></tr>\n",
       "<tr><td style=\"text-align: right;\">71360</td><td style=\"text-align: right;\">      1</td><td>Natura        </td><td style=\"text-align: right;\">       10</td><td style=\"text-align: right;\">               39</td><td>UrbanConvenience   </td><td>Revenue_cat #19</td></tr>\n",
       "<tr><td style=\"text-align: right;\">66066</td><td style=\"text-align: right;\">      1</td><td>VanArsdel     </td><td style=\"text-align: right;\">        1</td><td style=\"text-align: right;\">               39</td><td>UrbanConvenience   </td><td>Revenue_cat #36</td></tr>\n",
       "<tr><td style=\"text-align: right;\">85023</td><td style=\"text-align: right;\">      1</td><td>Aliqui        </td><td style=\"text-align: right;\">        5</td><td style=\"text-align: right;\">               12</td><td>RuralProductivity  </td><td>Revenue_cat #27</td></tr>\n",
       "</tbody>\n",
       "</table><pre style='font-size: smaller; margin-bottom: 1em;'>[485468 rows x 7 columns]</pre>"
      ],
      "text/plain": [
       "  Zip    Units  Manufacturer      MonthNo    Model_id_number  CategoryInSegment    Revenue_cat\n",
       "-----  -------  --------------  ---------  -----------------  -------------------  ---------------\n",
       "75965        1  Natura                 10                 40  UrbanConvenience     Revenue_cat #31\n",
       "25705        1  Aliqui                  2                  4  RuralProductivity    Revenue_cat #6\n",
       "53704        1  Currus                  4                 21  UrbanConvenience     Revenue_cat #15\n",
       "80304        1  Aliqui                 12                 21  YouthYouth           Revenue_cat #6\n",
       "35077        1  Currus                  8                 24  UrbanExtreme         Revenue_cat #31\n",
       "75075        1  Currus                 11                 17  UrbanConvenience     Revenue_cat #20\n",
       "43940        1  Pirum                   1                 34  UrbanExtreme         Revenue_cat #29\n",
       "71360        1  Natura                 10                 39  UrbanConvenience     Revenue_cat #19\n",
       "66066        1  VanArsdel               1                 39  UrbanConvenience     Revenue_cat #36\n",
       "85023        1  Aliqui                  5                 12  RuralProductivity    Revenue_cat #27\n",
       "[485468 rows x 7 columns]\n"
      ]
     },
     "execution_count": 2,
     "metadata": {},
     "output_type": "execute_result"
    }
   ],
   "source": [
    "#file = '/content/drive/MyDrive/Colab Notebooks/Diplom/df4eda2clean2.csv'\n",
    "file = 'df2prep4regressionV8test.csv'\n",
    "df = h2o.import_file(file)\n",
    "df = df.drop('C1')\n",
    "#df = df.drop('Revenue_cat')\n",
    "df = df.drop('Revenue_T')\n",
    "df = df.drop('abc_xyz_class')\n",
    "df"
   ]
  },
  {
   "cell_type": "code",
   "execution_count": 3,
   "id": "24b63abf-449b-4ed5-8d17-b1c4b4df3faa",
   "metadata": {
    "execution": {
     "iopub.execute_input": "2023-09-29T08:02:45.252838Z",
     "iopub.status.busy": "2023-09-29T08:02:45.252492Z",
     "iopub.status.idle": "2023-09-29T08:02:45.452538Z",
     "shell.execute_reply": "2023-09-29T08:02:45.451502Z",
     "shell.execute_reply.started": "2023-09-29T08:02:45.252804Z"
    }
   },
   "outputs": [],
   "source": [
    "train, valid, unseen = df.split_frame(ratios=[0.7, 0.15])"
   ]
  },
  {
   "cell_type": "code",
   "execution_count": 4,
   "id": "e8cc6bc2-0d9b-4322-9a47-ab03326c72b2",
   "metadata": {
    "execution": {
     "iopub.execute_input": "2023-09-29T08:02:45.455715Z",
     "iopub.status.busy": "2023-09-29T08:02:45.455379Z",
     "iopub.status.idle": "2023-09-29T08:02:45.466486Z",
     "shell.execute_reply": "2023-09-29T08:02:45.465398Z",
     "shell.execute_reply.started": "2023-09-29T08:02:45.455687Z"
    }
   },
   "outputs": [
    {
     "data": {
      "text/html": [
       "<table class='dataframe'>\n",
       "<thead>\n",
       "<tr><th style=\"text-align: right;\">  Zip</th><th style=\"text-align: right;\">  Units</th><th>Manufacturer  </th><th style=\"text-align: right;\">  MonthNo</th><th style=\"text-align: right;\">  Model_id_number</th><th>CategoryInSegment  </th><th>Revenue_cat    </th></tr>\n",
       "</thead>\n",
       "<tbody>\n",
       "<tr><td style=\"text-align: right;\">75965</td><td style=\"text-align: right;\">      1</td><td>Natura        </td><td style=\"text-align: right;\">       10</td><td style=\"text-align: right;\">               40</td><td>UrbanConvenience   </td><td>Revenue_cat #31</td></tr>\n",
       "<tr><td style=\"text-align: right;\">35077</td><td style=\"text-align: right;\">      1</td><td>Currus        </td><td style=\"text-align: right;\">        8</td><td style=\"text-align: right;\">               24</td><td>UrbanExtreme       </td><td>Revenue_cat #31</td></tr>\n",
       "<tr><td style=\"text-align: right;\">75075</td><td style=\"text-align: right;\">      1</td><td>Currus        </td><td style=\"text-align: right;\">       11</td><td style=\"text-align: right;\">               17</td><td>UrbanConvenience   </td><td>Revenue_cat #20</td></tr>\n",
       "<tr><td style=\"text-align: right;\">43940</td><td style=\"text-align: right;\">      1</td><td>Pirum         </td><td style=\"text-align: right;\">        1</td><td style=\"text-align: right;\">               34</td><td>UrbanExtreme       </td><td>Revenue_cat #29</td></tr>\n",
       "<tr><td style=\"text-align: right;\">71360</td><td style=\"text-align: right;\">      1</td><td>Natura        </td><td style=\"text-align: right;\">       10</td><td style=\"text-align: right;\">               39</td><td>UrbanConvenience   </td><td>Revenue_cat #19</td></tr>\n",
       "<tr><td style=\"text-align: right;\">85023</td><td style=\"text-align: right;\">      1</td><td>Aliqui        </td><td style=\"text-align: right;\">        5</td><td style=\"text-align: right;\">               12</td><td>RuralProductivity  </td><td>Revenue_cat #27</td></tr>\n",
       "<tr><td style=\"text-align: right;\">94087</td><td style=\"text-align: right;\">      1</td><td>Natura        </td><td style=\"text-align: right;\">        6</td><td style=\"text-align: right;\">               14</td><td>UrbanExtreme       </td><td>Revenue_cat #34</td></tr>\n",
       "<tr><td style=\"text-align: right;\">60641</td><td style=\"text-align: right;\">      1</td><td>Natura        </td><td style=\"text-align: right;\">       11</td><td style=\"text-align: right;\">               19</td><td>UrbanExtreme       </td><td>Revenue_cat #27</td></tr>\n",
       "<tr><td style=\"text-align: right;\">50214</td><td style=\"text-align: right;\">      1</td><td>Currus        </td><td style=\"text-align: right;\">        6</td><td style=\"text-align: right;\">               17</td><td>RuralProductivity  </td><td>Revenue_cat #8 </td></tr>\n",
       "<tr><td style=\"text-align: right;\"> 6470</td><td style=\"text-align: right;\">      1</td><td>Natura        </td><td style=\"text-align: right;\">        1</td><td style=\"text-align: right;\">               27</td><td>RuralProductivity  </td><td>Revenue_cat #12</td></tr>\n",
       "</tbody>\n",
       "</table><pre style='font-size: smaller; margin-bottom: 1em;'>[339817 rows x 7 columns]</pre>"
      ],
      "text/plain": [
       "  Zip    Units  Manufacturer      MonthNo    Model_id_number  CategoryInSegment    Revenue_cat\n",
       "-----  -------  --------------  ---------  -----------------  -------------------  ---------------\n",
       "75965        1  Natura                 10                 40  UrbanConvenience     Revenue_cat #31\n",
       "35077        1  Currus                  8                 24  UrbanExtreme         Revenue_cat #31\n",
       "75075        1  Currus                 11                 17  UrbanConvenience     Revenue_cat #20\n",
       "43940        1  Pirum                   1                 34  UrbanExtreme         Revenue_cat #29\n",
       "71360        1  Natura                 10                 39  UrbanConvenience     Revenue_cat #19\n",
       "85023        1  Aliqui                  5                 12  RuralProductivity    Revenue_cat #27\n",
       "94087        1  Natura                  6                 14  UrbanExtreme         Revenue_cat #34\n",
       "60641        1  Natura                 11                 19  UrbanExtreme         Revenue_cat #27\n",
       "50214        1  Currus                  6                 17  RuralProductivity    Revenue_cat #8\n",
       " 6470        1  Natura                  1                 27  RuralProductivity    Revenue_cat #12\n",
       "[339817 rows x 7 columns]\n"
      ]
     },
     "execution_count": 4,
     "metadata": {},
     "output_type": "execute_result"
    }
   ],
   "source": [
    "train"
   ]
  },
  {
   "cell_type": "code",
   "execution_count": 5,
   "id": "729bd346-9fb3-4034-ae9d-f18d6ac586fa",
   "metadata": {
    "execution": {
     "iopub.execute_input": "2023-09-29T08:02:45.467980Z",
     "iopub.status.busy": "2023-09-29T08:02:45.467681Z",
     "iopub.status.idle": "2023-09-29T08:02:45.560857Z",
     "shell.execute_reply": "2023-09-29T08:02:45.559643Z",
     "shell.execute_reply.started": "2023-09-29T08:02:45.467951Z"
    }
   },
   "outputs": [
    {
     "data": {
      "text/html": [
       "<table class='dataframe'>\n",
       "<thead>\n",
       "<tr><th style=\"text-align: right;\">  Zip</th><th style=\"text-align: right;\">  Units</th><th>Manufacturer  </th><th style=\"text-align: right;\">  MonthNo</th><th style=\"text-align: right;\">  Model_id_number</th><th>CategoryInSegment  </th><th>Revenue_cat    </th></tr>\n",
       "</thead>\n",
       "<tbody>\n",
       "<tr><td style=\"text-align: right;\">25705</td><td style=\"text-align: right;\">      1</td><td>Aliqui        </td><td style=\"text-align: right;\">        2</td><td style=\"text-align: right;\">                4</td><td>RuralProductivity  </td><td>Revenue_cat #6 </td></tr>\n",
       "<tr><td style=\"text-align: right;\">53704</td><td style=\"text-align: right;\">      1</td><td>Currus        </td><td style=\"text-align: right;\">        4</td><td style=\"text-align: right;\">               21</td><td>UrbanConvenience   </td><td>Revenue_cat #15</td></tr>\n",
       "<tr><td style=\"text-align: right;\">34983</td><td style=\"text-align: right;\">      1</td><td>Pirum         </td><td style=\"text-align: right;\">        4</td><td style=\"text-align: right;\">               22</td><td>UrbanExtreme       </td><td>Revenue_cat #24</td></tr>\n",
       "<tr><td style=\"text-align: right;\">18302</td><td style=\"text-align: right;\">      1</td><td>Aliqui        </td><td style=\"text-align: right;\">       12</td><td style=\"text-align: right;\">               24</td><td>UrbanConvenience   </td><td>Revenue_cat #36</td></tr>\n",
       "<tr><td style=\"text-align: right;\">93535</td><td style=\"text-align: right;\">      1</td><td>VanArsdel     </td><td style=\"text-align: right;\">        5</td><td style=\"text-align: right;\">               39</td><td>UrbanConvenience   </td><td>Revenue_cat #44</td></tr>\n",
       "<tr><td style=\"text-align: right;\">95682</td><td style=\"text-align: right;\">      1</td><td>Aliqui        </td><td style=\"text-align: right;\">       11</td><td style=\"text-align: right;\">                8</td><td>UrbanExtreme       </td><td>Revenue_cat #22</td></tr>\n",
       "<tr><td style=\"text-align: right;\">94509</td><td style=\"text-align: right;\">      1</td><td>Natura        </td><td style=\"text-align: right;\">       12</td><td style=\"text-align: right;\">               55</td><td>RuralProductivity  </td><td>Revenue_cat #5 </td></tr>\n",
       "<tr><td style=\"text-align: right;\"> 7462</td><td style=\"text-align: right;\">      1</td><td>VanArsdel     </td><td style=\"text-align: right;\">       10</td><td style=\"text-align: right;\">               70</td><td>UrbanConvenience   </td><td>Revenue_cat #25</td></tr>\n",
       "<tr><td style=\"text-align: right;\">49648</td><td style=\"text-align: right;\">      1</td><td>Pomum         </td><td style=\"text-align: right;\">        1</td><td style=\"text-align: right;\">                5</td><td>YouthYouth         </td><td>Revenue_cat #16</td></tr>\n",
       "<tr><td style=\"text-align: right;\">85351</td><td style=\"text-align: right;\">      1</td><td>Natura        </td><td style=\"text-align: right;\">        2</td><td style=\"text-align: right;\">                6</td><td>MixAll Season      </td><td>Revenue_cat #15</td></tr>\n",
       "</tbody>\n",
       "</table><pre style='font-size: smaller; margin-bottom: 1em;'>[72616 rows x 7 columns]</pre>"
      ],
      "text/plain": [
       "  Zip    Units  Manufacturer      MonthNo    Model_id_number  CategoryInSegment    Revenue_cat\n",
       "-----  -------  --------------  ---------  -----------------  -------------------  ---------------\n",
       "25705        1  Aliqui                  2                  4  RuralProductivity    Revenue_cat #6\n",
       "53704        1  Currus                  4                 21  UrbanConvenience     Revenue_cat #15\n",
       "34983        1  Pirum                   4                 22  UrbanExtreme         Revenue_cat #24\n",
       "18302        1  Aliqui                 12                 24  UrbanConvenience     Revenue_cat #36\n",
       "93535        1  VanArsdel               5                 39  UrbanConvenience     Revenue_cat #44\n",
       "95682        1  Aliqui                 11                  8  UrbanExtreme         Revenue_cat #22\n",
       "94509        1  Natura                 12                 55  RuralProductivity    Revenue_cat #5\n",
       " 7462        1  VanArsdel              10                 70  UrbanConvenience     Revenue_cat #25\n",
       "49648        1  Pomum                   1                  5  YouthYouth           Revenue_cat #16\n",
       "85351        1  Natura                  2                  6  MixAll Season        Revenue_cat #15\n",
       "[72616 rows x 7 columns]\n"
      ]
     },
     "execution_count": 5,
     "metadata": {},
     "output_type": "execute_result"
    }
   ],
   "source": [
    "valid"
   ]
  },
  {
   "cell_type": "code",
   "execution_count": 6,
   "id": "f3ac5a9b-34a1-45d9-8720-36b61b113816",
   "metadata": {
    "execution": {
     "iopub.execute_input": "2023-09-29T08:02:45.562381Z",
     "iopub.status.busy": "2023-09-29T08:02:45.562085Z",
     "iopub.status.idle": "2023-09-29T08:02:45.682080Z",
     "shell.execute_reply": "2023-09-29T08:02:45.679469Z",
     "shell.execute_reply.started": "2023-09-29T08:02:45.562353Z"
    }
   },
   "outputs": [
    {
     "data": {
      "text/html": [
       "<table class='dataframe'>\n",
       "<thead>\n",
       "<tr><th style=\"text-align: right;\">  Zip</th><th style=\"text-align: right;\">  Units</th><th>Manufacturer  </th><th style=\"text-align: right;\">  MonthNo</th><th style=\"text-align: right;\">  Model_id_number</th><th>CategoryInSegment  </th><th>Revenue_cat    </th></tr>\n",
       "</thead>\n",
       "<tbody>\n",
       "<tr><td style=\"text-align: right;\">80304</td><td style=\"text-align: right;\">      1</td><td>Aliqui        </td><td style=\"text-align: right;\">       12</td><td style=\"text-align: right;\">               21</td><td>YouthYouth         </td><td>Revenue_cat #6 </td></tr>\n",
       "<tr><td style=\"text-align: right;\">66066</td><td style=\"text-align: right;\">      1</td><td>VanArsdel     </td><td style=\"text-align: right;\">        1</td><td style=\"text-align: right;\">               39</td><td>UrbanConvenience   </td><td>Revenue_cat #36</td></tr>\n",
       "<tr><td style=\"text-align: right;\">32825</td><td style=\"text-align: right;\">      1</td><td>Aliqui        </td><td style=\"text-align: right;\">       11</td><td style=\"text-align: right;\">                7</td><td>UrbanConvenience   </td><td>Revenue_cat #28</td></tr>\n",
       "<tr><td style=\"text-align: right;\">71115</td><td style=\"text-align: right;\">      1</td><td>VanArsdel     </td><td style=\"text-align: right;\">       12</td><td style=\"text-align: right;\">               80</td><td>UrbanConvenience   </td><td>Revenue_cat #36</td></tr>\n",
       "<tr><td style=\"text-align: right;\">33981</td><td style=\"text-align: right;\">      1</td><td>VanArsdel     </td><td style=\"text-align: right;\">        2</td><td style=\"text-align: right;\">                4</td><td>UrbanExtreme       </td><td>Revenue_cat #33</td></tr>\n",
       "<tr><td style=\"text-align: right;\">46167</td><td style=\"text-align: right;\">      1</td><td>VanArsdel     </td><td style=\"text-align: right;\">        9</td><td style=\"text-align: right;\">               92</td><td>UrbanModeration    </td><td>Revenue_cat #47</td></tr>\n",
       "<tr><td style=\"text-align: right;\">78572</td><td style=\"text-align: right;\">      1</td><td>VanArsdel     </td><td style=\"text-align: right;\">        6</td><td style=\"text-align: right;\">               76</td><td>UrbanModeration    </td><td>Revenue_cat #43</td></tr>\n",
       "<tr><td style=\"text-align: right;\">80644</td><td style=\"text-align: right;\">      1</td><td>VanArsdel     </td><td style=\"text-align: right;\">        2</td><td style=\"text-align: right;\">                4</td><td>UrbanExtreme       </td><td>Revenue_cat #33</td></tr>\n",
       "<tr><td style=\"text-align: right;\">44221</td><td style=\"text-align: right;\">      1</td><td>Pirum         </td><td style=\"text-align: right;\">       11</td><td style=\"text-align: right;\">               27</td><td>UrbanExtreme       </td><td>Revenue_cat #16</td></tr>\n",
       "<tr><td style=\"text-align: right;\">46143</td><td style=\"text-align: right;\">      1</td><td>Natura        </td><td style=\"text-align: right;\">        8</td><td style=\"text-align: right;\">               79</td><td>RuralProductivity  </td><td>Revenue_cat #3 </td></tr>\n",
       "</tbody>\n",
       "</table><pre style='font-size: smaller; margin-bottom: 1em;'>[73035 rows x 7 columns]</pre>"
      ],
      "text/plain": [
       "  Zip    Units  Manufacturer      MonthNo    Model_id_number  CategoryInSegment    Revenue_cat\n",
       "-----  -------  --------------  ---------  -----------------  -------------------  ---------------\n",
       "80304        1  Aliqui                 12                 21  YouthYouth           Revenue_cat #6\n",
       "66066        1  VanArsdel               1                 39  UrbanConvenience     Revenue_cat #36\n",
       "32825        1  Aliqui                 11                  7  UrbanConvenience     Revenue_cat #28\n",
       "71115        1  VanArsdel              12                 80  UrbanConvenience     Revenue_cat #36\n",
       "33981        1  VanArsdel               2                  4  UrbanExtreme         Revenue_cat #33\n",
       "46167        1  VanArsdel               9                 92  UrbanModeration      Revenue_cat #47\n",
       "78572        1  VanArsdel               6                 76  UrbanModeration      Revenue_cat #43\n",
       "80644        1  VanArsdel               2                  4  UrbanExtreme         Revenue_cat #33\n",
       "44221        1  Pirum                  11                 27  UrbanExtreme         Revenue_cat #16\n",
       "46143        1  Natura                  8                 79  RuralProductivity    Revenue_cat #3\n",
       "[73035 rows x 7 columns]\n"
      ]
     },
     "execution_count": 6,
     "metadata": {},
     "output_type": "execute_result"
    }
   ],
   "source": [
    "unseen"
   ]
  },
  {
   "cell_type": "code",
   "execution_count": 7,
   "id": "fea305df-1eb5-4923-8768-12cfa1854655",
   "metadata": {
    "execution": {
     "iopub.execute_input": "2023-09-29T08:02:45.683943Z",
     "iopub.status.busy": "2023-09-29T08:02:45.683563Z",
     "iopub.status.idle": "2023-09-29T08:02:45.781658Z",
     "shell.execute_reply": "2023-09-29T08:02:45.778186Z",
     "shell.execute_reply.started": "2023-09-29T08:02:45.683905Z"
    }
   },
   "outputs": [],
   "source": [
    "y = \"Revenue_cat\"\n",
    "x=train.columns\n",
    "x.remove(y)"
   ]
  },
  {
   "cell_type": "markdown",
   "id": "db7541b9-21e5-45cd-b745-4717b06f5dca",
   "metadata": {},
   "source": [
    "# Тренировка модели"
   ]
  },
  {
   "cell_type": "markdown",
   "id": "ce26eebf-cd0c-4a92-8641-c3ad120584f9",
   "metadata": {},
   "source": [
    "nfolds=0 - это отключает перексрестную проверку и точность будет проверятся на указанной валидационной выборке"
   ]
  },
  {
   "cell_type": "code",
   "execution_count": null,
   "id": "fa321d95-ad11-4d90-9dd8-72e7b8d958bc",
   "metadata": {
    "execution": {
     "iopub.execute_input": "2023-09-29T08:02:45.784351Z",
     "iopub.status.busy": "2023-09-29T08:02:45.783990Z"
    }
   },
   "outputs": [
    {
     "name": "stdout",
     "output_type": "stream",
     "text": [
      "AutoML progress: |██████████████████████████████████████████████████████████████\n",
      "09:21:05.307: GBM_1_AutoML_3_20230929_80245 [GBM def_5] failed: water.exceptions.H2OModelBuilderIllegalArgumentException: Illegal argument(s) for GBM model: GBM_1_AutoML_3_20230929_80245.  Details: ERRR on field: _ntrees: The tree model will not fit in the driver node's memory (495.4 KB per tree x 10000 > 194.0 MB) - try decreasing ntrees and/or max_depth or increasing min_rows!\n",
      "\n",
      "\n",
      "█"
     ]
    }
   ],
   "source": [
    "aml = H2OAutoML(\n",
    "    max_models = 10,\n",
    "    seed = 1,\n",
    "    nfolds = 0, # отключение кросс валидации\n",
    "#    max_depth = 4 #поменьше глубину, не хватает памяти\n",
    ")\n",
    "aml.train(x = x, y = y, training_frame = train, validation_frame = valid)"
   ]
  },
  {
   "cell_type": "code",
   "execution_count": null,
   "id": "18d8e467-d0a0-463a-ae94-53770bcf22ac",
   "metadata": {},
   "outputs": [],
   "source": [
    "lb = aml.leaderboard\n",
    "lb"
   ]
  },
  {
   "cell_type": "code",
   "execution_count": null,
   "id": "dc866f48-7e64-4c82-b7b6-70c978e3320c",
   "metadata": {},
   "outputs": [],
   "source": [
    "# Get model ids for all models in the AutoML Leaderboard\n",
    "model_ids = list(lb['model_id'].as_data_frame().iloc[:,0])\n",
    "model_ids"
   ]
  },
  {
   "cell_type": "code",
   "execution_count": null,
   "id": "205352ef-033e-46da-b618-d09fdc0a0480",
   "metadata": {},
   "outputs": [],
   "source": [
    "# Get the \"All Models\" Stacked Ensemble model\n",
    "se = h2o.get_model([mid for mid in model_ids if \"StackedEnsemble_AllModels\" in mid][0])\n",
    "#se = h2o.get_model([mid for mid in model_ids if \"AutoML\" in mid][0])\n",
    "se"
   ]
  },
  {
   "cell_type": "code",
   "execution_count": null,
   "id": "edf8ba1c-8176-440a-a178-58dd1cc0c6b0",
   "metadata": {},
   "outputs": [],
   "source": [
    "# Get the Stacked Ensemble metalearner model\n",
    "metalearner = h2o.get_model(se.metalearner()['name'])"
   ]
  },
  {
   "cell_type": "code",
   "execution_count": null,
   "id": "c7af4f42-819b-4847-9a99-bf5dc8bdb415",
   "metadata": {},
   "outputs": [],
   "source": [
    "metalearner.coef_norm()"
   ]
  },
  {
   "cell_type": "code",
   "execution_count": null,
   "id": "f0e7d44b-dc30-4bb5-b00e-1ae48a79b1dd",
   "metadata": {},
   "outputs": [],
   "source": [
    "%matplotlib inline\n",
    "metalearner.std_coef_plot()"
   ]
  },
  {
   "cell_type": "markdown",
   "id": "4183ebec-9aa3-43d4-a5c6-71190f85a0f1",
   "metadata": {},
   "source": [
    "# Что с важностью признаков"
   ]
  },
  {
   "cell_type": "code",
   "execution_count": null,
   "id": "69c9e567-77c9-4bb6-8f60-adaa960feeb9",
   "metadata": {},
   "outputs": [],
   "source": [
    "for model_id in model_ids:\n",
    "  try:\n",
    "    print(f\"Model ID: {model_id}\")\n",
    "    aml_unit = h2o.get_model(model_id)\n",
    "    aml_unit.varimp_plot()\n",
    "  except:\n",
    "    print(f\"{model_id} - ERROR PLOTTING\") "
   ]
  },
  {
   "cell_type": "markdown",
   "id": "1e3d0e82-a793-4834-8cb0-26b0d5a6146c",
   "metadata": {},
   "source": [
    "# Что с переобученносью"
   ]
  },
  {
   "cell_type": "code",
   "execution_count": null,
   "id": "c67b5bee-e3a2-4a36-9f21-f089d79801c5",
   "metadata": {},
   "outputs": [],
   "source": [
    "import pandas as pd\n",
    "from sklearn.metrics import r2_score\n",
    "\n",
    "for model_id in model_ids:\n",
    "  try:\n",
    "    print(f\"Model ID: {model_id}\")\n",
    "    aml_unit = h2o.get_model(model_id)\n",
    "    perf = aml_unit.model_performance(valid)\n",
    "    print(perf)\n",
    "    print(f\"R2 cross validation: {aml_unit.r2()}\")\n",
    "    print(f\"R2 test validation: {aml_unit.r2(valid=True)}\")\n",
    "    # прогноз лидирующей моделю на валидационной выборке\n",
    "    val_pred=aml_unit.predict(unseen).as_data_frame()\n",
    "    # из валидационного датасеат возбму столбец Stay и сконвертиую его в пандас датафрейм\n",
    "    val_test = unseen['Revenue_cat'].as_data_frame()\n",
    "    r2_unseen = r2_score(val_test, val_pred)\n",
    "    print(f\"R2 unseen dataset validation: {r2_unseen}\")\n",
    "    print(\"-------------------\\n-------------------\")\n",
    "  except:\n",
    "    print(f\"{model_id} - ERROR CALCULATE PERFOMANCE\")"
   ]
  },
  {
   "cell_type": "markdown",
   "id": "af99124f-2607-4e3b-b047-bff7597adfce",
   "metadata": {},
   "source": [
    "# Графии кривых обучения"
   ]
  },
  {
   "cell_type": "code",
   "execution_count": null,
   "id": "47d86507-0d30-4f8f-bc7d-f4eae0df1fe2",
   "metadata": {},
   "outputs": [],
   "source": [
    "for model_id in model_ids:\n",
    "  try:\n",
    "    learning_curve_plot = h2o.get_model(model_id).learning_curve_plot()\n",
    "  except:\n",
    "    print(model_id, \"- ERROR PLOT\")"
   ]
  },
  {
   "cell_type": "markdown",
   "id": "e5fd75e6-ece1-42aa-bd18-4cd3ddd4dcf1",
   "metadata": {},
   "source": [
    "# Сохранение лучше модели"
   ]
  },
  {
   "cell_type": "markdown",
   "id": "adc8a6dc-a8f3-410d-822f-d7c72ac0bcd7",
   "metadata": {},
   "source": [
    "Довольно стаблильный показатель по Р-квадарт"
   ]
  },
  {
   "cell_type": "code",
   "execution_count": null,
   "id": "fab6f450-588d-44d9-ba76-cb08743ec1c4",
   "metadata": {},
   "outputs": [],
   "source": [
    "#besy_model_id = 'StackedEnsemble_BestOfFamily_1_AutoML_4_20230921_114817'"
   ]
  },
  {
   "cell_type": "code",
   "execution_count": null,
   "id": "0b287290-3326-473a-83e4-493edfed7759",
   "metadata": {},
   "outputs": [],
   "source": [
    "# Сохранение лучшей модели\n",
    "#besy_model = h2o.get_model(besy_model_id)\n",
    "#h2o.save_model(besy_model, path = \"./models\")"
   ]
  }
 ],
 "metadata": {
  "kernelspec": {
   "display_name": "Python 3 (ipykernel)",
   "language": "python",
   "name": "python3"
  },
  "language_info": {
   "codemirror_mode": {
    "name": "ipython",
    "version": 3
   },
   "file_extension": ".py",
   "mimetype": "text/x-python",
   "name": "python",
   "nbconvert_exporter": "python",
   "pygments_lexer": "ipython3",
   "version": "3.8.10"
  }
 },
 "nbformat": 4,
 "nbformat_minor": 5
}
