{
 "cells": [
  {
   "cell_type": "markdown",
   "id": "b382778b-bc74-444e-8d67-9f828caead62",
   "metadata": {},
   "source": [
    "# ПРОГНОЗИРОВАНИЕ №8.4 - ПРИБЫЛЬ (КЛАССИФИКАЦИЯ)"
   ]
  },
  {
   "cell_type": "code",
   "execution_count": 1,
   "id": "555d139a-2275-4baa-9a97-b1531a46079a",
   "metadata": {
    "execution": {
     "iopub.execute_input": "2023-09-29T05:22:36.632313Z",
     "iopub.status.busy": "2023-09-29T05:22:36.632021Z",
     "iopub.status.idle": "2023-09-29T05:23:09.699747Z",
     "shell.execute_reply": "2023-09-29T05:23:09.698336Z",
     "shell.execute_reply.started": "2023-09-29T05:22:36.632284Z"
    }
   },
   "outputs": [
    {
     "name": "stdout",
     "output_type": "stream",
     "text": [
      "Checking whether there is an H2O instance running at http://localhost:54321..... not found.\n",
      "Attempting to start a local H2O server...\n",
      "  Java Version: openjdk version \"11.0.20.1\" 2023-08-24; OpenJDK Runtime Environment (build 11.0.20.1+1-post-Ubuntu-0ubuntu120.04); OpenJDK 64-Bit Server VM (build 11.0.20.1+1-post-Ubuntu-0ubuntu120.04, mixed mode, sharing)\n",
      "  Starting server from /usr/local/lib/python3.8/dist-packages/h2o/backend/bin/h2o.jar\n",
      "  Ice root: /tmp/tmplw05w98t\n",
      "  JVM stdout: /tmp/tmplw05w98t/h2o_unknownUser_started_from_python.out\n",
      "  JVM stderr: /tmp/tmplw05w98t/h2o_unknownUser_started_from_python.err\n",
      "  Server is running at http://127.0.0.1:54321\n",
      "Connecting to H2O server at http://127.0.0.1:54321 ... successful.\n"
     ]
    },
    {
     "data": {
      "text/html": [
       "\n",
       "<style>\n",
       "\n",
       "#h2o-table-1.h2o-container {\n",
       "  overflow-x: auto;\n",
       "}\n",
       "#h2o-table-1 .h2o-table {\n",
       "  /* width: 100%; */\n",
       "  margin-top: 1em;\n",
       "  margin-bottom: 1em;\n",
       "}\n",
       "#h2o-table-1 .h2o-table caption {\n",
       "  white-space: nowrap;\n",
       "  caption-side: top;\n",
       "  text-align: left;\n",
       "  /* margin-left: 1em; */\n",
       "  margin: 0;\n",
       "  font-size: larger;\n",
       "}\n",
       "#h2o-table-1 .h2o-table thead {\n",
       "  white-space: nowrap; \n",
       "  position: sticky;\n",
       "  top: 0;\n",
       "  box-shadow: 0 -1px inset;\n",
       "}\n",
       "#h2o-table-1 .h2o-table tbody {\n",
       "  overflow: auto;\n",
       "}\n",
       "#h2o-table-1 .h2o-table th,\n",
       "#h2o-table-1 .h2o-table td {\n",
       "  text-align: right;\n",
       "  /* border: 1px solid; */\n",
       "}\n",
       "#h2o-table-1 .h2o-table tr:nth-child(even) {\n",
       "  /* background: #F5F5F5 */\n",
       "}\n",
       "\n",
       "</style>      \n",
       "<div id=\"h2o-table-1\" class=\"h2o-container\">\n",
       "  <table class=\"h2o-table\">\n",
       "    <caption></caption>\n",
       "    <thead></thead>\n",
       "    <tbody><tr><td>H2O_cluster_uptime:</td>\n",
       "<td>06 secs</td></tr>\n",
       "<tr><td>H2O_cluster_timezone:</td>\n",
       "<td>Etc/GMT</td></tr>\n",
       "<tr><td>H2O_data_parsing_timezone:</td>\n",
       "<td>UTC</td></tr>\n",
       "<tr><td>H2O_cluster_version:</td>\n",
       "<td>3.42.0.2</td></tr>\n",
       "<tr><td>H2O_cluster_version_age:</td>\n",
       "<td>2 months and 3 days</td></tr>\n",
       "<tr><td>H2O_cluster_name:</td>\n",
       "<td>H2O_from_python_unknownUser_lu56ah</td></tr>\n",
       "<tr><td>H2O_cluster_total_nodes:</td>\n",
       "<td>1</td></tr>\n",
       "<tr><td>H2O_cluster_free_memory:</td>\n",
       "<td>1.926 Gb</td></tr>\n",
       "<tr><td>H2O_cluster_total_cores:</td>\n",
       "<td>8</td></tr>\n",
       "<tr><td>H2O_cluster_allowed_cores:</td>\n",
       "<td>8</td></tr>\n",
       "<tr><td>H2O_cluster_status:</td>\n",
       "<td>locked, healthy</td></tr>\n",
       "<tr><td>H2O_connection_url:</td>\n",
       "<td>http://127.0.0.1:54321</td></tr>\n",
       "<tr><td>H2O_connection_proxy:</td>\n",
       "<td>{\"http\": null, \"https\": null}</td></tr>\n",
       "<tr><td>H2O_internal_security:</td>\n",
       "<td>False</td></tr>\n",
       "<tr><td>Python_version:</td>\n",
       "<td>3.8.10 final</td></tr></tbody>\n",
       "  </table>\n",
       "</div>\n"
      ],
      "text/plain": [
       "--------------------------  ----------------------------------\n",
       "H2O_cluster_uptime:         06 secs\n",
       "H2O_cluster_timezone:       Etc/GMT\n",
       "H2O_data_parsing_timezone:  UTC\n",
       "H2O_cluster_version:        3.42.0.2\n",
       "H2O_cluster_version_age:    2 months and 3 days\n",
       "H2O_cluster_name:           H2O_from_python_unknownUser_lu56ah\n",
       "H2O_cluster_total_nodes:    1\n",
       "H2O_cluster_free_memory:    1.926 Gb\n",
       "H2O_cluster_total_cores:    8\n",
       "H2O_cluster_allowed_cores:  8\n",
       "H2O_cluster_status:         locked, healthy\n",
       "H2O_connection_url:         http://127.0.0.1:54321\n",
       "H2O_connection_proxy:       {\"http\": null, \"https\": null}\n",
       "H2O_internal_security:      False\n",
       "Python_version:             3.8.10 final\n",
       "--------------------------  ----------------------------------"
      ]
     },
     "metadata": {},
     "output_type": "display_data"
    }
   ],
   "source": [
    "import h2o\n",
    "from h2o.automl import H2OAutoML\n",
    "h2o.init()"
   ]
  },
  {
   "cell_type": "code",
   "execution_count": 2,
   "id": "868beb7a-6463-43d2-a013-24c637636813",
   "metadata": {
    "execution": {
     "iopub.execute_input": "2023-09-29T05:23:09.702123Z",
     "iopub.status.busy": "2023-09-29T05:23:09.701464Z",
     "iopub.status.idle": "2023-09-29T05:23:16.187470Z",
     "shell.execute_reply": "2023-09-29T05:23:16.186295Z",
     "shell.execute_reply.started": "2023-09-29T05:23:09.702081Z"
    }
   },
   "outputs": [
    {
     "name": "stdout",
     "output_type": "stream",
     "text": [
      "Parse progress: |████████████████████████████████████████████████████████████████| (done) 100%\n"
     ]
    },
    {
     "data": {
      "text/html": [
       "<table class='dataframe'>\n",
       "<thead>\n",
       "<tr><th style=\"text-align: right;\">  Zip</th><th style=\"text-align: right;\">  Units</th><th>Manufacturer  </th><th style=\"text-align: right;\">  MonthNo</th><th style=\"text-align: right;\">  Model_id_number</th><th>CategoryInSegment  </th><th>Revenue_cat    </th></tr>\n",
       "</thead>\n",
       "<tbody>\n",
       "<tr><td style=\"text-align: right;\"> 6111</td><td style=\"text-align: right;\">     12</td><td>Natura        </td><td style=\"text-align: right;\">       12</td><td style=\"text-align: right;\">               44</td><td>UrbanConvenience   </td><td>Revenue_cat #49</td></tr>\n",
       "<tr><td style=\"text-align: right;\">92879</td><td style=\"text-align: right;\">      7</td><td>Pirum         </td><td style=\"text-align: right;\">       12</td><td style=\"text-align: right;\">               32</td><td>RuralProductivity  </td><td>Revenue_cat #43</td></tr>\n",
       "<tr><td style=\"text-align: right;\">92879</td><td style=\"text-align: right;\">      7</td><td>Pirum         </td><td style=\"text-align: right;\">       12</td><td style=\"text-align: right;\">               31</td><td>RuralProductivity  </td><td>Revenue_cat #43</td></tr>\n",
       "<tr><td style=\"text-align: right;\">32901</td><td style=\"text-align: right;\">      3</td><td>VanArsdel     </td><td style=\"text-align: right;\">       12</td><td style=\"text-align: right;\">               94</td><td>UrbanModeration    </td><td>Revenue_cat #49</td></tr>\n",
       "<tr><td style=\"text-align: right;\">84770</td><td style=\"text-align: right;\">      3</td><td>Currus        </td><td style=\"text-align: right;\">       12</td><td style=\"text-align: right;\">                8</td><td>RuralSelect        </td><td>Revenue_cat #49</td></tr>\n",
       "<tr><td style=\"text-align: right;\">95380</td><td style=\"text-align: right;\">      3</td><td>Abbas         </td><td style=\"text-align: right;\">       12</td><td style=\"text-align: right;\">               33</td><td>UrbanModeration    </td><td>Revenue_cat #49</td></tr>\n",
       "<tr><td style=\"text-align: right;\">14559</td><td style=\"text-align: right;\">      2</td><td>Natura        </td><td style=\"text-align: right;\">       12</td><td style=\"text-align: right;\">               14</td><td>YouthYouth         </td><td>Revenue_cat #14</td></tr>\n",
       "<tr><td style=\"text-align: right;\">16301</td><td style=\"text-align: right;\">      2</td><td>Natura        </td><td style=\"text-align: right;\">       12</td><td style=\"text-align: right;\">               14</td><td>YouthYouth         </td><td>Revenue_cat #14</td></tr>\n",
       "<tr><td style=\"text-align: right;\">48439</td><td style=\"text-align: right;\">      2</td><td>Quibus        </td><td style=\"text-align: right;\">       12</td><td style=\"text-align: right;\">                4</td><td>RuralSelect        </td><td>Revenue_cat #38</td></tr>\n",
       "<tr><td style=\"text-align: right;\">21787</td><td style=\"text-align: right;\">      2</td><td>VanArsdel     </td><td style=\"text-align: right;\">       12</td><td style=\"text-align: right;\">               70</td><td>UrbanModeration    </td><td>Revenue_cat #49</td></tr>\n",
       "</tbody>\n",
       "</table><pre style='font-size: smaller; margin-bottom: 1em;'>[970935 rows x 7 columns]</pre>"
      ],
      "text/plain": [
       "  Zip    Units  Manufacturer      MonthNo    Model_id_number  CategoryInSegment    Revenue_cat\n",
       "-----  -------  --------------  ---------  -----------------  -------------------  ---------------\n",
       " 6111       12  Natura                 12                 44  UrbanConvenience     Revenue_cat #49\n",
       "92879        7  Pirum                  12                 32  RuralProductivity    Revenue_cat #43\n",
       "92879        7  Pirum                  12                 31  RuralProductivity    Revenue_cat #43\n",
       "32901        3  VanArsdel              12                 94  UrbanModeration      Revenue_cat #49\n",
       "84770        3  Currus                 12                  8  RuralSelect          Revenue_cat #49\n",
       "95380        3  Abbas                  12                 33  UrbanModeration      Revenue_cat #49\n",
       "14559        2  Natura                 12                 14  YouthYouth           Revenue_cat #14\n",
       "16301        2  Natura                 12                 14  YouthYouth           Revenue_cat #14\n",
       "48439        2  Quibus                 12                  4  RuralSelect          Revenue_cat #38\n",
       "21787        2  VanArsdel              12                 70  UrbanModeration      Revenue_cat #49\n",
       "[970935 rows x 7 columns]\n"
      ]
     },
     "execution_count": 2,
     "metadata": {},
     "output_type": "execute_result"
    }
   ],
   "source": [
    "#file = '/content/drive/MyDrive/Colab Notebooks/Diplom/df4eda2clean2.csv'\n",
    "file = 'df2prep4regressionV8.csv'\n",
    "df = h2o.import_file(file)\n",
    "df = df.drop('C1')\n",
    "#df = df.drop('Revenue_cat')\n",
    "df = df.drop('Revenue_T')\n",
    "df = df.drop('abc_xyz_class')\n",
    "df"
   ]
  },
  {
   "cell_type": "code",
   "execution_count": 3,
   "id": "24b63abf-449b-4ed5-8d17-b1c4b4df3faa",
   "metadata": {
    "execution": {
     "iopub.execute_input": "2023-09-29T05:23:16.189534Z",
     "iopub.status.busy": "2023-09-29T05:23:16.189029Z",
     "iopub.status.idle": "2023-09-29T05:23:17.546318Z",
     "shell.execute_reply": "2023-09-29T05:23:17.545120Z",
     "shell.execute_reply.started": "2023-09-29T05:23:16.189492Z"
    }
   },
   "outputs": [],
   "source": [
    "train, valid, unseen = df.split_frame(ratios=[0.7, 0.15])"
   ]
  },
  {
   "cell_type": "code",
   "execution_count": 4,
   "id": "e8cc6bc2-0d9b-4322-9a47-ab03326c72b2",
   "metadata": {
    "execution": {
     "iopub.execute_input": "2023-09-29T05:23:17.550932Z",
     "iopub.status.busy": "2023-09-29T05:23:17.550409Z",
     "iopub.status.idle": "2023-09-29T05:23:17.564383Z",
     "shell.execute_reply": "2023-09-29T05:23:17.563285Z",
     "shell.execute_reply.started": "2023-09-29T05:23:17.550851Z"
    }
   },
   "outputs": [
    {
     "data": {
      "text/html": [
       "<table class='dataframe'>\n",
       "<thead>\n",
       "<tr><th style=\"text-align: right;\">  Zip</th><th style=\"text-align: right;\">  Units</th><th>Manufacturer  </th><th style=\"text-align: right;\">  MonthNo</th><th style=\"text-align: right;\">  Model_id_number</th><th>CategoryInSegment  </th><th>Revenue_cat    </th></tr>\n",
       "</thead>\n",
       "<tbody>\n",
       "<tr><td style=\"text-align: right;\"> 6111</td><td style=\"text-align: right;\">     12</td><td>Natura        </td><td style=\"text-align: right;\">       12</td><td style=\"text-align: right;\">               44</td><td>UrbanConvenience   </td><td>Revenue_cat #49</td></tr>\n",
       "<tr><td style=\"text-align: right;\">92879</td><td style=\"text-align: right;\">      7</td><td>Pirum         </td><td style=\"text-align: right;\">       12</td><td style=\"text-align: right;\">               32</td><td>RuralProductivity  </td><td>Revenue_cat #43</td></tr>\n",
       "<tr><td style=\"text-align: right;\">92879</td><td style=\"text-align: right;\">      7</td><td>Pirum         </td><td style=\"text-align: right;\">       12</td><td style=\"text-align: right;\">               31</td><td>RuralProductivity  </td><td>Revenue_cat #43</td></tr>\n",
       "<tr><td style=\"text-align: right;\">32901</td><td style=\"text-align: right;\">      3</td><td>VanArsdel     </td><td style=\"text-align: right;\">       12</td><td style=\"text-align: right;\">               94</td><td>UrbanModeration    </td><td>Revenue_cat #49</td></tr>\n",
       "<tr><td style=\"text-align: right;\">95380</td><td style=\"text-align: right;\">      3</td><td>Abbas         </td><td style=\"text-align: right;\">       12</td><td style=\"text-align: right;\">               33</td><td>UrbanModeration    </td><td>Revenue_cat #49</td></tr>\n",
       "<tr><td style=\"text-align: right;\">14559</td><td style=\"text-align: right;\">      2</td><td>Natura        </td><td style=\"text-align: right;\">       12</td><td style=\"text-align: right;\">               14</td><td>YouthYouth         </td><td>Revenue_cat #14</td></tr>\n",
       "<tr><td style=\"text-align: right;\">48439</td><td style=\"text-align: right;\">      2</td><td>Quibus        </td><td style=\"text-align: right;\">       12</td><td style=\"text-align: right;\">                4</td><td>RuralSelect        </td><td>Revenue_cat #38</td></tr>\n",
       "<tr><td style=\"text-align: right;\">70578</td><td style=\"text-align: right;\">      1</td><td>VanArsdel     </td><td style=\"text-align: right;\">       12</td><td style=\"text-align: right;\">               69</td><td>UrbanConvenience   </td><td>Revenue_cat #33</td></tr>\n",
       "<tr><td style=\"text-align: right;\">32164</td><td style=\"text-align: right;\">      1</td><td>Natura        </td><td style=\"text-align: right;\">       12</td><td style=\"text-align: right;\">               10</td><td>UrbanModeration    </td><td>Revenue_cat #48</td></tr>\n",
       "<tr><td style=\"text-align: right;\">15955</td><td style=\"text-align: right;\">      1</td><td>Aliqui        </td><td style=\"text-align: right;\">       12</td><td style=\"text-align: right;\">                5</td><td>UrbanExtreme       </td><td>Revenue_cat #38</td></tr>\n",
       "</tbody>\n",
       "</table><pre style='font-size: smaller; margin-bottom: 1em;'>[679623 rows x 7 columns]</pre>"
      ],
      "text/plain": [
       "  Zip    Units  Manufacturer      MonthNo    Model_id_number  CategoryInSegment    Revenue_cat\n",
       "-----  -------  --------------  ---------  -----------------  -------------------  ---------------\n",
       " 6111       12  Natura                 12                 44  UrbanConvenience     Revenue_cat #49\n",
       "92879        7  Pirum                  12                 32  RuralProductivity    Revenue_cat #43\n",
       "92879        7  Pirum                  12                 31  RuralProductivity    Revenue_cat #43\n",
       "32901        3  VanArsdel              12                 94  UrbanModeration      Revenue_cat #49\n",
       "95380        3  Abbas                  12                 33  UrbanModeration      Revenue_cat #49\n",
       "14559        2  Natura                 12                 14  YouthYouth           Revenue_cat #14\n",
       "48439        2  Quibus                 12                  4  RuralSelect          Revenue_cat #38\n",
       "70578        1  VanArsdel              12                 69  UrbanConvenience     Revenue_cat #33\n",
       "32164        1  Natura                 12                 10  UrbanModeration      Revenue_cat #48\n",
       "15955        1  Aliqui                 12                  5  UrbanExtreme         Revenue_cat #38\n",
       "[679623 rows x 7 columns]\n"
      ]
     },
     "execution_count": 4,
     "metadata": {},
     "output_type": "execute_result"
    }
   ],
   "source": [
    "train"
   ]
  },
  {
   "cell_type": "code",
   "execution_count": 5,
   "id": "729bd346-9fb3-4034-ae9d-f18d6ac586fa",
   "metadata": {
    "execution": {
     "iopub.execute_input": "2023-09-29T05:23:17.566314Z",
     "iopub.status.busy": "2023-09-29T05:23:17.565871Z",
     "iopub.status.idle": "2023-09-29T05:23:17.689598Z",
     "shell.execute_reply": "2023-09-29T05:23:17.687161Z",
     "shell.execute_reply.started": "2023-09-29T05:23:17.566276Z"
    }
   },
   "outputs": [
    {
     "data": {
      "text/html": [
       "<table class='dataframe'>\n",
       "<thead>\n",
       "<tr><th style=\"text-align: right;\">  Zip</th><th style=\"text-align: right;\">  Units</th><th>Manufacturer  </th><th style=\"text-align: right;\">  MonthNo</th><th style=\"text-align: right;\">  Model_id_number</th><th>CategoryInSegment  </th><th>Revenue_cat    </th></tr>\n",
       "</thead>\n",
       "<tbody>\n",
       "<tr><td style=\"text-align: right;\">21787</td><td style=\"text-align: right;\">      2</td><td>VanArsdel     </td><td style=\"text-align: right;\">       12</td><td style=\"text-align: right;\">               70</td><td>UrbanModeration    </td><td>Revenue_cat #49</td></tr>\n",
       "<tr><td style=\"text-align: right;\"> 7503</td><td style=\"text-align: right;\">      2</td><td>Currus        </td><td style=\"text-align: right;\">       12</td><td style=\"text-align: right;\">                5</td><td>MixAll Season      </td><td>Revenue_cat #38</td></tr>\n",
       "<tr><td style=\"text-align: right;\">33126</td><td style=\"text-align: right;\">      2</td><td>Natura        </td><td style=\"text-align: right;\">       12</td><td style=\"text-align: right;\">               18</td><td>UrbanModeration    </td><td>Revenue_cat #49</td></tr>\n",
       "<tr><td style=\"text-align: right;\"> 6450</td><td style=\"text-align: right;\">      1</td><td>Natura        </td><td style=\"text-align: right;\">       12</td><td style=\"text-align: right;\">               10</td><td>UrbanModeration    </td><td>Revenue_cat #48</td></tr>\n",
       "<tr><td style=\"text-align: right;\">10032</td><td style=\"text-align: right;\">      1</td><td>Aliqui        </td><td style=\"text-align: right;\">       12</td><td style=\"text-align: right;\">                5</td><td>UrbanExtreme       </td><td>Revenue_cat #38</td></tr>\n",
       "<tr><td style=\"text-align: right;\">60101</td><td style=\"text-align: right;\">      1</td><td>Aliqui        </td><td style=\"text-align: right;\">       12</td><td style=\"text-align: right;\">                5</td><td>UrbanExtreme       </td><td>Revenue_cat #38</td></tr>\n",
       "<tr><td style=\"text-align: right;\">92562</td><td style=\"text-align: right;\">      1</td><td>VanArsdel     </td><td style=\"text-align: right;\">       12</td><td style=\"text-align: right;\">               11</td><td>UrbanModeration    </td><td>Revenue_cat #49</td></tr>\n",
       "<tr><td style=\"text-align: right;\">23139</td><td style=\"text-align: right;\">      1</td><td>Currus        </td><td style=\"text-align: right;\">       12</td><td style=\"text-align: right;\">               14</td><td>UrbanExtreme       </td><td>Revenue_cat #38</td></tr>\n",
       "<tr><td style=\"text-align: right;\">34482</td><td style=\"text-align: right;\">      1</td><td>Currus        </td><td style=\"text-align: right;\">       12</td><td style=\"text-align: right;\">               24</td><td>UrbanExtreme       </td><td>Revenue_cat #36</td></tr>\n",
       "<tr><td style=\"text-align: right;\">10924</td><td style=\"text-align: right;\">      1</td><td>Currus        </td><td style=\"text-align: right;\">       12</td><td style=\"text-align: right;\">               24</td><td>UrbanExtreme       </td><td>Revenue_cat #36</td></tr>\n",
       "</tbody>\n",
       "</table><pre style='font-size: smaller; margin-bottom: 1em;'>[145524 rows x 7 columns]</pre>"
      ],
      "text/plain": [
       "  Zip    Units  Manufacturer      MonthNo    Model_id_number  CategoryInSegment    Revenue_cat\n",
       "-----  -------  --------------  ---------  -----------------  -------------------  ---------------\n",
       "21787        2  VanArsdel              12                 70  UrbanModeration      Revenue_cat #49\n",
       " 7503        2  Currus                 12                  5  MixAll Season        Revenue_cat #38\n",
       "33126        2  Natura                 12                 18  UrbanModeration      Revenue_cat #49\n",
       " 6450        1  Natura                 12                 10  UrbanModeration      Revenue_cat #48\n",
       "10032        1  Aliqui                 12                  5  UrbanExtreme         Revenue_cat #38\n",
       "60101        1  Aliqui                 12                  5  UrbanExtreme         Revenue_cat #38\n",
       "92562        1  VanArsdel              12                 11  UrbanModeration      Revenue_cat #49\n",
       "23139        1  Currus                 12                 14  UrbanExtreme         Revenue_cat #38\n",
       "34482        1  Currus                 12                 24  UrbanExtreme         Revenue_cat #36\n",
       "10924        1  Currus                 12                 24  UrbanExtreme         Revenue_cat #36\n",
       "[145524 rows x 7 columns]\n"
      ]
     },
     "execution_count": 5,
     "metadata": {},
     "output_type": "execute_result"
    }
   ],
   "source": [
    "valid"
   ]
  },
  {
   "cell_type": "code",
   "execution_count": 6,
   "id": "f3ac5a9b-34a1-45d9-8720-36b61b113816",
   "metadata": {
    "execution": {
     "iopub.execute_input": "2023-09-29T05:23:17.691178Z",
     "iopub.status.busy": "2023-09-29T05:23:17.690879Z",
     "iopub.status.idle": "2023-09-29T05:23:17.791287Z",
     "shell.execute_reply": "2023-09-29T05:23:17.789412Z",
     "shell.execute_reply.started": "2023-09-29T05:23:17.691150Z"
    }
   },
   "outputs": [
    {
     "data": {
      "text/html": [
       "<table class='dataframe'>\n",
       "<thead>\n",
       "<tr><th style=\"text-align: right;\">  Zip</th><th style=\"text-align: right;\">  Units</th><th>Manufacturer  </th><th style=\"text-align: right;\">  MonthNo</th><th style=\"text-align: right;\">  Model_id_number</th><th>CategoryInSegment  </th><th>Revenue_cat    </th></tr>\n",
       "</thead>\n",
       "<tbody>\n",
       "<tr><td style=\"text-align: right;\">84770</td><td style=\"text-align: right;\">      3</td><td>Currus        </td><td style=\"text-align: right;\">       12</td><td style=\"text-align: right;\">                8</td><td>RuralSelect        </td><td>Revenue_cat #49</td></tr>\n",
       "<tr><td style=\"text-align: right;\">16301</td><td style=\"text-align: right;\">      2</td><td>Natura        </td><td style=\"text-align: right;\">       12</td><td style=\"text-align: right;\">               14</td><td>YouthYouth         </td><td>Revenue_cat #14</td></tr>\n",
       "<tr><td style=\"text-align: right;\">60073</td><td style=\"text-align: right;\">      2</td><td>Natura        </td><td style=\"text-align: right;\">       12</td><td style=\"text-align: right;\">               26</td><td>UrbanConvenience   </td><td>Revenue_cat #40</td></tr>\n",
       "<tr><td style=\"text-align: right;\">30901</td><td style=\"text-align: right;\">      1</td><td>Natura        </td><td style=\"text-align: right;\">       12</td><td style=\"text-align: right;\">               36</td><td>UrbanExtreme       </td><td>Revenue_cat #35</td></tr>\n",
       "<tr><td style=\"text-align: right;\">44811</td><td style=\"text-align: right;\">      1</td><td>Natura        </td><td style=\"text-align: right;\">       12</td><td style=\"text-align: right;\">               36</td><td>UrbanExtreme       </td><td>Revenue_cat #35</td></tr>\n",
       "<tr><td style=\"text-align: right;\">94065</td><td style=\"text-align: right;\">      1</td><td>Aliqui        </td><td style=\"text-align: right;\">       12</td><td style=\"text-align: right;\">                6</td><td>UrbanExtreme       </td><td>Revenue_cat #34</td></tr>\n",
       "<tr><td style=\"text-align: right;\">22302</td><td style=\"text-align: right;\">      1</td><td>VanArsdel     </td><td style=\"text-align: right;\">       12</td><td style=\"text-align: right;\">               54</td><td>UrbanModeration    </td><td>Revenue_cat #47</td></tr>\n",
       "<tr><td style=\"text-align: right;\">78226</td><td style=\"text-align: right;\">      1</td><td>VanArsdel     </td><td style=\"text-align: right;\">       12</td><td style=\"text-align: right;\">               54</td><td>UrbanModeration    </td><td>Revenue_cat #47</td></tr>\n",
       "<tr><td style=\"text-align: right;\">25312</td><td style=\"text-align: right;\">      1</td><td>Currus        </td><td style=\"text-align: right;\">       12</td><td style=\"text-align: right;\">                5</td><td>UrbanExtreme       </td><td>Revenue_cat #35</td></tr>\n",
       "<tr><td style=\"text-align: right;\">30559</td><td style=\"text-align: right;\">      1</td><td>Currus        </td><td style=\"text-align: right;\">       12</td><td style=\"text-align: right;\">                5</td><td>UrbanExtreme       </td><td>Revenue_cat #35</td></tr>\n",
       "</tbody>\n",
       "</table><pre style='font-size: smaller; margin-bottom: 1em;'>[145788 rows x 7 columns]</pre>"
      ],
      "text/plain": [
       "  Zip    Units  Manufacturer      MonthNo    Model_id_number  CategoryInSegment    Revenue_cat\n",
       "-----  -------  --------------  ---------  -----------------  -------------------  ---------------\n",
       "84770        3  Currus                 12                  8  RuralSelect          Revenue_cat #49\n",
       "16301        2  Natura                 12                 14  YouthYouth           Revenue_cat #14\n",
       "60073        2  Natura                 12                 26  UrbanConvenience     Revenue_cat #40\n",
       "30901        1  Natura                 12                 36  UrbanExtreme         Revenue_cat #35\n",
       "44811        1  Natura                 12                 36  UrbanExtreme         Revenue_cat #35\n",
       "94065        1  Aliqui                 12                  6  UrbanExtreme         Revenue_cat #34\n",
       "22302        1  VanArsdel              12                 54  UrbanModeration      Revenue_cat #47\n",
       "78226        1  VanArsdel              12                 54  UrbanModeration      Revenue_cat #47\n",
       "25312        1  Currus                 12                  5  UrbanExtreme         Revenue_cat #35\n",
       "30559        1  Currus                 12                  5  UrbanExtreme         Revenue_cat #35\n",
       "[145788 rows x 7 columns]\n"
      ]
     },
     "execution_count": 6,
     "metadata": {},
     "output_type": "execute_result"
    }
   ],
   "source": [
    "unseen"
   ]
  },
  {
   "cell_type": "code",
   "execution_count": 7,
   "id": "fea305df-1eb5-4923-8768-12cfa1854655",
   "metadata": {
    "execution": {
     "iopub.execute_input": "2023-09-29T05:23:17.794541Z",
     "iopub.status.busy": "2023-09-29T05:23:17.793726Z",
     "iopub.status.idle": "2023-09-29T05:23:17.893698Z",
     "shell.execute_reply": "2023-09-29T05:23:17.890686Z",
     "shell.execute_reply.started": "2023-09-29T05:23:17.794476Z"
    }
   },
   "outputs": [],
   "source": [
    "y = \"Revenue_cat\"\n",
    "x=train.columns\n",
    "x.remove(y)"
   ]
  },
  {
   "cell_type": "markdown",
   "id": "db7541b9-21e5-45cd-b745-4717b06f5dca",
   "metadata": {},
   "source": [
    "# Тренировка модели"
   ]
  },
  {
   "cell_type": "markdown",
   "id": "ce26eebf-cd0c-4a92-8641-c3ad120584f9",
   "metadata": {},
   "source": [
    "nfolds=0 - это отключает перексрестную проверку и точность будет проверятся на указанной валидационной выборке"
   ]
  },
  {
   "cell_type": "code",
   "execution_count": 8,
   "id": "fa321d95-ad11-4d90-9dd8-72e7b8d958bc",
   "metadata": {
    "execution": {
     "iopub.execute_input": "2023-09-29T05:23:17.895851Z",
     "iopub.status.busy": "2023-09-29T05:23:17.895549Z",
     "iopub.status.idle": "2023-09-29T05:37:28.620304Z",
     "shell.execute_reply": "2023-09-29T05:37:28.617700Z",
     "shell.execute_reply.started": "2023-09-29T05:23:17.895823Z"
    }
   },
   "outputs": [
    {
     "name": "stdout",
     "output_type": "stream",
     "text": [
      "AutoML progress: |██ (cancelled)\n"
     ]
    },
    {
     "ename": "H2OJobCancelled",
     "evalue": "Job<$03017f00000132d4ffffffff$_b3bc5e5262d5f4b723a8d914561a4a2b> was cancelled by the user.",
     "output_type": "error",
     "traceback": [
      "\u001b[0;31m---------------------------------------------------------------------------\u001b[0m",
      "\u001b[0;31mH2OJobCancelled\u001b[0m                           Traceback (most recent call last)",
      "Cell \u001b[0;32mIn[8], line 6\u001b[0m\n\u001b[1;32m      1\u001b[0m aml \u001b[38;5;241m=\u001b[39m H2OAutoML(\n\u001b[1;32m      2\u001b[0m     max_models \u001b[38;5;241m=\u001b[39m \u001b[38;5;241m10\u001b[39m,\n\u001b[1;32m      3\u001b[0m     seed \u001b[38;5;241m=\u001b[39m \u001b[38;5;241m1\u001b[39m,\n\u001b[1;32m      4\u001b[0m     nfolds \u001b[38;5;241m=\u001b[39m \u001b[38;5;241m0\u001b[39m \u001b[38;5;66;03m# отключение кросс валидации\u001b[39;00m\n\u001b[1;32m      5\u001b[0m )\n\u001b[0;32m----> 6\u001b[0m \u001b[43maml\u001b[49m\u001b[38;5;241;43m.\u001b[39;49m\u001b[43mtrain\u001b[49m\u001b[43m(\u001b[49m\u001b[43mx\u001b[49m\u001b[43m \u001b[49m\u001b[38;5;241;43m=\u001b[39;49m\u001b[43m \u001b[49m\u001b[43mx\u001b[49m\u001b[43m,\u001b[49m\u001b[43m \u001b[49m\u001b[43my\u001b[49m\u001b[43m \u001b[49m\u001b[38;5;241;43m=\u001b[39;49m\u001b[43m \u001b[49m\u001b[43my\u001b[49m\u001b[43m,\u001b[49m\u001b[43m \u001b[49m\u001b[43mtraining_frame\u001b[49m\u001b[43m \u001b[49m\u001b[38;5;241;43m=\u001b[39;49m\u001b[43m \u001b[49m\u001b[43mtrain\u001b[49m\u001b[43m,\u001b[49m\u001b[43m \u001b[49m\u001b[43mvalidation_frame\u001b[49m\u001b[43m \u001b[49m\u001b[38;5;241;43m=\u001b[39;49m\u001b[43m \u001b[49m\u001b[43mvalid\u001b[49m\u001b[43m)\u001b[49m\n",
      "File \u001b[0;32m/usr/local/lib/python3.8/dist-packages/h2o/automl/_estimator.py:676\u001b[0m, in \u001b[0;36mH2OAutoML.train\u001b[0;34m(self, x, y, training_frame, fold_column, weights_column, validation_frame, leaderboard_frame, blending_frame)\u001b[0m\n\u001b[1;32m    674\u001b[0m poll_updates \u001b[38;5;241m=\u001b[39m ft\u001b[38;5;241m.\u001b[39mpartial(\u001b[38;5;28mself\u001b[39m\u001b[38;5;241m.\u001b[39m_poll_training_updates, verbosity\u001b[38;5;241m=\u001b[39m\u001b[38;5;28mself\u001b[39m\u001b[38;5;241m.\u001b[39m_verbosity, state\u001b[38;5;241m=\u001b[39m{})\n\u001b[1;32m    675\u001b[0m \u001b[38;5;28;01mtry\u001b[39;00m:\n\u001b[0;32m--> 676\u001b[0m     \u001b[38;5;28;43mself\u001b[39;49m\u001b[38;5;241;43m.\u001b[39;49m\u001b[43m_job\u001b[49m\u001b[38;5;241;43m.\u001b[39;49m\u001b[43mpoll\u001b[49m\u001b[43m(\u001b[49m\u001b[43mpoll_updates\u001b[49m\u001b[38;5;241;43m=\u001b[39;49m\u001b[43mpoll_updates\u001b[49m\u001b[43m)\u001b[49m\n\u001b[1;32m    677\u001b[0m \u001b[38;5;28;01mfinally\u001b[39;00m:\n\u001b[1;32m    678\u001b[0m     poll_updates(\u001b[38;5;28mself\u001b[39m\u001b[38;5;241m.\u001b[39m_job, \u001b[38;5;241m1\u001b[39m)\n",
      "File \u001b[0;32m/usr/local/lib/python3.8/dist-packages/h2o/job.py:85\u001b[0m, in \u001b[0;36mH2OJob.poll\u001b[0;34m(self, poll_updates)\u001b[0m\n\u001b[1;32m     83\u001b[0m \u001b[38;5;66;03m# check if failed... and politely print relevant message\u001b[39;00m\n\u001b[1;32m     84\u001b[0m \u001b[38;5;28;01mif\u001b[39;00m \u001b[38;5;28mself\u001b[39m\u001b[38;5;241m.\u001b[39mstatus \u001b[38;5;241m==\u001b[39m \u001b[38;5;124m\"\u001b[39m\u001b[38;5;124mCANCELLED\u001b[39m\u001b[38;5;124m\"\u001b[39m:\n\u001b[0;32m---> 85\u001b[0m     \u001b[38;5;28;01mraise\u001b[39;00m H2OJobCancelled(\u001b[38;5;124m\"\u001b[39m\u001b[38;5;124mJob<\u001b[39m\u001b[38;5;132;01m%s\u001b[39;00m\u001b[38;5;124m> was cancelled by the user.\u001b[39m\u001b[38;5;124m\"\u001b[39m \u001b[38;5;241m%\u001b[39m \u001b[38;5;28mself\u001b[39m\u001b[38;5;241m.\u001b[39mjob_key)\n\u001b[1;32m     86\u001b[0m \u001b[38;5;28;01mif\u001b[39;00m \u001b[38;5;28mself\u001b[39m\u001b[38;5;241m.\u001b[39mstatus \u001b[38;5;241m==\u001b[39m \u001b[38;5;124m\"\u001b[39m\u001b[38;5;124mFAILED\u001b[39m\u001b[38;5;124m\"\u001b[39m:\n\u001b[1;32m     87\u001b[0m     \u001b[38;5;28;01mif\u001b[39;00m (\u001b[38;5;28misinstance\u001b[39m(\u001b[38;5;28mself\u001b[39m\u001b[38;5;241m.\u001b[39mjob, \u001b[38;5;28mdict\u001b[39m)) \u001b[38;5;129;01mand\u001b[39;00m (\u001b[38;5;124m\"\u001b[39m\u001b[38;5;124mstacktrace\u001b[39m\u001b[38;5;124m\"\u001b[39m \u001b[38;5;129;01min\u001b[39;00m \u001b[38;5;28mlist\u001b[39m(\u001b[38;5;28mself\u001b[39m\u001b[38;5;241m.\u001b[39mjob)):\n",
      "\u001b[0;31mH2OJobCancelled\u001b[0m: Job<$03017f00000132d4ffffffff$_b3bc5e5262d5f4b723a8d914561a4a2b> was cancelled by the user."
     ]
    }
   ],
   "source": [
    "aml = H2OAutoML(\n",
    "    max_models = 10,\n",
    "    seed = 1,\n",
    "    nfolds = 0 # отключение кросс валидации\n",
    ")\n",
    "aml.train(x = x, y = y, training_frame = train, validation_frame = valid)"
   ]
  },
  {
   "cell_type": "code",
   "execution_count": null,
   "id": "18d8e467-d0a0-463a-ae94-53770bcf22ac",
   "metadata": {
    "execution": {
     "iopub.status.busy": "2023-09-29T05:37:28.621362Z",
     "iopub.status.idle": "2023-09-29T05:37:28.621823Z",
     "shell.execute_reply": "2023-09-29T05:37:28.621600Z",
     "shell.execute_reply.started": "2023-09-29T05:37:28.621577Z"
    }
   },
   "outputs": [],
   "source": [
    "lb = aml.leaderboard\n",
    "lb"
   ]
  },
  {
   "cell_type": "code",
   "execution_count": null,
   "id": "dc866f48-7e64-4c82-b7b6-70c978e3320c",
   "metadata": {
    "execution": {
     "iopub.status.busy": "2023-09-29T05:37:28.623472Z",
     "iopub.status.idle": "2023-09-29T05:37:28.623926Z",
     "shell.execute_reply": "2023-09-29T05:37:28.623707Z",
     "shell.execute_reply.started": "2023-09-29T05:37:28.623685Z"
    }
   },
   "outputs": [],
   "source": [
    "# Get model ids for all models in the AutoML Leaderboard\n",
    "model_ids = list(lb['model_id'].as_data_frame().iloc[:,0])\n",
    "model_ids"
   ]
  },
  {
   "cell_type": "code",
   "execution_count": null,
   "id": "205352ef-033e-46da-b618-d09fdc0a0480",
   "metadata": {
    "execution": {
     "iopub.status.busy": "2023-09-29T05:37:28.625802Z",
     "iopub.status.idle": "2023-09-29T05:37:28.626797Z",
     "shell.execute_reply": "2023-09-29T05:37:28.626527Z",
     "shell.execute_reply.started": "2023-09-29T05:37:28.626493Z"
    }
   },
   "outputs": [],
   "source": [
    "# Get the \"All Models\" Stacked Ensemble model\n",
    "se = h2o.get_model([mid for mid in model_ids if \"StackedEnsemble_AllModels\" in mid][0])\n",
    "#se = h2o.get_model([mid for mid in model_ids if \"AutoML\" in mid][0])\n",
    "se"
   ]
  },
  {
   "cell_type": "code",
   "execution_count": null,
   "id": "edf8ba1c-8176-440a-a178-58dd1cc0c6b0",
   "metadata": {
    "execution": {
     "iopub.status.busy": "2023-09-29T05:37:28.628656Z",
     "iopub.status.idle": "2023-09-29T05:37:28.629294Z",
     "shell.execute_reply": "2023-09-29T05:37:28.628995Z",
     "shell.execute_reply.started": "2023-09-29T05:37:28.628966Z"
    }
   },
   "outputs": [],
   "source": [
    "# Get the Stacked Ensemble metalearner model\n",
    "metalearner = h2o.get_model(se.metalearner()['name'])"
   ]
  },
  {
   "cell_type": "code",
   "execution_count": null,
   "id": "c7af4f42-819b-4847-9a99-bf5dc8bdb415",
   "metadata": {
    "execution": {
     "iopub.status.busy": "2023-09-29T05:37:28.631168Z",
     "iopub.status.idle": "2023-09-29T05:37:28.631766Z",
     "shell.execute_reply": "2023-09-29T05:37:28.631472Z",
     "shell.execute_reply.started": "2023-09-29T05:37:28.631443Z"
    }
   },
   "outputs": [],
   "source": [
    "metalearner.coef_norm()"
   ]
  },
  {
   "cell_type": "code",
   "execution_count": null,
   "id": "f0e7d44b-dc30-4bb5-b00e-1ae48a79b1dd",
   "metadata": {
    "execution": {
     "iopub.status.busy": "2023-09-29T05:37:28.633224Z",
     "iopub.status.idle": "2023-09-29T05:37:28.633852Z",
     "shell.execute_reply": "2023-09-29T05:37:28.633559Z",
     "shell.execute_reply.started": "2023-09-29T05:37:28.633529Z"
    }
   },
   "outputs": [],
   "source": [
    "%matplotlib inline\n",
    "metalearner.std_coef_plot()"
   ]
  },
  {
   "cell_type": "markdown",
   "id": "4183ebec-9aa3-43d4-a5c6-71190f85a0f1",
   "metadata": {},
   "source": [
    "# Что с важностью признаков"
   ]
  },
  {
   "cell_type": "code",
   "execution_count": null,
   "id": "69c9e567-77c9-4bb6-8f60-adaa960feeb9",
   "metadata": {
    "execution": {
     "iopub.status.busy": "2023-09-29T05:37:28.636392Z",
     "iopub.status.idle": "2023-09-29T05:37:28.637035Z",
     "shell.execute_reply": "2023-09-29T05:37:28.636749Z",
     "shell.execute_reply.started": "2023-09-29T05:37:28.636716Z"
    }
   },
   "outputs": [],
   "source": [
    "for model_id in model_ids:\n",
    "  try:\n",
    "    print(f\"Model ID: {model_id}\")\n",
    "    aml_unit = h2o.get_model(model_id)\n",
    "    aml_unit.varimp_plot()\n",
    "  except:\n",
    "    print(f\"{model_id} - ERROR PLOTTING\") "
   ]
  },
  {
   "cell_type": "markdown",
   "id": "1e3d0e82-a793-4834-8cb0-26b0d5a6146c",
   "metadata": {},
   "source": [
    "# Что с переобученносью"
   ]
  },
  {
   "cell_type": "code",
   "execution_count": null,
   "id": "c67b5bee-e3a2-4a36-9f21-f089d79801c5",
   "metadata": {
    "execution": {
     "iopub.status.busy": "2023-09-29T05:37:28.638466Z",
     "iopub.status.idle": "2023-09-29T05:37:28.639615Z",
     "shell.execute_reply": "2023-09-29T05:37:28.639336Z",
     "shell.execute_reply.started": "2023-09-29T05:37:28.639313Z"
    }
   },
   "outputs": [],
   "source": [
    "import pandas as pd\n",
    "from sklearn.metrics import r2_score\n",
    "\n",
    "for model_id in model_ids:\n",
    "  try:\n",
    "    print(f\"Model ID: {model_id}\")\n",
    "    aml_unit = h2o.get_model(model_id)\n",
    "    perf = aml_unit.model_performance(valid)\n",
    "    print(perf)\n",
    "    print(f\"R2 cross validation: {aml_unit.r2()}\")\n",
    "    print(f\"R2 test validation: {aml_unit.r2(valid=True)}\")\n",
    "    # прогноз лидирующей моделю на валидационной выборке\n",
    "    val_pred=aml_unit.predict(unseen).as_data_frame()\n",
    "    # из валидационного датасеат возбму столбец Stay и сконвертиую его в пандас датафрейм\n",
    "    val_test = unseen['Revenue_cat'].as_data_frame()\n",
    "    r2_unseen = r2_score(val_test, val_pred)\n",
    "    print(f\"R2 unseen dataset validation: {r2_unseen}\")\n",
    "    print(\"-------------------\\n-------------------\")\n",
    "  except:\n",
    "    print(f\"{model_id} - ERROR CALCULATE PERFOMANCE\")"
   ]
  },
  {
   "cell_type": "markdown",
   "id": "af99124f-2607-4e3b-b047-bff7597adfce",
   "metadata": {},
   "source": [
    "# Графии кривых обучения"
   ]
  },
  {
   "cell_type": "code",
   "execution_count": null,
   "id": "47d86507-0d30-4f8f-bc7d-f4eae0df1fe2",
   "metadata": {
    "execution": {
     "iopub.status.busy": "2023-09-29T05:37:28.640889Z",
     "iopub.status.idle": "2023-09-29T05:37:28.641637Z",
     "shell.execute_reply": "2023-09-29T05:37:28.641407Z",
     "shell.execute_reply.started": "2023-09-29T05:37:28.641374Z"
    }
   },
   "outputs": [],
   "source": [
    "for model_id in model_ids:\n",
    "  try:\n",
    "    learning_curve_plot = h2o.get_model(model_id).learning_curve_plot()\n",
    "  except:\n",
    "    print(model_id, \"- ERROR PLOT\")"
   ]
  },
  {
   "cell_type": "markdown",
   "id": "e5fd75e6-ece1-42aa-bd18-4cd3ddd4dcf1",
   "metadata": {},
   "source": [
    "# Сохранение лучше модели"
   ]
  },
  {
   "cell_type": "markdown",
   "id": "adc8a6dc-a8f3-410d-822f-d7c72ac0bcd7",
   "metadata": {},
   "source": [
    "Довольно стаблильный показатель по Р-квадарт"
   ]
  },
  {
   "cell_type": "code",
   "execution_count": null,
   "id": "fab6f450-588d-44d9-ba76-cb08743ec1c4",
   "metadata": {
    "execution": {
     "iopub.status.busy": "2023-09-29T05:37:28.644426Z",
     "iopub.status.idle": "2023-09-29T05:37:28.644968Z",
     "shell.execute_reply": "2023-09-29T05:37:28.644712Z",
     "shell.execute_reply.started": "2023-09-29T05:37:28.644690Z"
    }
   },
   "outputs": [],
   "source": [
    "#besy_model_id = 'StackedEnsemble_BestOfFamily_1_AutoML_4_20230921_114817'"
   ]
  },
  {
   "cell_type": "code",
   "execution_count": null,
   "id": "0b287290-3326-473a-83e4-493edfed7759",
   "metadata": {
    "execution": {
     "iopub.status.busy": "2023-09-29T05:37:28.646489Z",
     "iopub.status.idle": "2023-09-29T05:37:28.647004Z",
     "shell.execute_reply": "2023-09-29T05:37:28.646722Z",
     "shell.execute_reply.started": "2023-09-29T05:37:28.646700Z"
    }
   },
   "outputs": [],
   "source": [
    "# Сохранение лучшей модели\n",
    "#besy_model = h2o.get_model(besy_model_id)\n",
    "#h2o.save_model(besy_model, path = \"./models\")"
   ]
  }
 ],
 "metadata": {
  "kernelspec": {
   "display_name": "Python 3 (ipykernel)",
   "language": "python",
   "name": "python3"
  },
  "language_info": {
   "codemirror_mode": {
    "name": "ipython",
    "version": 3
   },
   "file_extension": ".py",
   "mimetype": "text/x-python",
   "name": "python",
   "nbconvert_exporter": "python",
   "pygments_lexer": "ipython3",
   "version": "3.8.10"
  }
 },
 "nbformat": 4,
 "nbformat_minor": 5
}
