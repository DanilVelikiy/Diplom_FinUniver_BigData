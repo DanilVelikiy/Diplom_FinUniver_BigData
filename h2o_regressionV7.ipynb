{
 "cells": [
  {
   "cell_type": "markdown",
   "id": "fded33f9-f740-4f74-96a3-f222f11a77be",
   "metadata": {},
   "source": [
    "# ABC XYZ"
   ]
  },
  {
   "cell_type": "markdown",
   "id": "b382778b-bc74-444e-8d67-9f828caead62",
   "metadata": {},
   "source": [
    "# ПРОГНОЗИРОВАНИЕ"
   ]
  },
  {
   "cell_type": "markdown",
   "id": "35e9d1fc-3626-47af-b5a5-1bfe6e00a467",
   "metadata": {},
   "source": [
    "# № 2"
   ]
  },
  {
   "cell_type": "code",
   "execution_count": 1,
   "id": "555d139a-2275-4baa-9a97-b1531a46079a",
   "metadata": {
    "execution": {
     "iopub.execute_input": "2023-09-27T17:58:17.867218Z",
     "iopub.status.busy": "2023-09-27T17:58:17.866367Z",
     "iopub.status.idle": "2023-09-27T17:58:18.781307Z",
     "shell.execute_reply": "2023-09-27T17:58:18.779046Z",
     "shell.execute_reply.started": "2023-09-27T17:58:17.867187Z"
    }
   },
   "outputs": [
    {
     "name": "stdout",
     "output_type": "stream",
     "text": [
      "Checking whether there is an H2O instance running at http://localhost:54321. connected.\n"
     ]
    },
    {
     "data": {
      "text/html": [
       "\n",
       "<style>\n",
       "\n",
       "#h2o-table-1.h2o-container {\n",
       "  overflow-x: auto;\n",
       "}\n",
       "#h2o-table-1 .h2o-table {\n",
       "  /* width: 100%; */\n",
       "  margin-top: 1em;\n",
       "  margin-bottom: 1em;\n",
       "}\n",
       "#h2o-table-1 .h2o-table caption {\n",
       "  white-space: nowrap;\n",
       "  caption-side: top;\n",
       "  text-align: left;\n",
       "  /* margin-left: 1em; */\n",
       "  margin: 0;\n",
       "  font-size: larger;\n",
       "}\n",
       "#h2o-table-1 .h2o-table thead {\n",
       "  white-space: nowrap; \n",
       "  position: sticky;\n",
       "  top: 0;\n",
       "  box-shadow: 0 -1px inset;\n",
       "}\n",
       "#h2o-table-1 .h2o-table tbody {\n",
       "  overflow: auto;\n",
       "}\n",
       "#h2o-table-1 .h2o-table th,\n",
       "#h2o-table-1 .h2o-table td {\n",
       "  text-align: right;\n",
       "  /* border: 1px solid; */\n",
       "}\n",
       "#h2o-table-1 .h2o-table tr:nth-child(even) {\n",
       "  /* background: #F5F5F5 */\n",
       "}\n",
       "\n",
       "</style>      \n",
       "<div id=\"h2o-table-1\" class=\"h2o-container\">\n",
       "  <table class=\"h2o-table\">\n",
       "    <caption></caption>\n",
       "    <thead></thead>\n",
       "    <tbody><tr><td>H2O_cluster_uptime:</td>\n",
       "<td>4 hours 19 mins</td></tr>\n",
       "<tr><td>H2O_cluster_timezone:</td>\n",
       "<td>Etc/GMT</td></tr>\n",
       "<tr><td>H2O_data_parsing_timezone:</td>\n",
       "<td>UTC</td></tr>\n",
       "<tr><td>H2O_cluster_version:</td>\n",
       "<td>3.42.0.2</td></tr>\n",
       "<tr><td>H2O_cluster_version_age:</td>\n",
       "<td>2 months and 2 days</td></tr>\n",
       "<tr><td>H2O_cluster_name:</td>\n",
       "<td>H2O_from_python_unknownUser_0c726b</td></tr>\n",
       "<tr><td>H2O_cluster_total_nodes:</td>\n",
       "<td>1</td></tr>\n",
       "<tr><td>H2O_cluster_free_memory:</td>\n",
       "<td>1.075 Gb</td></tr>\n",
       "<tr><td>H2O_cluster_total_cores:</td>\n",
       "<td>8</td></tr>\n",
       "<tr><td>H2O_cluster_allowed_cores:</td>\n",
       "<td>8</td></tr>\n",
       "<tr><td>H2O_cluster_status:</td>\n",
       "<td>locked, healthy</td></tr>\n",
       "<tr><td>H2O_connection_url:</td>\n",
       "<td>http://localhost:54321</td></tr>\n",
       "<tr><td>H2O_connection_proxy:</td>\n",
       "<td>{\"http\": null, \"https\": null}</td></tr>\n",
       "<tr><td>H2O_internal_security:</td>\n",
       "<td>False</td></tr>\n",
       "<tr><td>Python_version:</td>\n",
       "<td>3.8.10 final</td></tr></tbody>\n",
       "  </table>\n",
       "</div>\n"
      ],
      "text/plain": [
       "--------------------------  ----------------------------------\n",
       "H2O_cluster_uptime:         4 hours 19 mins\n",
       "H2O_cluster_timezone:       Etc/GMT\n",
       "H2O_data_parsing_timezone:  UTC\n",
       "H2O_cluster_version:        3.42.0.2\n",
       "H2O_cluster_version_age:    2 months and 2 days\n",
       "H2O_cluster_name:           H2O_from_python_unknownUser_0c726b\n",
       "H2O_cluster_total_nodes:    1\n",
       "H2O_cluster_free_memory:    1.075 Gb\n",
       "H2O_cluster_total_cores:    8\n",
       "H2O_cluster_allowed_cores:  8\n",
       "H2O_cluster_status:         locked, healthy\n",
       "H2O_connection_url:         http://localhost:54321\n",
       "H2O_connection_proxy:       {\"http\": null, \"https\": null}\n",
       "H2O_internal_security:      False\n",
       "Python_version:             3.8.10 final\n",
       "--------------------------  ----------------------------------"
      ]
     },
     "metadata": {},
     "output_type": "display_data"
    }
   ],
   "source": [
    "import h2o\n",
    "from h2o.automl import H2OAutoML\n",
    "h2o.init()"
   ]
  },
  {
   "cell_type": "code",
   "execution_count": 2,
   "id": "868beb7a-6463-43d2-a013-24c637636813",
   "metadata": {
    "execution": {
     "iopub.execute_input": "2023-09-27T17:58:18.785780Z",
     "iopub.status.busy": "2023-09-27T17:58:18.784582Z",
     "iopub.status.idle": "2023-09-27T17:58:19.710558Z",
     "shell.execute_reply": "2023-09-27T17:58:19.709562Z",
     "shell.execute_reply.started": "2023-09-27T17:58:18.785682Z"
    }
   },
   "outputs": [
    {
     "name": "stdout",
     "output_type": "stream",
     "text": [
      "Parse progress: |████████████████████████████████████████████████████████████████| (done) 100%\n"
     ]
    },
    {
     "data": {
      "text/html": [
       "<table class='dataframe'>\n",
       "<thead>\n",
       "<tr><th style=\"text-align: right;\">  Zip</th><th>Manufacturer  </th><th style=\"text-align: right;\">  MonthNo</th><th>CategoryInSegment  </th><th>abc_xyz_class  </th></tr>\n",
       "</thead>\n",
       "<tbody>\n",
       "<tr><td style=\"text-align: right;\"> 6111</td><td>Natura        </td><td style=\"text-align: right;\">       12</td><td>UrbanConvenience   </td><td>BY             </td></tr>\n",
       "<tr><td style=\"text-align: right;\">92879</td><td>Pirum         </td><td style=\"text-align: right;\">       12</td><td>RuralProductivity  </td><td>BY             </td></tr>\n",
       "<tr><td style=\"text-align: right;\">32901</td><td>VanArsdel     </td><td style=\"text-align: right;\">       12</td><td>UrbanModeration    </td><td>AY             </td></tr>\n",
       "<tr><td style=\"text-align: right;\">84770</td><td>Currus        </td><td style=\"text-align: right;\">       12</td><td>RuralSelect        </td><td>AZ             </td></tr>\n",
       "<tr><td style=\"text-align: right;\">95380</td><td>Abbas         </td><td style=\"text-align: right;\">       12</td><td>UrbanModeration    </td><td>BZ             </td></tr>\n",
       "<tr><td style=\"text-align: right;\">14559</td><td>Natura        </td><td style=\"text-align: right;\">       12</td><td>YouthYouth         </td><td>BY             </td></tr>\n",
       "<tr><td style=\"text-align: right;\">16301</td><td>Natura        </td><td style=\"text-align: right;\">       12</td><td>YouthYouth         </td><td>BY             </td></tr>\n",
       "<tr><td style=\"text-align: right;\">48439</td><td>Quibus        </td><td style=\"text-align: right;\">       12</td><td>RuralSelect        </td><td>BX             </td></tr>\n",
       "<tr><td style=\"text-align: right;\">21787</td><td>VanArsdel     </td><td style=\"text-align: right;\">       12</td><td>UrbanModeration    </td><td>AY             </td></tr>\n",
       "<tr><td style=\"text-align: right;\"> 7503</td><td>Currus        </td><td style=\"text-align: right;\">       12</td><td>MixAll Season      </td><td>BY             </td></tr>\n",
       "</tbody>\n",
       "</table><pre style='font-size: smaller; margin-bottom: 1em;'>[817697 rows x 5 columns]</pre>"
      ],
      "text/plain": [
       "  Zip  Manufacturer      MonthNo  CategoryInSegment    abc_xyz_class\n",
       "-----  --------------  ---------  -------------------  ---------------\n",
       " 6111  Natura                 12  UrbanConvenience     BY\n",
       "92879  Pirum                  12  RuralProductivity    BY\n",
       "32901  VanArsdel              12  UrbanModeration      AY\n",
       "84770  Currus                 12  RuralSelect          AZ\n",
       "95380  Abbas                  12  UrbanModeration      BZ\n",
       "14559  Natura                 12  YouthYouth           BY\n",
       "16301  Natura                 12  YouthYouth           BY\n",
       "48439  Quibus                 12  RuralSelect          BX\n",
       "21787  VanArsdel              12  UrbanModeration      AY\n",
       " 7503  Currus                 12  MixAll Season        BY\n",
       "[817697 rows x 5 columns]\n"
      ]
     },
     "execution_count": 2,
     "metadata": {},
     "output_type": "execute_result"
    }
   ],
   "source": [
    "#file = '/content/drive/MyDrive/Colab Notebooks/Diplom/df4eda2clean2.csv'\n",
    "file = 'df2prep4regressionV7.csv'\n",
    "df = h2o.import_file(file)\n",
    "df = df.drop('C1')\n",
    "df = df.drop('Revenue_cat')\n",
    "df"
   ]
  },
  {
   "cell_type": "code",
   "execution_count": 3,
   "id": "24b63abf-449b-4ed5-8d17-b1c4b4df3faa",
   "metadata": {
    "execution": {
     "iopub.execute_input": "2023-09-27T17:58:19.713112Z",
     "iopub.status.busy": "2023-09-27T17:58:19.712737Z",
     "iopub.status.idle": "2023-09-27T17:58:19.970221Z",
     "shell.execute_reply": "2023-09-27T17:58:19.968685Z",
     "shell.execute_reply.started": "2023-09-27T17:58:19.713084Z"
    }
   },
   "outputs": [],
   "source": [
    "train, valid, unseen = df.split_frame(ratios=[0.7, 0.15])"
   ]
  },
  {
   "cell_type": "code",
   "execution_count": 4,
   "id": "e8cc6bc2-0d9b-4322-9a47-ab03326c72b2",
   "metadata": {
    "execution": {
     "iopub.execute_input": "2023-09-27T17:58:19.972608Z",
     "iopub.status.busy": "2023-09-27T17:58:19.972090Z",
     "iopub.status.idle": "2023-09-27T17:58:19.985097Z",
     "shell.execute_reply": "2023-09-27T17:58:19.983755Z",
     "shell.execute_reply.started": "2023-09-27T17:58:19.972560Z"
    }
   },
   "outputs": [
    {
     "data": {
      "text/html": [
       "<table class='dataframe'>\n",
       "<thead>\n",
       "<tr><th style=\"text-align: right;\">  Zip</th><th>Manufacturer  </th><th style=\"text-align: right;\">  MonthNo</th><th>CategoryInSegment  </th><th>abc_xyz_class  </th></tr>\n",
       "</thead>\n",
       "<tbody>\n",
       "<tr><td style=\"text-align: right;\"> 6111</td><td>Natura        </td><td style=\"text-align: right;\">       12</td><td>UrbanConvenience   </td><td>BY             </td></tr>\n",
       "<tr><td style=\"text-align: right;\">92879</td><td>Pirum         </td><td style=\"text-align: right;\">       12</td><td>RuralProductivity  </td><td>BY             </td></tr>\n",
       "<tr><td style=\"text-align: right;\">32901</td><td>VanArsdel     </td><td style=\"text-align: right;\">       12</td><td>UrbanModeration    </td><td>AY             </td></tr>\n",
       "<tr><td style=\"text-align: right;\">16301</td><td>Natura        </td><td style=\"text-align: right;\">       12</td><td>YouthYouth         </td><td>BY             </td></tr>\n",
       "<tr><td style=\"text-align: right;\">48439</td><td>Quibus        </td><td style=\"text-align: right;\">       12</td><td>RuralSelect        </td><td>BX             </td></tr>\n",
       "<tr><td style=\"text-align: right;\">21787</td><td>VanArsdel     </td><td style=\"text-align: right;\">       12</td><td>UrbanModeration    </td><td>AY             </td></tr>\n",
       "<tr><td style=\"text-align: right;\"> 7503</td><td>Currus        </td><td style=\"text-align: right;\">       12</td><td>MixAll Season      </td><td>BY             </td></tr>\n",
       "<tr><td style=\"text-align: right;\">60073</td><td>Natura        </td><td style=\"text-align: right;\">       12</td><td>UrbanConvenience   </td><td>AY             </td></tr>\n",
       "<tr><td style=\"text-align: right;\">70578</td><td>VanArsdel     </td><td style=\"text-align: right;\">       12</td><td>UrbanConvenience   </td><td>AX             </td></tr>\n",
       "<tr><td style=\"text-align: right;\">32164</td><td>Natura        </td><td style=\"text-align: right;\">       12</td><td>UrbanModeration    </td><td>AY             </td></tr>\n",
       "</tbody>\n",
       "</table><pre style='font-size: smaller; margin-bottom: 1em;'>[572484 rows x 5 columns]</pre>"
      ],
      "text/plain": [
       "  Zip  Manufacturer      MonthNo  CategoryInSegment    abc_xyz_class\n",
       "-----  --------------  ---------  -------------------  ---------------\n",
       " 6111  Natura                 12  UrbanConvenience     BY\n",
       "92879  Pirum                  12  RuralProductivity    BY\n",
       "32901  VanArsdel              12  UrbanModeration      AY\n",
       "16301  Natura                 12  YouthYouth           BY\n",
       "48439  Quibus                 12  RuralSelect          BX\n",
       "21787  VanArsdel              12  UrbanModeration      AY\n",
       " 7503  Currus                 12  MixAll Season        BY\n",
       "60073  Natura                 12  UrbanConvenience     AY\n",
       "70578  VanArsdel              12  UrbanConvenience     AX\n",
       "32164  Natura                 12  UrbanModeration      AY\n",
       "[572484 rows x 5 columns]\n"
      ]
     },
     "execution_count": 4,
     "metadata": {},
     "output_type": "execute_result"
    }
   ],
   "source": [
    "train"
   ]
  },
  {
   "cell_type": "code",
   "execution_count": 5,
   "id": "729bd346-9fb3-4034-ae9d-f18d6ac586fa",
   "metadata": {
    "execution": {
     "iopub.execute_input": "2023-09-27T17:58:19.987127Z",
     "iopub.status.busy": "2023-09-27T17:58:19.986690Z",
     "iopub.status.idle": "2023-09-27T17:58:20.099093Z",
     "shell.execute_reply": "2023-09-27T17:58:20.097308Z",
     "shell.execute_reply.started": "2023-09-27T17:58:19.987087Z"
    }
   },
   "outputs": [
    {
     "data": {
      "text/html": [
       "<table class='dataframe'>\n",
       "<thead>\n",
       "<tr><th style=\"text-align: right;\">  Zip</th><th>Manufacturer  </th><th style=\"text-align: right;\">  MonthNo</th><th>CategoryInSegment  </th><th>abc_xyz_class  </th></tr>\n",
       "</thead>\n",
       "<tbody>\n",
       "<tr><td style=\"text-align: right;\">84770</td><td>Currus        </td><td style=\"text-align: right;\">       12</td><td>RuralSelect        </td><td>AZ             </td></tr>\n",
       "<tr><td style=\"text-align: right;\">33126</td><td>Natura        </td><td style=\"text-align: right;\">       12</td><td>UrbanModeration    </td><td>AY             </td></tr>\n",
       "<tr><td style=\"text-align: right;\">30901</td><td>Natura        </td><td style=\"text-align: right;\">       12</td><td>UrbanExtreme       </td><td>AY             </td></tr>\n",
       "<tr><td style=\"text-align: right;\">16412</td><td>Aliqui        </td><td style=\"text-align: right;\">       12</td><td>UrbanExtreme       </td><td>AY             </td></tr>\n",
       "<tr><td style=\"text-align: right;\">56097</td><td>VanArsdel     </td><td style=\"text-align: right;\">       12</td><td>UrbanModeration    </td><td>AX             </td></tr>\n",
       "<tr><td style=\"text-align: right;\">25312</td><td>Currus        </td><td style=\"text-align: right;\">       12</td><td>UrbanExtreme       </td><td>AY             </td></tr>\n",
       "<tr><td style=\"text-align: right;\">30559</td><td>Currus        </td><td style=\"text-align: right;\">       12</td><td>UrbanExtreme       </td><td>AY             </td></tr>\n",
       "<tr><td style=\"text-align: right;\">93648</td><td>Currus        </td><td style=\"text-align: right;\">       12</td><td>UrbanExtreme       </td><td>AY             </td></tr>\n",
       "<tr><td style=\"text-align: right;\">11931</td><td>VanArsdel     </td><td style=\"text-align: right;\">       12</td><td>UrbanModeration    </td><td>AX             </td></tr>\n",
       "<tr><td style=\"text-align: right;\">51041</td><td>VanArsdel     </td><td style=\"text-align: right;\">       12</td><td>UrbanModeration    </td><td>AX             </td></tr>\n",
       "</tbody>\n",
       "</table><pre style='font-size: smaller; margin-bottom: 1em;'>[122712 rows x 5 columns]</pre>"
      ],
      "text/plain": [
       "  Zip  Manufacturer      MonthNo  CategoryInSegment    abc_xyz_class\n",
       "-----  --------------  ---------  -------------------  ---------------\n",
       "84770  Currus                 12  RuralSelect          AZ\n",
       "33126  Natura                 12  UrbanModeration      AY\n",
       "30901  Natura                 12  UrbanExtreme         AY\n",
       "16412  Aliqui                 12  UrbanExtreme         AY\n",
       "56097  VanArsdel              12  UrbanModeration      AX\n",
       "25312  Currus                 12  UrbanExtreme         AY\n",
       "30559  Currus                 12  UrbanExtreme         AY\n",
       "93648  Currus                 12  UrbanExtreme         AY\n",
       "11931  VanArsdel              12  UrbanModeration      AX\n",
       "51041  VanArsdel              12  UrbanModeration      AX\n",
       "[122712 rows x 5 columns]\n"
      ]
     },
     "execution_count": 5,
     "metadata": {},
     "output_type": "execute_result"
    }
   ],
   "source": [
    "valid"
   ]
  },
  {
   "cell_type": "code",
   "execution_count": 6,
   "id": "f3ac5a9b-34a1-45d9-8720-36b61b113816",
   "metadata": {
    "execution": {
     "iopub.execute_input": "2023-09-27T17:58:20.101261Z",
     "iopub.status.busy": "2023-09-27T17:58:20.100775Z",
     "iopub.status.idle": "2023-09-27T17:58:20.211023Z",
     "shell.execute_reply": "2023-09-27T17:58:20.209600Z",
     "shell.execute_reply.started": "2023-09-27T17:58:20.101216Z"
    }
   },
   "outputs": [
    {
     "data": {
      "text/html": [
       "<table class='dataframe'>\n",
       "<thead>\n",
       "<tr><th style=\"text-align: right;\">  Zip</th><th>Manufacturer  </th><th style=\"text-align: right;\">  MonthNo</th><th>CategoryInSegment  </th><th>abc_xyz_class  </th></tr>\n",
       "</thead>\n",
       "<tbody>\n",
       "<tr><td style=\"text-align: right;\">95380</td><td>Abbas         </td><td style=\"text-align: right;\">       12</td><td>UrbanModeration    </td><td>BZ             </td></tr>\n",
       "<tr><td style=\"text-align: right;\">14559</td><td>Natura        </td><td style=\"text-align: right;\">       12</td><td>YouthYouth         </td><td>BY             </td></tr>\n",
       "<tr><td style=\"text-align: right;\"> 6450</td><td>Natura        </td><td style=\"text-align: right;\">       12</td><td>UrbanModeration    </td><td>AY             </td></tr>\n",
       "<tr><td style=\"text-align: right;\">10032</td><td>Aliqui        </td><td style=\"text-align: right;\">       12</td><td>UrbanExtreme       </td><td>AX             </td></tr>\n",
       "<tr><td style=\"text-align: right;\">19064</td><td>Natura        </td><td style=\"text-align: right;\">       12</td><td>UrbanExtreme       </td><td>AY             </td></tr>\n",
       "<tr><td style=\"text-align: right;\">97140</td><td>Aliqui        </td><td style=\"text-align: right;\">       12</td><td>UrbanExtreme       </td><td>AY             </td></tr>\n",
       "<tr><td style=\"text-align: right;\">94065</td><td>Aliqui        </td><td style=\"text-align: right;\">       12</td><td>UrbanExtreme       </td><td>AY             </td></tr>\n",
       "<tr><td style=\"text-align: right;\">48656</td><td>VanArsdel     </td><td style=\"text-align: right;\">       12</td><td>UrbanModeration    </td><td>AX             </td></tr>\n",
       "<tr><td style=\"text-align: right;\">30534</td><td>VanArsdel     </td><td style=\"text-align: right;\">       12</td><td>UrbanModeration    </td><td>AX             </td></tr>\n",
       "<tr><td style=\"text-align: right;\">89117</td><td>Currus        </td><td style=\"text-align: right;\">       12</td><td>UrbanExtreme       </td><td>AY             </td></tr>\n",
       "</tbody>\n",
       "</table><pre style='font-size: smaller; margin-bottom: 1em;'>[122501 rows x 5 columns]</pre>"
      ],
      "text/plain": [
       "  Zip  Manufacturer      MonthNo  CategoryInSegment    abc_xyz_class\n",
       "-----  --------------  ---------  -------------------  ---------------\n",
       "95380  Abbas                  12  UrbanModeration      BZ\n",
       "14559  Natura                 12  YouthYouth           BY\n",
       " 6450  Natura                 12  UrbanModeration      AY\n",
       "10032  Aliqui                 12  UrbanExtreme         AX\n",
       "19064  Natura                 12  UrbanExtreme         AY\n",
       "97140  Aliqui                 12  UrbanExtreme         AY\n",
       "94065  Aliqui                 12  UrbanExtreme         AY\n",
       "48656  VanArsdel              12  UrbanModeration      AX\n",
       "30534  VanArsdel              12  UrbanModeration      AX\n",
       "89117  Currus                 12  UrbanExtreme         AY\n",
       "[122501 rows x 5 columns]\n"
      ]
     },
     "execution_count": 6,
     "metadata": {},
     "output_type": "execute_result"
    }
   ],
   "source": [
    "unseen"
   ]
  },
  {
   "cell_type": "code",
   "execution_count": 7,
   "id": "fea305df-1eb5-4923-8768-12cfa1854655",
   "metadata": {
    "execution": {
     "iopub.execute_input": "2023-09-27T17:58:20.212953Z",
     "iopub.status.busy": "2023-09-27T17:58:20.212535Z",
     "iopub.status.idle": "2023-09-27T17:58:20.312553Z",
     "shell.execute_reply": "2023-09-27T17:58:20.310267Z",
     "shell.execute_reply.started": "2023-09-27T17:58:20.212912Z"
    }
   },
   "outputs": [],
   "source": [
    "y = \"abc_xyz_class\"\n",
    "x=train.columns\n",
    "x.remove(y)"
   ]
  },
  {
   "cell_type": "markdown",
   "id": "db7541b9-21e5-45cd-b745-4717b06f5dca",
   "metadata": {},
   "source": [
    "# Тренировка модели"
   ]
  },
  {
   "cell_type": "code",
   "execution_count": 8,
   "id": "fa321d95-ad11-4d90-9dd8-72e7b8d958bc",
   "metadata": {
    "execution": {
     "iopub.execute_input": "2023-09-27T17:58:20.319557Z",
     "iopub.status.busy": "2023-09-27T17:58:20.319217Z",
     "iopub.status.idle": "2023-09-27T19:14:35.715817Z",
     "shell.execute_reply": "2023-09-27T19:14:35.678603Z",
     "shell.execute_reply.started": "2023-09-27T17:58:20.319524Z"
    }
   },
   "outputs": [
    {
     "name": "stdout",
     "output_type": "stream",
     "text": [
      "AutoML progress: |\n",
      "17:58:20.463: User specified a validation frame with cross-validation still enabled. Please note that the models will still be validated using cross-validation only, the validation frame will be used to provide purely informative validation metrics on the trained models.\n",
      "\n",
      "██████████████████████████████████████████████████████████████\n",
      "18:45:31.43: GBM_1_AutoML_2_20230927_175820 [GBM def_5] failed: water.exceptions.H2OModelBuilderIllegalArgumentException: Illegal argument(s) for GBM model: GBM_1_AutoML_2_20230927_175820_cv_1.  Details: ERRR on field: _ntrees: The tree model will not fit in the driver node's memory (143.8 KB per tree x 10000 > 735.6 MB) - try decreasing ntrees and/or max_depth or increasing min_rows!\n",
      "\n",
      "\n",
      "Failed polling AutoML progress log: Unexpected HTTP error: ('Connection aborted.', RemoteDisconnected('Remote end closed connection without response'))\n",
      " (failed) 100%\n"
     ]
    },
    {
     "ename": "OSError",
     "evalue": "Job with key $03017f00000132d4ffffffff$_b07690d2d1ea9f089e97c71429384ce9 failed with an exception: java.lang.OutOfMemoryError: Java heap space\nstacktrace: \njava.lang.OutOfMemoryError: Java heap space\n",
     "output_type": "error",
     "traceback": [
      "\u001b[0;31m---------------------------------------------------------------------------\u001b[0m",
      "\u001b[0;31mOSError\u001b[0m                                   Traceback (most recent call last)",
      "Cell \u001b[0;32mIn[8], line 2\u001b[0m\n\u001b[1;32m      1\u001b[0m aml \u001b[38;5;241m=\u001b[39m H2OAutoML(max_models \u001b[38;5;241m=\u001b[39m \u001b[38;5;241m10\u001b[39m, seed \u001b[38;5;241m=\u001b[39m \u001b[38;5;241m1\u001b[39m)\n\u001b[0;32m----> 2\u001b[0m \u001b[43maml\u001b[49m\u001b[38;5;241;43m.\u001b[39;49m\u001b[43mtrain\u001b[49m\u001b[43m(\u001b[49m\u001b[43mx\u001b[49m\u001b[43m \u001b[49m\u001b[38;5;241;43m=\u001b[39;49m\u001b[43m \u001b[49m\u001b[43mx\u001b[49m\u001b[43m,\u001b[49m\u001b[43m \u001b[49m\u001b[43my\u001b[49m\u001b[43m \u001b[49m\u001b[38;5;241;43m=\u001b[39;49m\u001b[43m \u001b[49m\u001b[43my\u001b[49m\u001b[43m,\u001b[49m\u001b[43m  \u001b[49m\u001b[43mtraining_frame\u001b[49m\u001b[43m \u001b[49m\u001b[38;5;241;43m=\u001b[39;49m\u001b[43m \u001b[49m\u001b[43mtrain\u001b[49m\u001b[43m,\u001b[49m\u001b[43m \u001b[49m\u001b[43mvalidation_frame\u001b[49m\u001b[43m \u001b[49m\u001b[38;5;241;43m=\u001b[39;49m\u001b[43m \u001b[49m\u001b[43mvalid\u001b[49m\u001b[43m)\u001b[49m\n",
      "File \u001b[0;32m/usr/local/lib/python3.8/dist-packages/h2o/automl/_estimator.py:676\u001b[0m, in \u001b[0;36mH2OAutoML.train\u001b[0;34m(self, x, y, training_frame, fold_column, weights_column, validation_frame, leaderboard_frame, blending_frame)\u001b[0m\n\u001b[1;32m    674\u001b[0m poll_updates \u001b[38;5;241m=\u001b[39m ft\u001b[38;5;241m.\u001b[39mpartial(\u001b[38;5;28mself\u001b[39m\u001b[38;5;241m.\u001b[39m_poll_training_updates, verbosity\u001b[38;5;241m=\u001b[39m\u001b[38;5;28mself\u001b[39m\u001b[38;5;241m.\u001b[39m_verbosity, state\u001b[38;5;241m=\u001b[39m{})\n\u001b[1;32m    675\u001b[0m \u001b[38;5;28;01mtry\u001b[39;00m:\n\u001b[0;32m--> 676\u001b[0m     \u001b[38;5;28;43mself\u001b[39;49m\u001b[38;5;241;43m.\u001b[39;49m\u001b[43m_job\u001b[49m\u001b[38;5;241;43m.\u001b[39;49m\u001b[43mpoll\u001b[49m\u001b[43m(\u001b[49m\u001b[43mpoll_updates\u001b[49m\u001b[38;5;241;43m=\u001b[39;49m\u001b[43mpoll_updates\u001b[49m\u001b[43m)\u001b[49m\n\u001b[1;32m    677\u001b[0m \u001b[38;5;28;01mfinally\u001b[39;00m:\n\u001b[1;32m    678\u001b[0m     poll_updates(\u001b[38;5;28mself\u001b[39m\u001b[38;5;241m.\u001b[39m_job, \u001b[38;5;241m1\u001b[39m)\n",
      "File \u001b[0;32m/usr/local/lib/python3.8/dist-packages/h2o/job.py:88\u001b[0m, in \u001b[0;36mH2OJob.poll\u001b[0;34m(self, poll_updates)\u001b[0m\n\u001b[1;32m     86\u001b[0m \u001b[38;5;28;01mif\u001b[39;00m \u001b[38;5;28mself\u001b[39m\u001b[38;5;241m.\u001b[39mstatus \u001b[38;5;241m==\u001b[39m \u001b[38;5;124m\"\u001b[39m\u001b[38;5;124mFAILED\u001b[39m\u001b[38;5;124m\"\u001b[39m:\n\u001b[1;32m     87\u001b[0m     \u001b[38;5;28;01mif\u001b[39;00m (\u001b[38;5;28misinstance\u001b[39m(\u001b[38;5;28mself\u001b[39m\u001b[38;5;241m.\u001b[39mjob, \u001b[38;5;28mdict\u001b[39m)) \u001b[38;5;129;01mand\u001b[39;00m (\u001b[38;5;124m\"\u001b[39m\u001b[38;5;124mstacktrace\u001b[39m\u001b[38;5;124m\"\u001b[39m \u001b[38;5;129;01min\u001b[39;00m \u001b[38;5;28mlist\u001b[39m(\u001b[38;5;28mself\u001b[39m\u001b[38;5;241m.\u001b[39mjob)):\n\u001b[0;32m---> 88\u001b[0m         \u001b[38;5;28;01mraise\u001b[39;00m \u001b[38;5;167;01mEnvironmentError\u001b[39;00m(\u001b[38;5;124m\"\u001b[39m\u001b[38;5;124mJob with key \u001b[39m\u001b[38;5;132;01m{}\u001b[39;00m\u001b[38;5;124m failed with an exception: \u001b[39m\u001b[38;5;132;01m{}\u001b[39;00m\u001b[38;5;130;01m\\n\u001b[39;00m\u001b[38;5;124mstacktrace: \u001b[39m\u001b[38;5;124m\"\u001b[39m\n\u001b[1;32m     89\u001b[0m                                \u001b[38;5;124m\"\u001b[39m\u001b[38;5;130;01m\\n\u001b[39;00m\u001b[38;5;132;01m{}\u001b[39;00m\u001b[38;5;124m\"\u001b[39m\u001b[38;5;241m.\u001b[39mformat(\u001b[38;5;28mself\u001b[39m\u001b[38;5;241m.\u001b[39mjob_key, \u001b[38;5;28mself\u001b[39m\u001b[38;5;241m.\u001b[39mexception, \u001b[38;5;28mself\u001b[39m\u001b[38;5;241m.\u001b[39mjob[\u001b[38;5;124m\"\u001b[39m\u001b[38;5;124mstacktrace\u001b[39m\u001b[38;5;124m\"\u001b[39m]))\n\u001b[1;32m     90\u001b[0m     \u001b[38;5;28;01melse\u001b[39;00m:\n\u001b[1;32m     91\u001b[0m         \u001b[38;5;28;01mraise\u001b[39;00m \u001b[38;5;167;01mEnvironmentError\u001b[39;00m(\u001b[38;5;124m\"\u001b[39m\u001b[38;5;124mJob with key \u001b[39m\u001b[38;5;132;01m%s\u001b[39;00m\u001b[38;5;124m failed with an exception: \u001b[39m\u001b[38;5;132;01m%s\u001b[39;00m\u001b[38;5;124m\"\u001b[39m \u001b[38;5;241m%\u001b[39m (\u001b[38;5;28mself\u001b[39m\u001b[38;5;241m.\u001b[39mjob_key, \u001b[38;5;28mself\u001b[39m\u001b[38;5;241m.\u001b[39mexception))\n",
      "\u001b[0;31mOSError\u001b[0m: Job with key $03017f00000132d4ffffffff$_b07690d2d1ea9f089e97c71429384ce9 failed with an exception: java.lang.OutOfMemoryError: Java heap space\nstacktrace: \njava.lang.OutOfMemoryError: Java heap space\n"
     ]
    }
   ],
   "source": [
    "aml = H2OAutoML(max_models = 10, seed = 1)\n",
    "aml.train(x = x, y = y,  training_frame = train, validation_frame = valid)"
   ]
  },
  {
   "cell_type": "code",
   "execution_count": null,
   "id": "18d8e467-d0a0-463a-ae94-53770bcf22ac",
   "metadata": {
    "execution": {
     "iopub.status.busy": "2023-09-27T19:14:35.735567Z",
     "iopub.status.idle": "2023-09-27T19:14:35.736038Z",
     "shell.execute_reply": "2023-09-27T19:14:35.735837Z",
     "shell.execute_reply.started": "2023-09-27T19:14:35.735817Z"
    }
   },
   "outputs": [],
   "source": [
    "lb = aml.leaderboard\n",
    "lb"
   ]
  },
  {
   "cell_type": "code",
   "execution_count": null,
   "id": "dc866f48-7e64-4c82-b7b6-70c978e3320c",
   "metadata": {
    "execution": {
     "iopub.status.busy": "2023-09-27T19:14:35.737618Z",
     "iopub.status.idle": "2023-09-27T19:14:35.738035Z",
     "shell.execute_reply": "2023-09-27T19:14:35.737826Z",
     "shell.execute_reply.started": "2023-09-27T19:14:35.737806Z"
    }
   },
   "outputs": [],
   "source": [
    "# Get model ids for all models in the AutoML Leaderboard\n",
    "model_ids = list(lb['model_id'].as_data_frame().iloc[:,0])\n",
    "model_ids"
   ]
  },
  {
   "cell_type": "code",
   "execution_count": null,
   "id": "205352ef-033e-46da-b618-d09fdc0a0480",
   "metadata": {
    "execution": {
     "iopub.status.busy": "2023-09-27T19:14:35.739812Z",
     "iopub.status.idle": "2023-09-27T19:14:35.740200Z",
     "shell.execute_reply": "2023-09-27T19:14:35.740008Z",
     "shell.execute_reply.started": "2023-09-27T19:14:35.739989Z"
    }
   },
   "outputs": [],
   "source": [
    "# Get the \"All Models\" Stacked Ensemble model\n",
    "se = h2o.get_model([mid for mid in model_ids if \"StackedEnsemble_AllModels\" in mid][0])\n",
    "se"
   ]
  },
  {
   "cell_type": "code",
   "execution_count": null,
   "id": "edf8ba1c-8176-440a-a178-58dd1cc0c6b0",
   "metadata": {
    "execution": {
     "iopub.status.busy": "2023-09-27T19:14:35.742628Z",
     "iopub.status.idle": "2023-09-27T19:14:35.743758Z",
     "shell.execute_reply": "2023-09-27T19:14:35.743500Z",
     "shell.execute_reply.started": "2023-09-27T19:14:35.743464Z"
    }
   },
   "outputs": [],
   "source": [
    "# Get the Stacked Ensemble metalearner model\n",
    "metalearner = h2o.get_model(se.metalearner()['name'])"
   ]
  },
  {
   "cell_type": "code",
   "execution_count": null,
   "id": "c7af4f42-819b-4847-9a99-bf5dc8bdb415",
   "metadata": {
    "execution": {
     "iopub.status.busy": "2023-09-27T19:14:35.746622Z",
     "iopub.status.idle": "2023-09-27T19:14:35.747136Z",
     "shell.execute_reply": "2023-09-27T19:14:35.746887Z",
     "shell.execute_reply.started": "2023-09-27T19:14:35.746862Z"
    }
   },
   "outputs": [],
   "source": [
    "metalearner.coef_norm()"
   ]
  },
  {
   "cell_type": "code",
   "execution_count": null,
   "id": "f0e7d44b-dc30-4bb5-b00e-1ae48a79b1dd",
   "metadata": {
    "execution": {
     "iopub.status.busy": "2023-09-27T19:14:35.748847Z",
     "iopub.status.idle": "2023-09-27T19:14:35.749359Z",
     "shell.execute_reply": "2023-09-27T19:14:35.749113Z",
     "shell.execute_reply.started": "2023-09-27T19:14:35.749088Z"
    }
   },
   "outputs": [],
   "source": [
    "%matplotlib inline\n",
    "#metalearner.std_coef_plot()"
   ]
  },
  {
   "cell_type": "markdown",
   "id": "4183ebec-9aa3-43d4-a5c6-71190f85a0f1",
   "metadata": {},
   "source": [
    "# Что с важностью признаков"
   ]
  },
  {
   "cell_type": "code",
   "execution_count": null,
   "id": "69c9e567-77c9-4bb6-8f60-adaa960feeb9",
   "metadata": {
    "execution": {
     "iopub.status.busy": "2023-09-27T19:14:35.751090Z",
     "iopub.status.idle": "2023-09-27T19:14:35.751768Z",
     "shell.execute_reply": "2023-09-27T19:14:35.751460Z",
     "shell.execute_reply.started": "2023-09-27T19:14:35.751430Z"
    }
   },
   "outputs": [],
   "source": [
    "for model_id in model_ids:\n",
    "  try:\n",
    "    print(f\"Model ID: {model_id}\")\n",
    "    aml_unit = h2o.get_model(model_id)\n",
    "    aml_unit.varimp_plot()\n",
    "  except:\n",
    "    print(f\"{model_id} - ERROR PLOTTING\") "
   ]
  },
  {
   "cell_type": "markdown",
   "id": "1e3d0e82-a793-4834-8cb0-26b0d5a6146c",
   "metadata": {},
   "source": [
    "# Что с переобученносью"
   ]
  },
  {
   "cell_type": "code",
   "execution_count": null,
   "id": "c67b5bee-e3a2-4a36-9f21-f089d79801c5",
   "metadata": {
    "execution": {
     "iopub.status.busy": "2023-09-27T19:14:35.753606Z",
     "iopub.status.idle": "2023-09-27T19:14:35.754135Z",
     "shell.execute_reply": "2023-09-27T19:14:35.753882Z",
     "shell.execute_reply.started": "2023-09-27T19:14:35.753859Z"
    }
   },
   "outputs": [],
   "source": [
    "import pandas as pd\n",
    "from sklearn.metrics import r2_score\n",
    "\n",
    "for model_id in model_ids:\n",
    "  try:\n",
    "    print(f\"Model ID: {model_id}\")\n",
    "    aml_unit = h2o.get_model(model_id)\n",
    "    perf = aml_unit.model_performance(valid)\n",
    "    print(perf)\n",
    "    print(f\"R2 cross validation: {aml_unit.r2()}\")\n",
    "    print(f\"R2 test validation: {aml_unit.r2(valid=True)}\")\n",
    "    # прогноз лидирующей моделю на валидационной выборке\n",
    "    val_pred=aml_unit.predict(unseen).as_data_frame()\n",
    "    # из валидационного датасеат возбму столбец Stay и сконвертиую его в пандас датафрейм\n",
    "    val_test = unseen['abc_xyz_class'].as_data_frame()\n",
    "    r2_unseen = r2_score(val_test, val_pred)\n",
    "    print(f\"R2 unseen dataset validation: {r2_unseen}\")\n",
    "    print(\"-------------------\\n-------------------\")\n",
    "  except:\n",
    "    print(f\"{model_id} - ERROR CALCULATE PERFOMANCE\")"
   ]
  },
  {
   "cell_type": "markdown",
   "id": "af99124f-2607-4e3b-b047-bff7597adfce",
   "metadata": {},
   "source": [
    "# Графии кривых обучения"
   ]
  },
  {
   "cell_type": "code",
   "execution_count": null,
   "id": "47d86507-0d30-4f8f-bc7d-f4eae0df1fe2",
   "metadata": {
    "execution": {
     "iopub.status.busy": "2023-09-27T19:14:35.755689Z",
     "iopub.status.idle": "2023-09-27T19:14:35.756655Z",
     "shell.execute_reply": "2023-09-27T19:14:35.756434Z",
     "shell.execute_reply.started": "2023-09-27T19:14:35.756410Z"
    }
   },
   "outputs": [],
   "source": [
    "for model_id in model_ids:\n",
    "  try:\n",
    "    learning_curve_plot = h2o.get_model(model_id).learning_curve_plot()\n",
    "  except:\n",
    "    print(model_id, \"- ERROR PLOT\")"
   ]
  },
  {
   "cell_type": "markdown",
   "id": "e5fd75e6-ece1-42aa-bd18-4cd3ddd4dcf1",
   "metadata": {},
   "source": [
    "# Сохранение лучше модели"
   ]
  },
  {
   "cell_type": "markdown",
   "id": "adc8a6dc-a8f3-410d-822f-d7c72ac0bcd7",
   "metadata": {},
   "source": [
    "Довольно стаблильный показатель по Р-квадарт"
   ]
  },
  {
   "cell_type": "code",
   "execution_count": null,
   "id": "fab6f450-588d-44d9-ba76-cb08743ec1c4",
   "metadata": {
    "execution": {
     "iopub.status.busy": "2023-09-27T19:14:35.757692Z",
     "iopub.status.idle": "2023-09-27T19:14:35.758141Z",
     "shell.execute_reply": "2023-09-27T19:14:35.757909Z",
     "shell.execute_reply.started": "2023-09-27T19:14:35.757888Z"
    }
   },
   "outputs": [],
   "source": [
    "#besy_model_id = 'StackedEnsemble_BestOfFamily_1_AutoML_4_20230921_114817'"
   ]
  },
  {
   "cell_type": "code",
   "execution_count": null,
   "id": "0b287290-3326-473a-83e4-493edfed7759",
   "metadata": {
    "execution": {
     "iopub.status.busy": "2023-09-27T19:14:35.759376Z",
     "iopub.status.idle": "2023-09-27T19:14:35.759849Z",
     "shell.execute_reply": "2023-09-27T19:14:35.759657Z",
     "shell.execute_reply.started": "2023-09-27T19:14:35.759637Z"
    }
   },
   "outputs": [],
   "source": [
    "# Сохранение лучшей модели\n",
    "#besy_model = h2o.get_model(besy_model_id)\n",
    "#h2o.save_model(besy_model, path = \"./models\")"
   ]
  }
 ],
 "metadata": {
  "kernelspec": {
   "display_name": "Python 3 (ipykernel)",
   "language": "python",
   "name": "python3"
  },
  "language_info": {
   "codemirror_mode": {
    "name": "ipython",
    "version": 3
   },
   "file_extension": ".py",
   "mimetype": "text/x-python",
   "name": "python",
   "nbconvert_exporter": "python",
   "pygments_lexer": "ipython3",
   "version": "3.8.10"
  }
 },
 "nbformat": 4,
 "nbformat_minor": 5
}
