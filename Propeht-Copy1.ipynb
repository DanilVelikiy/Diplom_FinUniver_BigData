{
 "cells": [
  {
   "cell_type": "code",
   "execution_count": 1,
   "id": "15c3d1f4-23e0-4bb0-93cd-13e7d3b5fc66",
   "metadata": {
    "execution": {
     "iopub.execute_input": "2023-09-17T17:37:37.213505Z",
     "iopub.status.busy": "2023-09-17T17:37:37.212375Z",
     "iopub.status.idle": "2023-09-17T17:38:17.582685Z",
     "shell.execute_reply": "2023-09-17T17:38:17.580100Z",
     "shell.execute_reply.started": "2023-09-17T17:37:37.213400Z"
    }
   },
   "outputs": [],
   "source": [
    "import pandas as pd\n",
    "import numpy as np\n",
    "#import seaborn as sns\n",
    "import math\n",
    "from neuralprophet import NeuralProphet"
   ]
  },
  {
   "cell_type": "code",
   "execution_count": 2,
   "id": "e1aea2bb-c446-4772-9be7-163ed82472b6",
   "metadata": {
    "execution": {
     "iopub.execute_input": "2023-09-17T17:38:23.011476Z",
     "iopub.status.busy": "2023-09-17T17:38:23.010652Z",
     "iopub.status.idle": "2023-09-17T17:38:32.689559Z",
     "shell.execute_reply": "2023-09-17T17:38:32.686669Z",
     "shell.execute_reply.started": "2023-09-17T17:38:23.011440Z"
    }
   },
   "outputs": [
    {
     "name": "stderr",
     "output_type": "stream",
     "text": [
      "WARNING - (py.warnings._showwarnmsg) - /tmp/ipykernel_124/2940781367.py:2: DtypeWarning: Columns (22,23) have mixed types. Specify dtype option on import or set low_memory=False.\n",
      "  df4eda = pd.read_csv(file, index_col=0)\n",
      "\n"
     ]
    },
    {
     "data": {
      "text/html": [
       "<div>\n",
       "<style scoped>\n",
       "    .dataframe tbody tr th:only-of-type {\n",
       "        vertical-align: middle;\n",
       "    }\n",
       "\n",
       "    .dataframe tbody tr th {\n",
       "        vertical-align: top;\n",
       "    }\n",
       "\n",
       "    .dataframe thead th {\n",
       "        text-align: right;\n",
       "    }\n",
       "</style>\n",
       "<table border=\"1\" class=\"dataframe\">\n",
       "  <thead>\n",
       "    <tr style=\"text-align: right;\">\n",
       "      <th></th>\n",
       "      <th>ProductID</th>\n",
       "      <th>Date</th>\n",
       "      <th>Zip</th>\n",
       "      <th>Units</th>\n",
       "      <th>Revenue_T</th>\n",
       "      <th>Manufacturer</th>\n",
       "      <th>Category</th>\n",
       "      <th>Segment</th>\n",
       "      <th>Product</th>\n",
       "      <th>isVanArsdel</th>\n",
       "      <th>...</th>\n",
       "      <th>Running Months</th>\n",
       "      <th>Rolling Period</th>\n",
       "      <th>Rolling Period Sort</th>\n",
       "      <th>MonthIndex</th>\n",
       "      <th>City</th>\n",
       "      <th>State</th>\n",
       "      <th>Region</th>\n",
       "      <th>District</th>\n",
       "      <th>ManufacturerID_y</th>\n",
       "      <th>MfgisVanArsdel</th>\n",
       "    </tr>\n",
       "  </thead>\n",
       "  <tbody>\n",
       "    <tr>\n",
       "      <th>0</th>\n",
       "      <td>981</td>\n",
       "      <td>2014-12-30</td>\n",
       "      <td>6111</td>\n",
       "      <td>12</td>\n",
       "      <td>31676.40</td>\n",
       "      <td>Natura</td>\n",
       "      <td>Urban</td>\n",
       "      <td>Convenience</td>\n",
       "      <td>Natura UC-44</td>\n",
       "      <td>No</td>\n",
       "      <td>...</td>\n",
       "      <td>Running 12 Months</td>\n",
       "      <td>P-00</td>\n",
       "      <td>12.0</td>\n",
       "      <td>192</td>\n",
       "      <td>Newington, CT</td>\n",
       "      <td>CT</td>\n",
       "      <td>East</td>\n",
       "      <td>District #02</td>\n",
       "      <td>8</td>\n",
       "      <td>No</td>\n",
       "    </tr>\n",
       "    <tr>\n",
       "      <th>1</th>\n",
       "      <td>1086</td>\n",
       "      <td>2014-12-30</td>\n",
       "      <td>92879</td>\n",
       "      <td>7</td>\n",
       "      <td>11020.59</td>\n",
       "      <td>Pirum</td>\n",
       "      <td>Rural</td>\n",
       "      <td>Productivity</td>\n",
       "      <td>Pirum RP-32</td>\n",
       "      <td>No</td>\n",
       "      <td>...</td>\n",
       "      <td>Running 12 Months</td>\n",
       "      <td>P-00</td>\n",
       "      <td>12.0</td>\n",
       "      <td>192</td>\n",
       "      <td>Corona, CA</td>\n",
       "      <td>CA</td>\n",
       "      <td>West</td>\n",
       "      <td>District #38</td>\n",
       "      <td>10</td>\n",
       "      <td>No</td>\n",
       "    </tr>\n",
       "    <tr>\n",
       "      <th>2</th>\n",
       "      <td>1085</td>\n",
       "      <td>2014-12-30</td>\n",
       "      <td>92879</td>\n",
       "      <td>7</td>\n",
       "      <td>11020.59</td>\n",
       "      <td>Pirum</td>\n",
       "      <td>Rural</td>\n",
       "      <td>Productivity</td>\n",
       "      <td>Pirum RP-31</td>\n",
       "      <td>No</td>\n",
       "      <td>...</td>\n",
       "      <td>Running 12 Months</td>\n",
       "      <td>P-00</td>\n",
       "      <td>12.0</td>\n",
       "      <td>192</td>\n",
       "      <td>Corona, CA</td>\n",
       "      <td>CA</td>\n",
       "      <td>West</td>\n",
       "      <td>District #38</td>\n",
       "      <td>10</td>\n",
       "      <td>No</td>\n",
       "    </tr>\n",
       "    <tr>\n",
       "      <th>3</th>\n",
       "      <td>489</td>\n",
       "      <td>2014-12-30</td>\n",
       "      <td>32901</td>\n",
       "      <td>3</td>\n",
       "      <td>35010.36</td>\n",
       "      <td>VanArsdel</td>\n",
       "      <td>Urban</td>\n",
       "      <td>Moderation</td>\n",
       "      <td>Maximus UM-94</td>\n",
       "      <td>Yes</td>\n",
       "      <td>...</td>\n",
       "      <td>Running 12 Months</td>\n",
       "      <td>P-00</td>\n",
       "      <td>12.0</td>\n",
       "      <td>192</td>\n",
       "      <td>Melbourne, FL</td>\n",
       "      <td>FL</td>\n",
       "      <td>East</td>\n",
       "      <td>District #10</td>\n",
       "      <td>7</td>\n",
       "      <td>Yes</td>\n",
       "    </tr>\n",
       "    <tr>\n",
       "      <th>4</th>\n",
       "      <td>1989</td>\n",
       "      <td>2014-12-30</td>\n",
       "      <td>84770</td>\n",
       "      <td>3</td>\n",
       "      <td>16441.11</td>\n",
       "      <td>Currus</td>\n",
       "      <td>Rural</td>\n",
       "      <td>Select</td>\n",
       "      <td>Currus RS-08</td>\n",
       "      <td>No</td>\n",
       "      <td>...</td>\n",
       "      <td>Running 12 Months</td>\n",
       "      <td>P-00</td>\n",
       "      <td>12.0</td>\n",
       "      <td>192</td>\n",
       "      <td>Saint George, UT</td>\n",
       "      <td>UT</td>\n",
       "      <td>West</td>\n",
       "      <td>District #38</td>\n",
       "      <td>4</td>\n",
       "      <td>No</td>\n",
       "    </tr>\n",
       "    <tr>\n",
       "      <th>...</th>\n",
       "      <td>...</td>\n",
       "      <td>...</td>\n",
       "      <td>...</td>\n",
       "      <td>...</td>\n",
       "      <td>...</td>\n",
       "      <td>...</td>\n",
       "      <td>...</td>\n",
       "      <td>...</td>\n",
       "      <td>...</td>\n",
       "      <td>...</td>\n",
       "      <td>...</td>\n",
       "      <td>...</td>\n",
       "      <td>...</td>\n",
       "      <td>...</td>\n",
       "      <td>...</td>\n",
       "      <td>...</td>\n",
       "      <td>...</td>\n",
       "      <td>...</td>\n",
       "      <td>...</td>\n",
       "      <td>...</td>\n",
       "      <td>...</td>\n",
       "    </tr>\n",
       "    <tr>\n",
       "      <th>1048570</th>\n",
       "      <td>990</td>\n",
       "      <td>2002-04-30</td>\n",
       "      <td>11752</td>\n",
       "      <td>1</td>\n",
       "      <td>5291.37</td>\n",
       "      <td>Natura</td>\n",
       "      <td>Urban</td>\n",
       "      <td>Convenience</td>\n",
       "      <td>Natura UC-53</td>\n",
       "      <td>No</td>\n",
       "      <td>...</td>\n",
       "      <td>NaN</td>\n",
       "      <td>NaN</td>\n",
       "      <td>NaN</td>\n",
       "      <td>40</td>\n",
       "      <td>Islip Terrace, NY</td>\n",
       "      <td>NY</td>\n",
       "      <td>East</td>\n",
       "      <td>District #03</td>\n",
       "      <td>8</td>\n",
       "      <td>No</td>\n",
       "    </tr>\n",
       "    <tr>\n",
       "      <th>1048571</th>\n",
       "      <td>990</td>\n",
       "      <td>2002-04-30</td>\n",
       "      <td>39367</td>\n",
       "      <td>1</td>\n",
       "      <td>5291.37</td>\n",
       "      <td>Natura</td>\n",
       "      <td>Urban</td>\n",
       "      <td>Convenience</td>\n",
       "      <td>Natura UC-53</td>\n",
       "      <td>No</td>\n",
       "      <td>...</td>\n",
       "      <td>NaN</td>\n",
       "      <td>NaN</td>\n",
       "      <td>NaN</td>\n",
       "      <td>40</td>\n",
       "      <td>Waynesboro, MS</td>\n",
       "      <td>MS</td>\n",
       "      <td>Central</td>\n",
       "      <td>District #24</td>\n",
       "      <td>8</td>\n",
       "      <td>No</td>\n",
       "    </tr>\n",
       "    <tr>\n",
       "      <th>1048572</th>\n",
       "      <td>2169</td>\n",
       "      <td>2002-04-30</td>\n",
       "      <td>98311</td>\n",
       "      <td>1</td>\n",
       "      <td>6614.37</td>\n",
       "      <td>Victoria</td>\n",
       "      <td>Urban</td>\n",
       "      <td>Extreme</td>\n",
       "      <td>Victoria UE-22</td>\n",
       "      <td>No</td>\n",
       "      <td>...</td>\n",
       "      <td>NaN</td>\n",
       "      <td>NaN</td>\n",
       "      <td>NaN</td>\n",
       "      <td>40</td>\n",
       "      <td>Bremerton, WA</td>\n",
       "      <td>WA</td>\n",
       "      <td>West</td>\n",
       "      <td>District #34</td>\n",
       "      <td>14</td>\n",
       "      <td>No</td>\n",
       "    </tr>\n",
       "    <tr>\n",
       "      <th>1048573</th>\n",
       "      <td>1144</td>\n",
       "      <td>2002-04-30</td>\n",
       "      <td>95018</td>\n",
       "      <td>1</td>\n",
       "      <td>4976.37</td>\n",
       "      <td>Pirum</td>\n",
       "      <td>Urban</td>\n",
       "      <td>Regular</td>\n",
       "      <td>Pirum UR-01</td>\n",
       "      <td>No</td>\n",
       "      <td>...</td>\n",
       "      <td>NaN</td>\n",
       "      <td>NaN</td>\n",
       "      <td>NaN</td>\n",
       "      <td>40</td>\n",
       "      <td>Felton, CA</td>\n",
       "      <td>CA</td>\n",
       "      <td>West</td>\n",
       "      <td>District #36</td>\n",
       "      <td>10</td>\n",
       "      <td>No</td>\n",
       "    </tr>\n",
       "    <tr>\n",
       "      <th>1048574</th>\n",
       "      <td>1144</td>\n",
       "      <td>2002-04-30</td>\n",
       "      <td>98682</td>\n",
       "      <td>1</td>\n",
       "      <td>4976.37</td>\n",
       "      <td>Pirum</td>\n",
       "      <td>Urban</td>\n",
       "      <td>Regular</td>\n",
       "      <td>Pirum UR-01</td>\n",
       "      <td>No</td>\n",
       "      <td>...</td>\n",
       "      <td>NaN</td>\n",
       "      <td>NaN</td>\n",
       "      <td>NaN</td>\n",
       "      <td>40</td>\n",
       "      <td>Vancouver, WA</td>\n",
       "      <td>WA</td>\n",
       "      <td>West</td>\n",
       "      <td>District #34</td>\n",
       "      <td>10</td>\n",
       "      <td>No</td>\n",
       "    </tr>\n",
       "  </tbody>\n",
       "</table>\n",
       "<p>1048575 rows × 31 columns</p>\n",
       "</div>"
      ],
      "text/plain": [
       "         ProductID        Date    Zip  Units  Revenue_T Manufacturer Category  \\\n",
       "0              981  2014-12-30   6111     12   31676.40       Natura    Urban   \n",
       "1             1086  2014-12-30  92879      7   11020.59        Pirum    Rural   \n",
       "2             1085  2014-12-30  92879      7   11020.59        Pirum    Rural   \n",
       "3              489  2014-12-30  32901      3   35010.36    VanArsdel    Urban   \n",
       "4             1989  2014-12-30  84770      3   16441.11       Currus    Rural   \n",
       "...            ...         ...    ...    ...        ...          ...      ...   \n",
       "1048570        990  2002-04-30  11752      1    5291.37       Natura    Urban   \n",
       "1048571        990  2002-04-30  39367      1    5291.37       Natura    Urban   \n",
       "1048572       2169  2002-04-30  98311      1    6614.37     Victoria    Urban   \n",
       "1048573       1144  2002-04-30  95018      1    4976.37        Pirum    Urban   \n",
       "1048574       1144  2002-04-30  98682      1    4976.37        Pirum    Urban   \n",
       "\n",
       "              Segment         Product isVanArsdel  ...     Running Months  \\\n",
       "0         Convenience    Natura UC-44          No  ...  Running 12 Months   \n",
       "1        Productivity     Pirum RP-32          No  ...  Running 12 Months   \n",
       "2        Productivity     Pirum RP-31          No  ...  Running 12 Months   \n",
       "3          Moderation   Maximus UM-94         Yes  ...  Running 12 Months   \n",
       "4              Select    Currus RS-08          No  ...  Running 12 Months   \n",
       "...               ...             ...         ...  ...                ...   \n",
       "1048570   Convenience    Natura UC-53          No  ...                NaN   \n",
       "1048571   Convenience    Natura UC-53          No  ...                NaN   \n",
       "1048572       Extreme  Victoria UE-22          No  ...                NaN   \n",
       "1048573       Regular     Pirum UR-01          No  ...                NaN   \n",
       "1048574       Regular     Pirum UR-01          No  ...                NaN   \n",
       "\n",
       "         Rolling Period Rolling Period Sort  MonthIndex               City  \\\n",
       "0                  P-00                12.0         192      Newington, CT   \n",
       "1                  P-00                12.0         192         Corona, CA   \n",
       "2                  P-00                12.0         192         Corona, CA   \n",
       "3                  P-00                12.0         192      Melbourne, FL   \n",
       "4                  P-00                12.0         192   Saint George, UT   \n",
       "...                 ...                 ...         ...                ...   \n",
       "1048570             NaN                 NaN          40  Islip Terrace, NY   \n",
       "1048571             NaN                 NaN          40     Waynesboro, MS   \n",
       "1048572             NaN                 NaN          40      Bremerton, WA   \n",
       "1048573             NaN                 NaN          40         Felton, CA   \n",
       "1048574             NaN                 NaN          40      Vancouver, WA   \n",
       "\n",
       "         State   Region      District  ManufacturerID_y  MfgisVanArsdel  \n",
       "0           CT     East  District #02                 8              No  \n",
       "1           CA     West  District #38                10              No  \n",
       "2           CA     West  District #38                10              No  \n",
       "3           FL     East  District #10                 7             Yes  \n",
       "4           UT     West  District #38                 4              No  \n",
       "...        ...      ...           ...               ...             ...  \n",
       "1048570     NY     East  District #03                 8              No  \n",
       "1048571     MS  Central  District #24                 8              No  \n",
       "1048572     WA     West  District #34                14              No  \n",
       "1048573     CA     West  District #36                10              No  \n",
       "1048574     WA     West  District #34                10              No  \n",
       "\n",
       "[1048575 rows x 31 columns]"
      ]
     },
     "execution_count": 2,
     "metadata": {},
     "output_type": "execute_result"
    }
   ],
   "source": [
    "file = 'df4eda.csv'\n",
    "df4eda = pd.read_csv(file, index_col=0)\n",
    "df4eda"
   ]
  },
  {
   "cell_type": "code",
   "execution_count": 3,
   "id": "7eb662b8-e3e5-43f5-8836-ef451af93640",
   "metadata": {
    "execution": {
     "iopub.execute_input": "2023-09-17T17:38:32.695661Z",
     "iopub.status.busy": "2023-09-17T17:38:32.694719Z",
     "iopub.status.idle": "2023-09-17T17:38:32.958096Z",
     "shell.execute_reply": "2023-09-17T17:38:32.955519Z",
     "shell.execute_reply.started": "2023-09-17T17:38:32.695628Z"
    }
   },
   "outputs": [],
   "source": [
    "df = df4eda.copy()\n",
    "#df.drop(['Zip', 'Region', 'Quarter', 'MonthName', 'Segment', 'RunningMonths', 'isVanArsdel',\n",
    "#                   'MfgisVanArsdel', 'District', 'MonthIndex', 'MonthID', 'Month',\n",
    "#                    'IsCompeteHide', 'ManufacturerID_y', 'Rolling Period Sort', 'Running Year',\n",
    "#                   'Manufacturer', 'Product', 'Rolling Period', 'Running Months', 'ProductID',\n",
    "#        'Units', 'Category', 'ManufacturerID_x', 'IsCompete', 'MonthNo', 'Year', 'City', 'State'], axis=1, inplace=True)\n",
    "df = df[['Date','Revenue_T']]\n",
    "df = df.rename(columns={\"Date\": \"ds\"})"
   ]
  },
  {
   "cell_type": "code",
   "execution_count": 4,
   "id": "295009f3-1c90-4c69-a4a1-6273c809ca4e",
   "metadata": {
    "execution": {
     "iopub.execute_input": "2023-09-17T17:38:32.960372Z",
     "iopub.status.busy": "2023-09-17T17:38:32.960036Z",
     "iopub.status.idle": "2023-09-17T17:38:33.326537Z",
     "shell.execute_reply": "2023-09-17T17:38:33.324177Z",
     "shell.execute_reply.started": "2023-09-17T17:38:32.960339Z"
    }
   },
   "outputs": [
    {
     "name": "stdout",
     "output_type": "stream",
     "text": [
      "<class 'pandas.core.frame.DataFrame'>\n",
      "Int64Index: 1048575 entries, 0 to 1048574\n",
      "Data columns (total 2 columns):\n",
      " #   Column     Non-Null Count    Dtype  \n",
      "---  ------     --------------    -----  \n",
      " 0   ds         1048575 non-null  object \n",
      " 1   Revenue_T  1048534 non-null  float64\n",
      "dtypes: float64(1), object(1)\n",
      "memory usage: 24.0+ MB\n"
     ]
    }
   ],
   "source": [
    "df.info()"
   ]
  },
  {
   "cell_type": "code",
   "execution_count": 5,
   "id": "10cef877-c149-4ed1-b05a-5d91c913cf0a",
   "metadata": {
    "execution": {
     "iopub.execute_input": "2023-09-17T17:38:43.013371Z",
     "iopub.status.busy": "2023-09-17T17:38:43.012153Z",
     "iopub.status.idle": "2023-09-17T17:38:43.397222Z",
     "shell.execute_reply": "2023-09-17T17:38:43.394539Z",
     "shell.execute_reply.started": "2023-09-17T17:38:43.013263Z"
    }
   },
   "outputs": [],
   "source": [
    "# удаление дубликатов\n",
    "df = df.drop_duplicates()\n",
    "\n",
    "#агрегация и суммирование по датам\n",
    "agg_func_math = {\n",
    "    'Revenue_T': ['sum']\n",
    "}\n",
    "\n",
    "# группирую по дате (месяц-год) и считаю статистические величины и все округляю до второго знака\n",
    "df = df.groupby(['ds']).agg(agg_func_math).round(2).reset_index()"
   ]
  },
  {
   "cell_type": "code",
   "execution_count": null,
   "id": "a95e04b4-0e68-403c-a1d7-8da11c969757",
   "metadata": {
    "execution": {
     "iopub.status.busy": "2023-09-12T16:22:47.026558Z",
     "iopub.status.idle": "2023-09-12T16:22:47.026996Z",
     "shell.execute_reply": "2023-09-12T16:22:47.026776Z",
     "shell.execute_reply.started": "2023-09-12T16:22:47.026755Z"
    }
   },
   "outputs": [],
   "source": [
    "duplicate_rows_df = df[df.duplicated()]\n",
    "print(duplicate_rows_df)\n",
    "print(\"number of duplicate rows: \", duplicate_rows_df.shape)"
   ]
  },
  {
   "cell_type": "code",
   "execution_count": 6,
   "id": "44b2bf1c-56fd-4f4c-ab9c-6b13a49545a5",
   "metadata": {
    "execution": {
     "iopub.execute_input": "2023-09-17T17:38:48.899413Z",
     "iopub.status.busy": "2023-09-17T17:38:48.898229Z",
     "iopub.status.idle": "2023-09-17T17:38:48.925462Z",
     "shell.execute_reply": "2023-09-17T17:38:48.924081Z",
     "shell.execute_reply.started": "2023-09-17T17:38:48.899286Z"
    }
   },
   "outputs": [
    {
     "data": {
      "text/html": [
       "<div>\n",
       "<style scoped>\n",
       "    .dataframe tbody tr th:only-of-type {\n",
       "        vertical-align: middle;\n",
       "    }\n",
       "\n",
       "    .dataframe tbody tr th {\n",
       "        vertical-align: top;\n",
       "    }\n",
       "\n",
       "    .dataframe thead th {\n",
       "        text-align: right;\n",
       "    }\n",
       "</style>\n",
       "<table border=\"1\" class=\"dataframe\">\n",
       "  <thead>\n",
       "    <tr style=\"text-align: right;\">\n",
       "      <th></th>\n",
       "      <th>index</th>\n",
       "      <th>ds_</th>\n",
       "      <th>Revenue_T_sum</th>\n",
       "    </tr>\n",
       "  </thead>\n",
       "  <tbody>\n",
       "    <tr>\n",
       "      <th>0</th>\n",
       "      <td>0</td>\n",
       "      <td>2002-04-30</td>\n",
       "      <td>954560.88</td>\n",
       "    </tr>\n",
       "    <tr>\n",
       "      <th>1</th>\n",
       "      <td>1</td>\n",
       "      <td>2002-05-01</td>\n",
       "      <td>501617.97</td>\n",
       "    </tr>\n",
       "    <tr>\n",
       "      <th>2</th>\n",
       "      <td>2</td>\n",
       "      <td>2002-05-02</td>\n",
       "      <td>460054.35</td>\n",
       "    </tr>\n",
       "    <tr>\n",
       "      <th>3</th>\n",
       "      <td>3</td>\n",
       "      <td>2002-05-03</td>\n",
       "      <td>212396.94</td>\n",
       "    </tr>\n",
       "    <tr>\n",
       "      <th>4</th>\n",
       "      <td>4</td>\n",
       "      <td>2002-05-05</td>\n",
       "      <td>634911.48</td>\n",
       "    </tr>\n",
       "    <tr>\n",
       "      <th>...</th>\n",
       "      <td>...</td>\n",
       "      <td>...</td>\n",
       "      <td>...</td>\n",
       "    </tr>\n",
       "    <tr>\n",
       "      <th>4475</th>\n",
       "      <td>4475</td>\n",
       "      <td>2014-12-26</td>\n",
       "      <td>894406.59</td>\n",
       "    </tr>\n",
       "    <tr>\n",
       "      <th>4476</th>\n",
       "      <td>4476</td>\n",
       "      <td>2014-12-27</td>\n",
       "      <td>1072392.93</td>\n",
       "    </tr>\n",
       "    <tr>\n",
       "      <th>4477</th>\n",
       "      <td>4477</td>\n",
       "      <td>2014-12-28</td>\n",
       "      <td>1174332.60</td>\n",
       "    </tr>\n",
       "    <tr>\n",
       "      <th>4478</th>\n",
       "      <td>4478</td>\n",
       "      <td>2014-12-29</td>\n",
       "      <td>420040.53</td>\n",
       "    </tr>\n",
       "    <tr>\n",
       "      <th>4479</th>\n",
       "      <td>4479</td>\n",
       "      <td>2014-12-30</td>\n",
       "      <td>1807761.69</td>\n",
       "    </tr>\n",
       "  </tbody>\n",
       "</table>\n",
       "<p>4480 rows × 3 columns</p>\n",
       "</div>"
      ],
      "text/plain": [
       "      index         ds_  Revenue_T_sum\n",
       "0         0  2002-04-30      954560.88\n",
       "1         1  2002-05-01      501617.97\n",
       "2         2  2002-05-02      460054.35\n",
       "3         3  2002-05-03      212396.94\n",
       "4         4  2002-05-05      634911.48\n",
       "...     ...         ...            ...\n",
       "4475   4475  2014-12-26      894406.59\n",
       "4476   4476  2014-12-27     1072392.93\n",
       "4477   4477  2014-12-28     1174332.60\n",
       "4478   4478  2014-12-29      420040.53\n",
       "4479   4479  2014-12-30     1807761.69\n",
       "\n",
       "[4480 rows x 3 columns]"
      ]
     },
     "execution_count": 6,
     "metadata": {},
     "output_type": "execute_result"
    }
   ],
   "source": [
    "# в новом датасете создам из названий мультииндексных родительских, объединяя через нижнее подчеркивание\n",
    "df.columns = ['_'.join(col) for col in df.columns.values]\n",
    "\n",
    "# сброшу индексы\n",
    "df = df.reset_index()\n",
    "df"
   ]
  },
  {
   "cell_type": "code",
   "execution_count": 7,
   "id": "fc33c7c9-6ebc-40e3-9b2e-805a0917caa2",
   "metadata": {
    "execution": {
     "iopub.execute_input": "2023-09-17T17:38:54.331589Z",
     "iopub.status.busy": "2023-09-17T17:38:54.330396Z",
     "iopub.status.idle": "2023-09-17T17:38:54.358224Z",
     "shell.execute_reply": "2023-09-17T17:38:54.356827Z",
     "shell.execute_reply.started": "2023-09-17T17:38:54.331485Z"
    }
   },
   "outputs": [
    {
     "data": {
      "text/html": [
       "<div>\n",
       "<style scoped>\n",
       "    .dataframe tbody tr th:only-of-type {\n",
       "        vertical-align: middle;\n",
       "    }\n",
       "\n",
       "    .dataframe tbody tr th {\n",
       "        vertical-align: top;\n",
       "    }\n",
       "\n",
       "    .dataframe thead th {\n",
       "        text-align: right;\n",
       "    }\n",
       "</style>\n",
       "<table border=\"1\" class=\"dataframe\">\n",
       "  <thead>\n",
       "    <tr style=\"text-align: right;\">\n",
       "      <th></th>\n",
       "      <th>ds</th>\n",
       "      <th>y</th>\n",
       "    </tr>\n",
       "  </thead>\n",
       "  <tbody>\n",
       "    <tr>\n",
       "      <th>0</th>\n",
       "      <td>2002-04-30</td>\n",
       "      <td>954560.88</td>\n",
       "    </tr>\n",
       "    <tr>\n",
       "      <th>1</th>\n",
       "      <td>2002-05-01</td>\n",
       "      <td>501617.97</td>\n",
       "    </tr>\n",
       "    <tr>\n",
       "      <th>2</th>\n",
       "      <td>2002-05-02</td>\n",
       "      <td>460054.35</td>\n",
       "    </tr>\n",
       "    <tr>\n",
       "      <th>3</th>\n",
       "      <td>2002-05-03</td>\n",
       "      <td>212396.94</td>\n",
       "    </tr>\n",
       "    <tr>\n",
       "      <th>4</th>\n",
       "      <td>2002-05-05</td>\n",
       "      <td>634911.48</td>\n",
       "    </tr>\n",
       "    <tr>\n",
       "      <th>...</th>\n",
       "      <td>...</td>\n",
       "      <td>...</td>\n",
       "    </tr>\n",
       "    <tr>\n",
       "      <th>4475</th>\n",
       "      <td>2014-12-26</td>\n",
       "      <td>894406.59</td>\n",
       "    </tr>\n",
       "    <tr>\n",
       "      <th>4476</th>\n",
       "      <td>2014-12-27</td>\n",
       "      <td>1072392.93</td>\n",
       "    </tr>\n",
       "    <tr>\n",
       "      <th>4477</th>\n",
       "      <td>2014-12-28</td>\n",
       "      <td>1174332.60</td>\n",
       "    </tr>\n",
       "    <tr>\n",
       "      <th>4478</th>\n",
       "      <td>2014-12-29</td>\n",
       "      <td>420040.53</td>\n",
       "    </tr>\n",
       "    <tr>\n",
       "      <th>4479</th>\n",
       "      <td>2014-12-30</td>\n",
       "      <td>1807761.69</td>\n",
       "    </tr>\n",
       "  </tbody>\n",
       "</table>\n",
       "<p>4480 rows × 2 columns</p>\n",
       "</div>"
      ],
      "text/plain": [
       "              ds           y\n",
       "0     2002-04-30   954560.88\n",
       "1     2002-05-01   501617.97\n",
       "2     2002-05-02   460054.35\n",
       "3     2002-05-03   212396.94\n",
       "4     2002-05-05   634911.48\n",
       "...          ...         ...\n",
       "4475  2014-12-26   894406.59\n",
       "4476  2014-12-27  1072392.93\n",
       "4477  2014-12-28  1174332.60\n",
       "4478  2014-12-29   420040.53\n",
       "4479  2014-12-30  1807761.69\n",
       "\n",
       "[4480 rows x 2 columns]"
      ]
     },
     "execution_count": 7,
     "metadata": {},
     "output_type": "execute_result"
    }
   ],
   "source": [
    "df = df.rename(columns={\"ds_\": \"ds\", \"Revenue_T_sum\": \"y\"})\n",
    "df.drop(['index'], axis=1, inplace=True)\n",
    "df"
   ]
  },
  {
   "cell_type": "code",
   "execution_count": null,
   "id": "b31896cf-7408-4546-abbb-1e09493fdd69",
   "metadata": {
    "execution": {
     "iopub.status.busy": "2023-09-12T16:22:47.031866Z",
     "iopub.status.idle": "2023-09-12T16:22:47.032549Z",
     "shell.execute_reply": "2023-09-12T16:22:47.032341Z",
     "shell.execute_reply.started": "2023-09-12T16:22:47.032318Z"
    }
   },
   "outputs": [],
   "source": [
    "#df['ds'] = df4eda['Date']\n",
    "#df['x'] = df4eda['Revenue_T']\n",
    "#df = df['ds'].concat(df['x'])\n",
    "#df"
   ]
  },
  {
   "cell_type": "code",
   "execution_count": 8,
   "id": "fcfb77dc-7d5f-45d5-bdda-c1dac6d71035",
   "metadata": {
    "execution": {
     "iopub.execute_input": "2023-09-17T17:38:58.428777Z",
     "iopub.status.busy": "2023-09-17T17:38:58.427614Z",
     "iopub.status.idle": "2023-09-17T17:41:06.283735Z",
     "shell.execute_reply": "2023-09-17T17:41:06.281901Z",
     "shell.execute_reply.started": "2023-09-17T17:38:58.428675Z"
    }
   },
   "outputs": [
    {
     "name": "stderr",
     "output_type": "stream",
     "text": [
      "WARNING - (NP.forecaster.fit) - When Global modeling with local normalization, metrics are displayed in normalized scale.\n",
      "INFO - (NP.df_utils._infer_frequency) - Major frequency D corresponds to 97.21% of the data.\n",
      "INFO - (NP.df_utils._infer_frequency) - Defined frequency is equal to major frequency - D\n",
      "INFO - (NP.config.init_data_params) - Setting normalization to global as only one dataframe provided for training.\n",
      "INFO - (NP.utils.set_auto_seasonalities) - Disabling daily seasonality. Run NeuralProphet with daily_seasonality=True to override this.\n",
      "INFO - (NP.config.set_auto_batch_epoch) - Auto-set batch_size to 32\n",
      "INFO - (NP.config.set_auto_batch_epoch) - Auto-set epochs to 126\n",
      "WARNING - (NP.config.set_lr_finder_args) - Learning rate finder: The number of batches (140) is too small than the required number for the learning rate finder (241). The results might not be optimal.\n",
      "Missing logger folder: /home/jupyter/Diplom/lightning_logs\n"
     ]
    },
    {
     "data": {
      "application/vnd.jupyter.widget-view+json": {
       "model_id": "333196a2320f4a9cb4fcf996a64126b3",
       "version_major": 2,
       "version_minor": 0
      },
      "text/plain": [
       "Finding best initial lr:   0%|          | 0/241 [00:00<?, ?it/s]"
      ]
     },
     "metadata": {},
     "output_type": "display_data"
    },
    {
     "data": {
      "application/vnd.jupyter.widget-view+json": {
       "model_id": "3667b07e3d154c95956ad8dd0b97dd15",
       "version_major": 2,
       "version_minor": 0
      },
      "text/plain": [
       "Training: 0it [00:00, ?it/s]"
      ]
     },
     "metadata": {},
     "output_type": "display_data"
    },
    {
     "name": "stderr",
     "output_type": "stream",
     "text": [
      "INFO - (NP.df_utils._infer_frequency) - Major frequency D corresponds to 97.21% of the data.\n",
      "INFO - (NP.df_utils._infer_frequency) - Defined frequency is equal to major frequency - D\n",
      "INFO - (NP.df_utils._infer_frequency) - Major frequency D corresponds to 97.21% of the data.\n",
      "INFO - (NP.df_utils._infer_frequency) - Defined frequency is equal to major frequency - D\n"
     ]
    },
    {
     "data": {
      "application/vnd.jupyter.widget-view+json": {
       "model_id": "3d313cad7bab455d9aac4b131633cebe",
       "version_major": 2,
       "version_minor": 0
      },
      "text/plain": [
       "Predicting: 140it [00:00, ?it/s]"
      ]
     },
     "metadata": {},
     "output_type": "display_data"
    },
    {
     "name": "stderr",
     "output_type": "stream",
     "text": [
      "INFO - (NP.df_utils.return_df_in_original_format) - Returning df with no ID column\n"
     ]
    }
   ],
   "source": [
    "m = NeuralProphet()\n",
    "\n",
    "metrics = m.fit(df, freq=\"D\")\n",
    "\n",
    "forecast = m.predict(df)"
   ]
  },
  {
   "cell_type": "code",
   "execution_count": 9,
   "id": "0cfb187e-7f45-48d1-8686-ccf5c88516da",
   "metadata": {
    "execution": {
     "iopub.execute_input": "2023-09-17T17:41:21.639459Z",
     "iopub.status.busy": "2023-09-17T17:41:21.638142Z",
     "iopub.status.idle": "2023-09-17T17:41:23.785779Z",
     "shell.execute_reply": "2023-09-17T17:41:23.784167Z",
     "shell.execute_reply.started": "2023-09-17T17:41:21.639316Z"
    }
   },
   "outputs": [
    {
     "name": "stderr",
     "output_type": "stream",
     "text": [
      "17:41:23 - cmdstanpy - INFO - Chain [1] start processing\n",
      "17:41:23 - cmdstanpy - INFO - Chain [1] done processing\n"
     ]
    },
    {
     "data": {
      "text/html": [
       "<div>\n",
       "<style scoped>\n",
       "    .dataframe tbody tr th:only-of-type {\n",
       "        vertical-align: middle;\n",
       "    }\n",
       "\n",
       "    .dataframe tbody tr th {\n",
       "        vertical-align: top;\n",
       "    }\n",
       "\n",
       "    .dataframe thead th {\n",
       "        text-align: right;\n",
       "    }\n",
       "</style>\n",
       "<table border=\"1\" class=\"dataframe\">\n",
       "  <thead>\n",
       "    <tr style=\"text-align: right;\">\n",
       "      <th></th>\n",
       "      <th>ds</th>\n",
       "    </tr>\n",
       "  </thead>\n",
       "  <tbody>\n",
       "    <tr>\n",
       "      <th>4840</th>\n",
       "      <td>2015-12-26</td>\n",
       "    </tr>\n",
       "    <tr>\n",
       "      <th>4841</th>\n",
       "      <td>2015-12-27</td>\n",
       "    </tr>\n",
       "    <tr>\n",
       "      <th>4842</th>\n",
       "      <td>2015-12-28</td>\n",
       "    </tr>\n",
       "    <tr>\n",
       "      <th>4843</th>\n",
       "      <td>2015-12-29</td>\n",
       "    </tr>\n",
       "    <tr>\n",
       "      <th>4844</th>\n",
       "      <td>2015-12-30</td>\n",
       "    </tr>\n",
       "  </tbody>\n",
       "</table>\n",
       "</div>"
      ],
      "text/plain": [
       "             ds\n",
       "4840 2015-12-26\n",
       "4841 2015-12-27\n",
       "4842 2015-12-28\n",
       "4843 2015-12-29\n",
       "4844 2015-12-30"
      ]
     },
     "execution_count": 9,
     "metadata": {},
     "output_type": "execute_result"
    }
   ],
   "source": [
    "from prophet import Prophet\n",
    "\n",
    "m = Prophet()\n",
    "m.fit(df)\n",
    "\n",
    "future = m.make_future_dataframe(periods=365)\n",
    "future.tail()"
   ]
  },
  {
   "cell_type": "code",
   "execution_count": null,
   "id": "c2619940-269d-4855-b149-8f8e7c61a6da",
   "metadata": {
    "execution": {
     "iopub.status.busy": "2023-09-12T16:22:47.039418Z",
     "iopub.status.idle": "2023-09-12T16:22:47.040153Z",
     "shell.execute_reply": "2023-09-12T16:22:47.039960Z",
     "shell.execute_reply.started": "2023-09-12T16:22:47.039939Z"
    }
   },
   "outputs": [],
   "source": [
    "forecast = m.predict(future)\n",
    "forecast[['ds', 'yhat', 'yhat_lower', 'yhat_upper']].tail()"
   ]
  },
  {
   "cell_type": "code",
   "execution_count": null,
   "id": "7535119f-6520-471f-b4d8-ad54109fbc16",
   "metadata": {
    "execution": {
     "iopub.status.busy": "2023-09-12T16:22:47.041355Z",
     "iopub.status.idle": "2023-09-12T16:22:47.041817Z",
     "shell.execute_reply": "2023-09-12T16:22:47.041626Z",
     "shell.execute_reply.started": "2023-09-12T16:22:47.041606Z"
    }
   },
   "outputs": [],
   "source": [
    "fig1 = m.plot(forecast)"
   ]
  },
  {
   "cell_type": "code",
   "execution_count": null,
   "id": "7c777d8c-7cf3-4d73-89d3-47ea3cb1f431",
   "metadata": {
    "execution": {
     "iopub.status.busy": "2023-09-12T16:22:47.043174Z",
     "iopub.status.idle": "2023-09-12T16:22:47.043927Z",
     "shell.execute_reply": "2023-09-12T16:22:47.043680Z",
     "shell.execute_reply.started": "2023-09-12T16:22:47.043658Z"
    }
   },
   "outputs": [],
   "source": [
    "fig2 = m.plot_components(forecast)"
   ]
  },
  {
   "cell_type": "code",
   "execution_count": null,
   "id": "91def1ba-430e-430c-9b85-7302c578f2fe",
   "metadata": {
    "execution": {
     "iopub.status.busy": "2023-09-12T16:22:47.045053Z",
     "iopub.status.idle": "2023-09-12T16:22:47.045844Z",
     "shell.execute_reply": "2023-09-12T16:22:47.045609Z",
     "shell.execute_reply.started": "2023-09-12T16:22:47.045588Z"
    }
   },
   "outputs": [],
   "source": [
    "from prophet.plot import plot_plotly, plot_components_plotly\n",
    "\n",
    "plot_plotly(m, forecast)"
   ]
  },
  {
   "cell_type": "code",
   "execution_count": null,
   "id": "914c7017-251b-4586-8b3e-ed87db6c2acb",
   "metadata": {
    "execution": {
     "iopub.status.busy": "2023-09-12T16:22:47.046997Z",
     "iopub.status.idle": "2023-09-12T16:22:47.047460Z",
     "shell.execute_reply": "2023-09-12T16:22:47.047269Z",
     "shell.execute_reply.started": "2023-09-12T16:22:47.047248Z"
    }
   },
   "outputs": [],
   "source": [
    "plot_components_plotly(m, forecast)"
   ]
  },
  {
   "cell_type": "code",
   "execution_count": null,
   "id": "bb4d4956-94a7-4cb1-a562-0225d8b4397c",
   "metadata": {},
   "outputs": [],
   "source": []
  }
 ],
 "metadata": {
  "kernelspec": {
   "display_name": "Python 3 (ipykernel)",
   "language": "python",
   "name": "python3"
  },
  "language_info": {
   "codemirror_mode": {
    "name": "ipython",
    "version": 3
   },
   "file_extension": ".py",
   "mimetype": "text/x-python",
   "name": "python",
   "nbconvert_exporter": "python",
   "pygments_lexer": "ipython3",
   "version": "3.9.18"
  }
 },
 "nbformat": 4,
 "nbformat_minor": 5
}
